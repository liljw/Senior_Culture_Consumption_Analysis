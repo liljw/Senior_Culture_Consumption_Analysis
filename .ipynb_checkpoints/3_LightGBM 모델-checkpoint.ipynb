{
 "cells": [
  {
   "cell_type": "markdown",
   "id": "df673a91",
   "metadata": {},
   "source": [
    "# LightGBM 예측\n",
    "\n",
    "\n",
    "카테고리 그대로 사용시\n",
    "1. 데이터셋 변환\n",
    "* 타겟 데이터 범위 설정\n",
    "* 범주형 데이터 처리\n",
    "    * 원핫인코딩\n",
    "    * 범주형 변수 나누기 (https://dataplay.tistory.com/2)\n",
    "2. 범주형 변수 학습&예측\n",
    "3. 원핫인코딩 학습&예측\n",
    "\n",
    "\n",
    "LightGBM은 카테고리형 변수도 그대로 학습이 가능합니다. 원핫인코딩보다 성능이 좋은 경우가 많다고 하니 두 가지 경우 모두 확인해보도록 하겠습니다.\n",
    "(https://herjh0405.tistory.com/40)\n"
   ]
  },
  {
   "cell_type": "markdown",
   "id": "65c09488",
   "metadata": {},
   "source": [
    "## 1. 데이터셋 변환"
   ]
  },
  {
   "cell_type": "markdown",
   "id": "b588cded",
   "metadata": {},
   "source": [
    "### 데이터셋 불러오기"
   ]
  },
  {
   "cell_type": "code",
   "execution_count": 1,
   "id": "0c0b120b",
   "metadata": {},
   "outputs": [],
   "source": [
    "import pandas as pd\n",
    "import numpy as np\n",
    "import matplotlib.pyplot as plt\n",
    "from sklearn.model_selection import train_test_split"
   ]
  },
  {
   "cell_type": "code",
   "execution_count": 2,
   "id": "fda84a5c",
   "metadata": {},
   "outputs": [],
   "source": [
    "raw_df = pd.read_csv('data/CS.csv')"
   ]
  },
  {
   "cell_type": "code",
   "execution_count": 3,
   "id": "04966272",
   "metadata": {},
   "outputs": [],
   "source": [
    "# 시도, 성별 drop하기\n",
    "\n",
    "df = raw_df.drop(['sido', 'age'], axis=1)"
   ]
  },
  {
   "cell_type": "code",
   "execution_count": 4,
   "id": "c738f7f7",
   "metadata": {},
   "outputs": [
    {
     "data": {
      "text/html": [
       "<div>\n",
       "<style scoped>\n",
       "    .dataframe tbody tr th:only-of-type {\n",
       "        vertical-align: middle;\n",
       "    }\n",
       "\n",
       "    .dataframe tbody tr th {\n",
       "        vertical-align: top;\n",
       "    }\n",
       "\n",
       "    .dataframe thead th {\n",
       "        text-align: right;\n",
       "    }\n",
       "</style>\n",
       "<table border=\"1\" class=\"dataframe\">\n",
       "  <thead>\n",
       "    <tr style=\"text-align: right;\">\n",
       "      <th></th>\n",
       "      <th>view_cnt</th>\n",
       "      <th>where_cnt</th>\n",
       "      <th>attend_cnt</th>\n",
       "      <th>volunteer_cnt</th>\n",
       "      <th>history_cnt</th>\n",
       "      <th>festival_cnt</th>\n",
       "      <th>standard</th>\n",
       "      <th>block</th>\n",
       "      <th>expense</th>\n",
       "      <th>expense_f</th>\n",
       "      <th>...</th>\n",
       "      <th>history</th>\n",
       "      <th>history_f</th>\n",
       "      <th>festival</th>\n",
       "      <th>festival_f</th>\n",
       "      <th>sex</th>\n",
       "      <th>education</th>\n",
       "      <th>married</th>\n",
       "      <th>work</th>\n",
       "      <th>income</th>\n",
       "      <th>disabled</th>\n",
       "    </tr>\n",
       "  </thead>\n",
       "  <tbody>\n",
       "    <tr>\n",
       "      <th>0</th>\n",
       "      <td>49</td>\n",
       "      <td>0</td>\n",
       "      <td>0</td>\n",
       "      <td>0</td>\n",
       "      <td>5</td>\n",
       "      <td>0</td>\n",
       "      <td>1</td>\n",
       "      <td>1</td>\n",
       "      <td>14</td>\n",
       "      <td>14</td>\n",
       "      <td>...</td>\n",
       "      <td>1</td>\n",
       "      <td>6</td>\n",
       "      <td>2</td>\n",
       "      <td>6</td>\n",
       "      <td>2</td>\n",
       "      <td>3</td>\n",
       "      <td>1</td>\n",
       "      <td>5</td>\n",
       "      <td>3</td>\n",
       "      <td>1</td>\n",
       "    </tr>\n",
       "    <tr>\n",
       "      <th>1</th>\n",
       "      <td>3</td>\n",
       "      <td>5</td>\n",
       "      <td>1</td>\n",
       "      <td>0</td>\n",
       "      <td>1</td>\n",
       "      <td>0</td>\n",
       "      <td>2</td>\n",
       "      <td>6</td>\n",
       "      <td>14</td>\n",
       "      <td>9</td>\n",
       "      <td>...</td>\n",
       "      <td>1</td>\n",
       "      <td>7</td>\n",
       "      <td>2</td>\n",
       "      <td>7</td>\n",
       "      <td>2</td>\n",
       "      <td>3</td>\n",
       "      <td>2</td>\n",
       "      <td>5</td>\n",
       "      <td>7</td>\n",
       "      <td>1</td>\n",
       "    </tr>\n",
       "    <tr>\n",
       "      <th>2</th>\n",
       "      <td>6</td>\n",
       "      <td>0</td>\n",
       "      <td>0</td>\n",
       "      <td>0</td>\n",
       "      <td>0</td>\n",
       "      <td>0</td>\n",
       "      <td>2</td>\n",
       "      <td>1</td>\n",
       "      <td>8</td>\n",
       "      <td>15</td>\n",
       "      <td>...</td>\n",
       "      <td>2</td>\n",
       "      <td>4</td>\n",
       "      <td>2</td>\n",
       "      <td>4</td>\n",
       "      <td>1</td>\n",
       "      <td>3</td>\n",
       "      <td>1</td>\n",
       "      <td>5</td>\n",
       "      <td>6</td>\n",
       "      <td>1</td>\n",
       "    </tr>\n",
       "    <tr>\n",
       "      <th>3</th>\n",
       "      <td>22</td>\n",
       "      <td>12</td>\n",
       "      <td>2</td>\n",
       "      <td>0</td>\n",
       "      <td>0</td>\n",
       "      <td>0</td>\n",
       "      <td>1</td>\n",
       "      <td>2</td>\n",
       "      <td>14</td>\n",
       "      <td>14</td>\n",
       "      <td>...</td>\n",
       "      <td>2</td>\n",
       "      <td>4</td>\n",
       "      <td>2</td>\n",
       "      <td>5</td>\n",
       "      <td>2</td>\n",
       "      <td>4</td>\n",
       "      <td>2</td>\n",
       "      <td>5</td>\n",
       "      <td>5</td>\n",
       "      <td>1</td>\n",
       "    </tr>\n",
       "    <tr>\n",
       "      <th>4</th>\n",
       "      <td>16</td>\n",
       "      <td>3</td>\n",
       "      <td>2</td>\n",
       "      <td>0</td>\n",
       "      <td>2</td>\n",
       "      <td>0</td>\n",
       "      <td>2</td>\n",
       "      <td>1</td>\n",
       "      <td>14</td>\n",
       "      <td>14</td>\n",
       "      <td>...</td>\n",
       "      <td>1</td>\n",
       "      <td>5</td>\n",
       "      <td>2</td>\n",
       "      <td>4</td>\n",
       "      <td>2</td>\n",
       "      <td>4</td>\n",
       "      <td>1</td>\n",
       "      <td>1</td>\n",
       "      <td>3</td>\n",
       "      <td>1</td>\n",
       "    </tr>\n",
       "  </tbody>\n",
       "</table>\n",
       "<p>5 rows × 22 columns</p>\n",
       "</div>"
      ],
      "text/plain": [
       "   view_cnt  where_cnt  attend_cnt  volunteer_cnt  history_cnt  festival_cnt  \\\n",
       "0        49          0           0              0            5             0   \n",
       "1         3          5           1              0            1             0   \n",
       "2         6          0           0              0            0             0   \n",
       "3        22         12           2              0            0             0   \n",
       "4        16          3           2              0            2             0   \n",
       "\n",
       "   standard  block  expense  expense_f  ...  history  history_f  festival  \\\n",
       "0         1      1       14         14  ...        1          6         2   \n",
       "1         2      6       14          9  ...        1          7         2   \n",
       "2         2      1        8         15  ...        2          4         2   \n",
       "3         1      2       14         14  ...        2          4         2   \n",
       "4         2      1       14         14  ...        1          5         2   \n",
       "\n",
       "   festival_f  sex  education  married  work  income  disabled  \n",
       "0           6    2          3        1     5       3         1  \n",
       "1           7    2          3        2     5       7         1  \n",
       "2           4    1          3        1     5       6         1  \n",
       "3           5    2          4        2     5       5         1  \n",
       "4           4    2          4        1     1       3         1  \n",
       "\n",
       "[5 rows x 22 columns]"
      ]
     },
     "execution_count": 4,
     "metadata": {},
     "output_type": "execute_result"
    }
   ],
   "source": [
    "df.head()"
   ]
  },
  {
   "cell_type": "markdown",
   "id": "cbe448b3",
   "metadata": {},
   "source": [
    "!!!!!! 해야 할 일!!!!!! \n",
    "* where_cnt\n",
    "* attend_cnt 등 필요 없는 변수 처리"
   ]
  },
  {
   "cell_type": "markdown",
   "id": "84285d6a",
   "metadata": {},
   "source": [
    "### 타겟/ 데이터 분리"
   ]
  },
  {
   "cell_type": "code",
   "execution_count": 5,
   "id": "9c97c66d",
   "metadata": {},
   "outputs": [],
   "source": [
    "# drop by Name\n",
    "df_data = df.drop(['view_cnt'], axis=1)\n",
    "\n",
    "# Select the ones you want\n",
    "df_target = df[['view_cnt']]"
   ]
  },
  {
   "cell_type": "markdown",
   "id": "c7904972",
   "metadata": {},
   "source": [
    "## 1B 타겟 (View_cnt) 범주형 데이터 처리"
   ]
  },
  {
   "cell_type": "markdown",
   "id": "70ac56e8",
   "metadata": {},
   "source": [
    "### 방법1 카테고리 데이터로 변환"
   ]
  },
  {
   "cell_type": "code",
   "execution_count": 6,
   "id": "408a23b9",
   "metadata": {},
   "outputs": [
    {
     "data": {
      "image/png": "[encoded data removed]",
      "text/plain": [
       "<Figure size 640x480 with 1 Axes>"
      ]
     },
     "metadata": {},
     "output_type": "display_data"
    }
   ],
   "source": [
    "bp = plt.boxplot(df_target)"
   ]
  },
  {
   "cell_type": "code",
   "execution_count": 7,
   "id": "90a805a7",
   "metadata": {},
   "outputs": [
    {
     "name": "stdout",
     "output_type": "stream",
     "text": [
      "Q1: [7.0]\n",
      "Q3: [29.0]\n",
      "median:  15.0\n",
      "mean:  25\n"
     ]
    }
   ],
   "source": [
    "# 박스플롯은 딕셔너리 형태이기 때문에 아래와 같이 키를 가져올 수 있습니다:\n",
    "# bp.keys()\n",
    "q1 = [round(min(item.get_ydata()), 1) for item in bp['boxes']]\n",
    "q3 = [round(max(item.get_ydata()), 1) for item in bp['boxes']]\n",
    "print(f'Q1: {q1}\\n'\n",
    "      f'Q3: {q3}')\n",
    "print('median: ',df_target['view_cnt'].median())\n",
    "print('mean: ',round(df_target['view_cnt'].mean()))\n"
   ]
  },
  {
   "cell_type": "markdown",
   "id": "9f657aba",
   "metadata": {},
   "source": [
    "세 그룹으로 나누기\n",
    "\n",
    "1. 적게 관람한 그룹\n",
    "* 0회 ~ Q1(7회)  => 0\n",
    "2. 평균적으로 관람한 그룹\n",
    "* Q1(7회) ~ mean(25회) => 1 \n",
    "3. 많이 관람한 그룹\n",
    "* mean(25회) ~  => 2"
   ]
  },
  {
   "cell_type": "code",
   "execution_count": 8,
   "id": "ca3661b1",
   "metadata": {},
   "outputs": [
    {
     "data": {
      "text/html": [
       "<div>\n",
       "<style scoped>\n",
       "    .dataframe tbody tr th:only-of-type {\n",
       "        vertical-align: middle;\n",
       "    }\n",
       "\n",
       "    .dataframe tbody tr th {\n",
       "        vertical-align: top;\n",
       "    }\n",
       "\n",
       "    .dataframe thead th {\n",
       "        text-align: right;\n",
       "    }\n",
       "</style>\n",
       "<table border=\"1\" class=\"dataframe\">\n",
       "  <thead>\n",
       "    <tr style=\"text-align: right;\">\n",
       "      <th></th>\n",
       "      <th>view_cnt</th>\n",
       "    </tr>\n",
       "  </thead>\n",
       "  <tbody>\n",
       "    <tr>\n",
       "      <th>0</th>\n",
       "      <td>49</td>\n",
       "    </tr>\n",
       "    <tr>\n",
       "      <th>1</th>\n",
       "      <td>3</td>\n",
       "    </tr>\n",
       "    <tr>\n",
       "      <th>2</th>\n",
       "      <td>6</td>\n",
       "    </tr>\n",
       "    <tr>\n",
       "      <th>3</th>\n",
       "      <td>22</td>\n",
       "    </tr>\n",
       "    <tr>\n",
       "      <th>4</th>\n",
       "      <td>16</td>\n",
       "    </tr>\n",
       "    <tr>\n",
       "      <th>...</th>\n",
       "      <td>...</td>\n",
       "    </tr>\n",
       "    <tr>\n",
       "      <th>20619</th>\n",
       "      <td>59</td>\n",
       "    </tr>\n",
       "    <tr>\n",
       "      <th>20620</th>\n",
       "      <td>49</td>\n",
       "    </tr>\n",
       "    <tr>\n",
       "      <th>20621</th>\n",
       "      <td>4</td>\n",
       "    </tr>\n",
       "    <tr>\n",
       "      <th>20622</th>\n",
       "      <td>58</td>\n",
       "    </tr>\n",
       "    <tr>\n",
       "      <th>20623</th>\n",
       "      <td>47</td>\n",
       "    </tr>\n",
       "  </tbody>\n",
       "</table>\n",
       "<p>20624 rows × 1 columns</p>\n",
       "</div>"
      ],
      "text/plain": [
       "       view_cnt\n",
       "0            49\n",
       "1             3\n",
       "2             6\n",
       "3            22\n",
       "4            16\n",
       "...         ...\n",
       "20619        59\n",
       "20620        49\n",
       "20621         4\n",
       "20622        58\n",
       "20623        47\n",
       "\n",
       "[20624 rows x 1 columns]"
      ]
     },
     "execution_count": 8,
     "metadata": {},
     "output_type": "execute_result"
    }
   ],
   "source": [
    "df_target\n",
    "# 0로 채워진 view_cat category 생성\n",
    "# df_target['view_cat'] = 0"
   ]
  },
  {
   "cell_type": "code",
   "execution_count": 9,
   "id": "b2ce88f2",
   "metadata": {},
   "outputs": [
    {
     "name": "stderr",
     "output_type": "stream",
     "text": [
      "/var/folders/4w/6qs7j4ts30gbpm461svyy5vc0000gn/T/ipykernel_40472/1047486279.py:2: SettingWithCopyWarning: \n",
      "A value is trying to be set on a copy of a slice from a DataFrame.\n",
      "Try using .loc[row_indexer,col_indexer] = value instead\n",
      "\n",
      "See the caveats in the documentation: https://pandas.pydata.org/pandas-docs/stable/user_guide/indexing.html#returning-a-view-versus-a-copy\n",
      "  df_target.loc[(7 <= df_target['view_cnt']) & (df_target['view_cnt'] <25), 'view_cat'] = 1\n"
     ]
    }
   ],
   "source": [
    "# 7보다 크거나 같고 25보다 작을시 view_cat 값을 1로 설정\n",
    "df_target.loc[(7 <= df_target['view_cnt']) & (df_target['view_cnt'] <25), 'view_cat'] = 1\n",
    "# 25보다 클시 view_cat 값을 2로 설정\n",
    "df_target.loc[25 < df_target['view_cnt'], 'view_cat'] = 2\n",
    "df_target\n",
    "# df_target['view_cnt'][2]\n",
    "\n",
    "# view_cnt 열 삭제\n",
    "df_target = df_target.drop(['view_cnt'], axis='columns')"
   ]
  },
  {
   "cell_type": "markdown",
   "id": "47054334",
   "metadata": {},
   "source": [
    "## 2 범주형 변수 학습&예측"
   ]
  },
  {
   "cell_type": "markdown",
   "id": "49158704",
   "metadata": {},
   "source": [
    "### Test Train split"
   ]
  },
  {
   "cell_type": "code",
   "execution_count": 10,
   "id": "a4b701c1",
   "metadata": {},
   "outputs": [],
   "source": [
    "# 전체 데이터 중 80%는 학습용 데이터, 20%는 테스트용 데이터 추출\n",
    "X_train, X_test, y_train, y_test=train_test_split(df_data, \n",
    "                                                  df_target, \n",
    "                                                  test_size=0.2, \n",
    "                                                  random_state=156 )"
   ]
  },
  {
   "cell_type": "markdown",
   "id": "8d5369a2",
   "metadata": {},
   "source": [
    "### 모델 학습"
   ]
  },
  {
   "cell_type": "code",
   "execution_count": 11,
   "id": "8503f0d3",
   "metadata": {},
   "outputs": [],
   "source": [
    "from lightgbm import LGBMClassifier\n",
    "\n",
    "# 분류기 수 : 400\n",
    "lgbm_clf = LGBMClassifier(n_estimators=400)\n",
    "\n",
    "eval_data = [(X_test, y_test)]"
   ]
  },
  {
   "cell_type": "code",
   "execution_count": 12,
   "id": "3e32f3e5",
   "metadata": {},
   "outputs": [],
   "source": [
    "# 범주형 변수 지정\n",
    "cat_features = ['sex', 'age', 'education', 'married', 'work', 'income', 'sido', 'disabled', 'dv_cnt', 'standard', 'block', 'mv_cnt', 'expense', 'expense_f', 'difficulty', 'intention', 'history', 'history_f', 'festival', 'festival_f']\n",
    "\n",
    "# "
   ]
  },
  {
   "cell_type": "code",
   "execution_count": 13,
   "id": "4e82208e",
   "metadata": {},
   "outputs": [
    {
     "ename": "ValueError",
     "evalue": "Input contains NaN.",
     "output_type": "error",
     "traceback": [
      "\u001b[0;31m---------------------------------------------------------------------------\u001b[0m",
      "\u001b[0;31mValueError\u001b[0m                                Traceback (most recent call last)",
      "Cell \u001b[0;32mIn[13], line 3\u001b[0m\n\u001b[1;32m      1\u001b[0m \u001b[38;5;28;01mfrom\u001b[39;00m \u001b[38;5;21;01mlightgbm\u001b[39;00m \u001b[38;5;28;01mimport\u001b[39;00m early_stopping\n\u001b[0;32m----> 3\u001b[0m \u001b[43mlgbm_clf\u001b[49m\u001b[38;5;241;43m.\u001b[39;49m\u001b[43mfit\u001b[49m\u001b[43m(\u001b[49m\u001b[43mX_train\u001b[49m\u001b[43m,\u001b[49m\u001b[43m \u001b[49m\u001b[43my_train\u001b[49m\u001b[43m,\u001b[49m\u001b[43m \u001b[49m\n\u001b[1;32m      4\u001b[0m \u001b[43m            \u001b[49m\u001b[43mcallbacks\u001b[49m\u001b[38;5;241;43m=\u001b[39;49m\u001b[43m[\u001b[49m\u001b[43mearly_stopping\u001b[49m\u001b[43m(\u001b[49m\u001b[38;5;241;43m100\u001b[39;49m\u001b[43m)\u001b[49m\u001b[43m]\u001b[49m\u001b[43m,\u001b[49m\n\u001b[1;32m      5\u001b[0m \u001b[43m            \u001b[49m\u001b[43meval_metric\u001b[49m\u001b[38;5;241;43m=\u001b[39;49m\u001b[38;5;124;43m'\u001b[39;49m\u001b[38;5;124;43mlogloss\u001b[39;49m\u001b[38;5;124;43m'\u001b[39;49m\u001b[43m,\u001b[49m\u001b[43m \u001b[49m\n\u001b[1;32m      6\u001b[0m \u001b[43m            \u001b[49m\u001b[43meval_set\u001b[49m\u001b[38;5;241;43m=\u001b[39;49m\u001b[43meval_data\u001b[49m\u001b[43m,\u001b[49m\n\u001b[1;32m      7\u001b[0m \u001b[43m            \u001b[49m\u001b[43mverbose\u001b[49m\u001b[38;5;241;43m=\u001b[39;49m\u001b[38;5;28;43;01mTrue\u001b[39;49;00m\u001b[43m)\u001b[49m\n",
      "File \u001b[0;32m~/anaconda3/lib/python3.10/site-packages/lightgbm/sklearn.py:922\u001b[0m, in \u001b[0;36mLGBMClassifier.fit\u001b[0;34m(self, X, y, sample_weight, init_score, eval_set, eval_names, eval_sample_weight, eval_class_weight, eval_init_score, eval_metric, early_stopping_rounds, verbose, feature_name, categorical_feature, callbacks, init_model)\u001b[0m\n\u001b[1;32m    914\u001b[0m \u001b[38;5;28;01mdef\u001b[39;00m \u001b[38;5;21mfit\u001b[39m(\u001b[38;5;28mself\u001b[39m, X, y,\n\u001b[1;32m    915\u001b[0m         sample_weight\u001b[38;5;241m=\u001b[39m\u001b[38;5;28;01mNone\u001b[39;00m, init_score\u001b[38;5;241m=\u001b[39m\u001b[38;5;28;01mNone\u001b[39;00m,\n\u001b[1;32m    916\u001b[0m         eval_set\u001b[38;5;241m=\u001b[39m\u001b[38;5;28;01mNone\u001b[39;00m, eval_names\u001b[38;5;241m=\u001b[39m\u001b[38;5;28;01mNone\u001b[39;00m, eval_sample_weight\u001b[38;5;241m=\u001b[39m\u001b[38;5;28;01mNone\u001b[39;00m,\n\u001b[0;32m   (...)\u001b[0m\n\u001b[1;32m    919\u001b[0m         feature_name\u001b[38;5;241m=\u001b[39m\u001b[38;5;124m'\u001b[39m\u001b[38;5;124mauto\u001b[39m\u001b[38;5;124m'\u001b[39m, categorical_feature\u001b[38;5;241m=\u001b[39m\u001b[38;5;124m'\u001b[39m\u001b[38;5;124mauto\u001b[39m\u001b[38;5;124m'\u001b[39m,\n\u001b[1;32m    920\u001b[0m         callbacks\u001b[38;5;241m=\u001b[39m\u001b[38;5;28;01mNone\u001b[39;00m, init_model\u001b[38;5;241m=\u001b[39m\u001b[38;5;28;01mNone\u001b[39;00m):\n\u001b[1;32m    921\u001b[0m     \u001b[38;5;124;03m\"\"\"Docstring is inherited from the LGBMModel.\"\"\"\u001b[39;00m\n\u001b[0;32m--> 922\u001b[0m     \u001b[43m_LGBMAssertAllFinite\u001b[49m\u001b[43m(\u001b[49m\u001b[43my\u001b[49m\u001b[43m)\u001b[49m\n\u001b[1;32m    923\u001b[0m     _LGBMCheckClassificationTargets(y)\n\u001b[1;32m    924\u001b[0m     \u001b[38;5;28mself\u001b[39m\u001b[38;5;241m.\u001b[39m_le \u001b[38;5;241m=\u001b[39m _LGBMLabelEncoder()\u001b[38;5;241m.\u001b[39mfit(y)\n",
      "File \u001b[0;32m~/anaconda3/lib/python3.10/site-packages/sklearn/utils/validation.py:190\u001b[0m, in \u001b[0;36massert_all_finite\u001b[0;34m(X, allow_nan, estimator_name, input_name)\u001b[0m\n\u001b[1;32m    164\u001b[0m \u001b[38;5;28;01mdef\u001b[39;00m \u001b[38;5;21massert_all_finite\u001b[39m(\n\u001b[1;32m    165\u001b[0m     X,\n\u001b[1;32m    166\u001b[0m     \u001b[38;5;241m*\u001b[39m,\n\u001b[0;32m   (...)\u001b[0m\n\u001b[1;32m    169\u001b[0m     input_name\u001b[38;5;241m=\u001b[39m\u001b[38;5;124m\"\u001b[39m\u001b[38;5;124m\"\u001b[39m,\n\u001b[1;32m    170\u001b[0m ):\n\u001b[1;32m    171\u001b[0m     \u001b[38;5;124;03m\"\"\"Throw a ValueError if X contains NaN or infinity.\u001b[39;00m\n\u001b[1;32m    172\u001b[0m \n\u001b[1;32m    173\u001b[0m \u001b[38;5;124;03m    Parameters\u001b[39;00m\n\u001b[0;32m   (...)\u001b[0m\n\u001b[1;32m    188\u001b[0m \u001b[38;5;124;03m        documentation.\u001b[39;00m\n\u001b[1;32m    189\u001b[0m \u001b[38;5;124;03m    \"\"\"\u001b[39;00m\n\u001b[0;32m--> 190\u001b[0m     \u001b[43m_assert_all_finite\u001b[49m\u001b[43m(\u001b[49m\n\u001b[1;32m    191\u001b[0m \u001b[43m        \u001b[49m\u001b[43mX\u001b[49m\u001b[38;5;241;43m.\u001b[39;49m\u001b[43mdata\u001b[49m\u001b[43m \u001b[49m\u001b[38;5;28;43;01mif\u001b[39;49;00m\u001b[43m \u001b[49m\u001b[43msp\u001b[49m\u001b[38;5;241;43m.\u001b[39;49m\u001b[43missparse\u001b[49m\u001b[43m(\u001b[49m\u001b[43mX\u001b[49m\u001b[43m)\u001b[49m\u001b[43m \u001b[49m\u001b[38;5;28;43;01melse\u001b[39;49;00m\u001b[43m \u001b[49m\u001b[43mX\u001b[49m\u001b[43m,\u001b[49m\n\u001b[1;32m    192\u001b[0m \u001b[43m        \u001b[49m\u001b[43mallow_nan\u001b[49m\u001b[38;5;241;43m=\u001b[39;49m\u001b[43mallow_nan\u001b[49m\u001b[43m,\u001b[49m\n\u001b[1;32m    193\u001b[0m \u001b[43m        \u001b[49m\u001b[43mestimator_name\u001b[49m\u001b[38;5;241;43m=\u001b[39;49m\u001b[43mestimator_name\u001b[49m\u001b[43m,\u001b[49m\n\u001b[1;32m    194\u001b[0m \u001b[43m        \u001b[49m\u001b[43minput_name\u001b[49m\u001b[38;5;241;43m=\u001b[39;49m\u001b[43minput_name\u001b[49m\u001b[43m,\u001b[49m\n\u001b[1;32m    195\u001b[0m \u001b[43m    \u001b[49m\u001b[43m)\u001b[49m\n",
      "File \u001b[0;32m~/anaconda3/lib/python3.10/site-packages/sklearn/utils/validation.py:161\u001b[0m, in \u001b[0;36m_assert_all_finite\u001b[0;34m(X, allow_nan, msg_dtype, estimator_name, input_name)\u001b[0m\n\u001b[1;32m    144\u001b[0m \u001b[38;5;28;01mif\u001b[39;00m estimator_name \u001b[38;5;129;01mand\u001b[39;00m input_name \u001b[38;5;241m==\u001b[39m \u001b[38;5;124m\"\u001b[39m\u001b[38;5;124mX\u001b[39m\u001b[38;5;124m\"\u001b[39m \u001b[38;5;129;01mand\u001b[39;00m has_nan_error:\n\u001b[1;32m    145\u001b[0m     \u001b[38;5;66;03m# Improve the error message on how to handle missing values in\u001b[39;00m\n\u001b[1;32m    146\u001b[0m     \u001b[38;5;66;03m# scikit-learn.\u001b[39;00m\n\u001b[1;32m    147\u001b[0m     msg_err \u001b[38;5;241m+\u001b[39m\u001b[38;5;241m=\u001b[39m (\n\u001b[1;32m    148\u001b[0m         \u001b[38;5;124mf\u001b[39m\u001b[38;5;124m\"\u001b[39m\u001b[38;5;130;01m\\n\u001b[39;00m\u001b[38;5;132;01m{\u001b[39;00mestimator_name\u001b[38;5;132;01m}\u001b[39;00m\u001b[38;5;124m does not accept missing values\u001b[39m\u001b[38;5;124m\"\u001b[39m\n\u001b[1;32m    149\u001b[0m         \u001b[38;5;124m\"\u001b[39m\u001b[38;5;124m encoded as NaN natively. For supervised learning, you might want\u001b[39m\u001b[38;5;124m\"\u001b[39m\n\u001b[0;32m   (...)\u001b[0m\n\u001b[1;32m    159\u001b[0m         \u001b[38;5;124m\"\u001b[39m\u001b[38;5;124m#estimators-that-handle-nan-values\u001b[39m\u001b[38;5;124m\"\u001b[39m\n\u001b[1;32m    160\u001b[0m     )\n\u001b[0;32m--> 161\u001b[0m \u001b[38;5;28;01mraise\u001b[39;00m \u001b[38;5;167;01mValueError\u001b[39;00m(msg_err)\n",
      "\u001b[0;31mValueError\u001b[0m: Input contains NaN."
     ]
    }
   ],
   "source": [
    "from lightgbm import early_stopping\n",
    "\n",
    "lgbm_clf.fit(X_train, y_train, \n",
    "            callbacks=[early_stopping(100)],\n",
    "            eval_metric='logloss', \n",
    "            eval_set=eval_data,\n",
    "            verbose=True)\n",
    "            # categorical_feature = cat_features)\n",
    "\n",
    "# Early stopping, best iteration is:\n",
    "# [160]\tvalid_0's multi_logloss: 0.925621\n",
    "\n",
    "#  # 이후 더 이상 향상된 값을 찾을 수 없음"
   ]
  },
  {
   "cell_type": "markdown",
   "id": "5bdb730d",
   "metadata": {},
   "source": [
    "### 모델 예측"
   ]
  },
  {
   "cell_type": "code",
   "execution_count": null,
   "id": "eecd6e85",
   "metadata": {},
   "outputs": [],
   "source": [
    "# 예측\n",
    "y_pred = lgbm_clf.predict(X_test)\n",
    "pred_proba = lgbm_clf.predict_proba(X_test)"
   ]
  },
  {
   "cell_type": "code",
   "execution_count": null,
   "id": "004b3e9f",
   "metadata": {},
   "outputs": [],
   "source": [
    "print(y_pred)\n",
    "print(pred_proba)"
   ]
  },
  {
   "cell_type": "code",
   "execution_count": null,
   "id": "39c19396",
   "metadata": {},
   "outputs": [],
   "source": [
    "roc_auc_score(y_test, pred_proba, multi_class='ovr')"
   ]
  },
  {
   "cell_type": "markdown",
   "id": "e985969c",
   "metadata": {},
   "source": [
    "### 평가"
   ]
  },
  {
   "cell_type": "code",
   "execution_count": null,
   "id": "c7e478c8",
   "metadata": {},
   "outputs": [],
   "source": [
    "# 평가 지표 함수 : 앞에서 작성한 것 복사했음\n",
    "\n",
    "from sklearn.metrics import confusion_matrix, accuracy_score\n",
    "from sklearn.metrics import precision_score, recall_score\n",
    "from sklearn.metrics import f1_score, roc_auc_score\n",
    "\n",
    "def get_clf_eval(y_test, y_pred=None, pred_proba=None):\n",
    "    confusion = confusion_matrix(y_test, y_pred)\n",
    "    accuracy = accuracy_score(y_test , y_pred)\n",
    "    precision = precision_score(y_test , y_pred, average='micro')\n",
    "    recall = recall_score(y_test , y_pred, average='micro')\n",
    "    f1 = f1_score(y_test,y_pred, average='micro')\n",
    "    # ROC-AUC 추가 \n",
    "    roc_auc = roc_auc_score(y_test, pred_proba, multi_class='ovr')\n",
    "    print('오차 행렬')\n",
    "    print(confusion)\n",
    "    # ROC-AUC print 추가\n",
    "    print('정확도: {0:.4f}, 정밀도:{1:4f}, 재현율: {2:.4f}, F1: {2:.4f}, AUC:{4:.4f}'.format(accuracy, f1, recall, precision, roc_auc))\n",
    "    "
   ]
  },
  {
   "cell_type": "code",
   "execution_count": null,
   "id": "bd8edd64",
   "metadata": {},
   "outputs": [],
   "source": [
    "get_clf_eval(y_test, y_pred, pred_proba)\n",
    "\n",
    "# 결과 \n",
    "# 정확도 : 0.5661\n",
    "# binary하지 않은 데이터셋에서는\n",
    "# average='micro'를 사용해야 함\n",
    "# 이 경우에는 accuracy == recall == precision == f1-score가 된다고 함\n",
    "# 출처:\n",
    "# https://stackoverflow.com/questions/52269187/facing-valueerror-target-is-multiclass-but-average-binary"
   ]
  },
  {
   "cell_type": "code",
   "execution_count": null,
   "id": "05e3488f",
   "metadata": {},
   "outputs": [],
   "source": [
    "feat_imp = pd.Series(lgbm_clf.feature_importances_, index=df_data.columns)\n",
    "feat_imp.nlargest(30).plot(kind='barh', figsize=(8,10))"
   ]
  }
 ],
 "metadata": {
  "kernelspec": {
   "display_name": "Python 3 (ipykernel)",
   "language": "python",
   "name": "python3"
  },
  "language_info": {
   "codemirror_mode": {
    "name": "ipython",
    "version": 3
   },
   "file_extension": ".py",
   "mimetype": "text/x-python",
   "name": "python",
   "nbconvert_exporter": "python",
   "pygments_lexer": "ipython3",
   "version": "3.10.10"
  }
 },
 "nbformat": 4,
 "nbformat_minor": 5
}
