{
 "cells": [
  {
   "cell_type": "markdown",
   "id": "e307831b",
   "metadata": {},
   "source": [
    "# 2022_국민문화예술활동조사 전처리\n",
    "\n",
    "2022년 데이터를 찾아 기존에 전처리한 2018+2020 데이터와 병합한다.\n",
    "\n",
    "1. 데이터 로드\n",
    "2. 문자형 데이터 전처리\n",
    "3. 연속형 데이터 전처리\n",
    "4. 데이터프레임 병합\n",
    "5. CSV 파일로 저장"
   ]
  },
  {
   "cell_type": "code",
   "execution_count": 1,
   "id": "0c5acbd3",
   "metadata": {},
   "outputs": [],
   "source": [
    "from IPython.core.interactiveshell import InteractiveShell\n",
    "InteractiveShell.ast_node_interactivity=\"all\""
   ]
  },
  {
   "cell_type": "code",
   "execution_count": 2,
   "id": "b4d98557",
   "metadata": {},
   "outputs": [],
   "source": [
    "import pandas as pd\n",
    "import numpy as np"
   ]
  },
  {
   "cell_type": "markdown",
   "id": "c1fe4b23",
   "metadata": {},
   "source": [
    "## 1 데이터 로드"
   ]
  },
  {
   "cell_type": "code",
   "execution_count": 210,
   "id": "853fea71",
   "metadata": {},
   "outputs": [],
   "source": [
    "# 기존 데이터 불러오기\n",
    "# 2018 + 2020 데이터\n",
    "CS = pd.read_csv('./data/CS.csv', encoding='euc-kr')"
   ]
  },
  {
   "cell_type": "code",
   "execution_count": 211,
   "id": "4489b411",
   "metadata": {},
   "outputs": [
    {
     "data": {
      "text/html": [
       "<div>\n",
       "<style scoped>\n",
       "    .dataframe tbody tr th:only-of-type {\n",
       "        vertical-align: middle;\n",
       "    }\n",
       "\n",
       "    .dataframe tbody tr th {\n",
       "        vertical-align: top;\n",
       "    }\n",
       "\n",
       "    .dataframe thead th {\n",
       "        text-align: right;\n",
       "    }\n",
       "</style>\n",
       "<table border=\"1\" class=\"dataframe\">\n",
       "  <thead>\n",
       "    <tr style=\"text-align: right;\">\n",
       "      <th></th>\n",
       "      <th>view_cnt</th>\n",
       "      <th>where_cnt</th>\n",
       "      <th>attend_cnt</th>\n",
       "      <th>volunteer_cnt</th>\n",
       "      <th>history_cnt</th>\n",
       "      <th>festival_cnt</th>\n",
       "      <th>standard</th>\n",
       "      <th>block</th>\n",
       "      <th>expense</th>\n",
       "      <th>expense_f</th>\n",
       "      <th>...</th>\n",
       "      <th>festival</th>\n",
       "      <th>festival_f</th>\n",
       "      <th>sex</th>\n",
       "      <th>age</th>\n",
       "      <th>education</th>\n",
       "      <th>married</th>\n",
       "      <th>work</th>\n",
       "      <th>income</th>\n",
       "      <th>sido</th>\n",
       "      <th>disabled</th>\n",
       "    </tr>\n",
       "  </thead>\n",
       "  <tbody>\n",
       "    <tr>\n",
       "      <th>0</th>\n",
       "      <td>49</td>\n",
       "      <td>0</td>\n",
       "      <td>0</td>\n",
       "      <td>0</td>\n",
       "      <td>5</td>\n",
       "      <td>0</td>\n",
       "      <td>1</td>\n",
       "      <td>1</td>\n",
       "      <td>14</td>\n",
       "      <td>14</td>\n",
       "      <td>...</td>\n",
       "      <td>2</td>\n",
       "      <td>6</td>\n",
       "      <td>2</td>\n",
       "      <td>5</td>\n",
       "      <td>3</td>\n",
       "      <td>1</td>\n",
       "      <td>5</td>\n",
       "      <td>3</td>\n",
       "      <td>1</td>\n",
       "      <td>1</td>\n",
       "    </tr>\n",
       "    <tr>\n",
       "      <th>1</th>\n",
       "      <td>3</td>\n",
       "      <td>5</td>\n",
       "      <td>1</td>\n",
       "      <td>0</td>\n",
       "      <td>1</td>\n",
       "      <td>0</td>\n",
       "      <td>2</td>\n",
       "      <td>6</td>\n",
       "      <td>14</td>\n",
       "      <td>9</td>\n",
       "      <td>...</td>\n",
       "      <td>2</td>\n",
       "      <td>7</td>\n",
       "      <td>2</td>\n",
       "      <td>5</td>\n",
       "      <td>3</td>\n",
       "      <td>2</td>\n",
       "      <td>5</td>\n",
       "      <td>7</td>\n",
       "      <td>1</td>\n",
       "      <td>1</td>\n",
       "    </tr>\n",
       "    <tr>\n",
       "      <th>2</th>\n",
       "      <td>6</td>\n",
       "      <td>0</td>\n",
       "      <td>0</td>\n",
       "      <td>0</td>\n",
       "      <td>0</td>\n",
       "      <td>0</td>\n",
       "      <td>2</td>\n",
       "      <td>1</td>\n",
       "      <td>8</td>\n",
       "      <td>15</td>\n",
       "      <td>...</td>\n",
       "      <td>2</td>\n",
       "      <td>4</td>\n",
       "      <td>1</td>\n",
       "      <td>2</td>\n",
       "      <td>3</td>\n",
       "      <td>1</td>\n",
       "      <td>5</td>\n",
       "      <td>6</td>\n",
       "      <td>1</td>\n",
       "      <td>1</td>\n",
       "    </tr>\n",
       "    <tr>\n",
       "      <th>3</th>\n",
       "      <td>22</td>\n",
       "      <td>12</td>\n",
       "      <td>2</td>\n",
       "      <td>0</td>\n",
       "      <td>0</td>\n",
       "      <td>0</td>\n",
       "      <td>1</td>\n",
       "      <td>2</td>\n",
       "      <td>14</td>\n",
       "      <td>14</td>\n",
       "      <td>...</td>\n",
       "      <td>2</td>\n",
       "      <td>5</td>\n",
       "      <td>2</td>\n",
       "      <td>4</td>\n",
       "      <td>4</td>\n",
       "      <td>2</td>\n",
       "      <td>5</td>\n",
       "      <td>5</td>\n",
       "      <td>1</td>\n",
       "      <td>1</td>\n",
       "    </tr>\n",
       "    <tr>\n",
       "      <th>4</th>\n",
       "      <td>16</td>\n",
       "      <td>3</td>\n",
       "      <td>2</td>\n",
       "      <td>0</td>\n",
       "      <td>2</td>\n",
       "      <td>0</td>\n",
       "      <td>2</td>\n",
       "      <td>1</td>\n",
       "      <td>14</td>\n",
       "      <td>14</td>\n",
       "      <td>...</td>\n",
       "      <td>2</td>\n",
       "      <td>4</td>\n",
       "      <td>2</td>\n",
       "      <td>3</td>\n",
       "      <td>4</td>\n",
       "      <td>1</td>\n",
       "      <td>1</td>\n",
       "      <td>3</td>\n",
       "      <td>1</td>\n",
       "      <td>1</td>\n",
       "    </tr>\n",
       "    <tr>\n",
       "      <th>...</th>\n",
       "      <td>...</td>\n",
       "      <td>...</td>\n",
       "      <td>...</td>\n",
       "      <td>...</td>\n",
       "      <td>...</td>\n",
       "      <td>...</td>\n",
       "      <td>...</td>\n",
       "      <td>...</td>\n",
       "      <td>...</td>\n",
       "      <td>...</td>\n",
       "      <td>...</td>\n",
       "      <td>...</td>\n",
       "      <td>...</td>\n",
       "      <td>...</td>\n",
       "      <td>...</td>\n",
       "      <td>...</td>\n",
       "      <td>...</td>\n",
       "      <td>...</td>\n",
       "      <td>...</td>\n",
       "      <td>...</td>\n",
       "      <td>...</td>\n",
       "    </tr>\n",
       "    <tr>\n",
       "      <th>20619</th>\n",
       "      <td>59</td>\n",
       "      <td>7</td>\n",
       "      <td>0</td>\n",
       "      <td>0</td>\n",
       "      <td>5</td>\n",
       "      <td>1</td>\n",
       "      <td>4</td>\n",
       "      <td>3</td>\n",
       "      <td>14</td>\n",
       "      <td>14</td>\n",
       "      <td>...</td>\n",
       "      <td>1</td>\n",
       "      <td>6</td>\n",
       "      <td>2</td>\n",
       "      <td>4</td>\n",
       "      <td>4</td>\n",
       "      <td>2</td>\n",
       "      <td>1</td>\n",
       "      <td>6</td>\n",
       "      <td>1</td>\n",
       "      <td>1</td>\n",
       "    </tr>\n",
       "    <tr>\n",
       "      <th>20620</th>\n",
       "      <td>49</td>\n",
       "      <td>6</td>\n",
       "      <td>0</td>\n",
       "      <td>0</td>\n",
       "      <td>2</td>\n",
       "      <td>1</td>\n",
       "      <td>1</td>\n",
       "      <td>2</td>\n",
       "      <td>14</td>\n",
       "      <td>14</td>\n",
       "      <td>...</td>\n",
       "      <td>1</td>\n",
       "      <td>6</td>\n",
       "      <td>2</td>\n",
       "      <td>3</td>\n",
       "      <td>4</td>\n",
       "      <td>2</td>\n",
       "      <td>5</td>\n",
       "      <td>4</td>\n",
       "      <td>1</td>\n",
       "      <td>1</td>\n",
       "    </tr>\n",
       "    <tr>\n",
       "      <th>20621</th>\n",
       "      <td>4</td>\n",
       "      <td>0</td>\n",
       "      <td>0</td>\n",
       "      <td>0</td>\n",
       "      <td>0</td>\n",
       "      <td>0</td>\n",
       "      <td>1</td>\n",
       "      <td>2</td>\n",
       "      <td>17</td>\n",
       "      <td>14</td>\n",
       "      <td>...</td>\n",
       "      <td>2</td>\n",
       "      <td>4</td>\n",
       "      <td>1</td>\n",
       "      <td>5</td>\n",
       "      <td>4</td>\n",
       "      <td>2</td>\n",
       "      <td>2</td>\n",
       "      <td>6</td>\n",
       "      <td>1</td>\n",
       "      <td>1</td>\n",
       "    </tr>\n",
       "    <tr>\n",
       "      <th>20622</th>\n",
       "      <td>58</td>\n",
       "      <td>5</td>\n",
       "      <td>0</td>\n",
       "      <td>0</td>\n",
       "      <td>0</td>\n",
       "      <td>2</td>\n",
       "      <td>1</td>\n",
       "      <td>2</td>\n",
       "      <td>14</td>\n",
       "      <td>14</td>\n",
       "      <td>...</td>\n",
       "      <td>1</td>\n",
       "      <td>6</td>\n",
       "      <td>2</td>\n",
       "      <td>4</td>\n",
       "      <td>4</td>\n",
       "      <td>2</td>\n",
       "      <td>5</td>\n",
       "      <td>5</td>\n",
       "      <td>1</td>\n",
       "      <td>1</td>\n",
       "    </tr>\n",
       "    <tr>\n",
       "      <th>20623</th>\n",
       "      <td>47</td>\n",
       "      <td>13</td>\n",
       "      <td>0</td>\n",
       "      <td>0</td>\n",
       "      <td>0</td>\n",
       "      <td>2</td>\n",
       "      <td>4</td>\n",
       "      <td>2</td>\n",
       "      <td>14</td>\n",
       "      <td>15</td>\n",
       "      <td>...</td>\n",
       "      <td>1</td>\n",
       "      <td>6</td>\n",
       "      <td>2</td>\n",
       "      <td>3</td>\n",
       "      <td>4</td>\n",
       "      <td>1</td>\n",
       "      <td>1</td>\n",
       "      <td>6</td>\n",
       "      <td>1</td>\n",
       "      <td>1</td>\n",
       "    </tr>\n",
       "  </tbody>\n",
       "</table>\n",
       "<p>20624 rows × 24 columns</p>\n",
       "</div>"
      ],
      "text/plain": [
       "       view_cnt  where_cnt  attend_cnt  volunteer_cnt  history_cnt  \\\n",
       "0            49          0           0              0            5   \n",
       "1             3          5           1              0            1   \n",
       "2             6          0           0              0            0   \n",
       "3            22         12           2              0            0   \n",
       "4            16          3           2              0            2   \n",
       "...         ...        ...         ...            ...          ...   \n",
       "20619        59          7           0              0            5   \n",
       "20620        49          6           0              0            2   \n",
       "20621         4          0           0              0            0   \n",
       "20622        58          5           0              0            0   \n",
       "20623        47         13           0              0            0   \n",
       "\n",
       "       festival_cnt  standard  block  expense  expense_f  ...  festival  \\\n",
       "0                 0         1      1       14         14  ...         2   \n",
       "1                 0         2      6       14          9  ...         2   \n",
       "2                 0         2      1        8         15  ...         2   \n",
       "3                 0         1      2       14         14  ...         2   \n",
       "4                 0         2      1       14         14  ...         2   \n",
       "...             ...       ...    ...      ...        ...  ...       ...   \n",
       "20619             1         4      3       14         14  ...         1   \n",
       "20620             1         1      2       14         14  ...         1   \n",
       "20621             0         1      2       17         14  ...         2   \n",
       "20622             2         1      2       14         14  ...         1   \n",
       "20623             2         4      2       14         15  ...         1   \n",
       "\n",
       "       festival_f  sex  age  education  married  work  income  sido  disabled  \n",
       "0               6    2    5          3        1     5       3     1         1  \n",
       "1               7    2    5          3        2     5       7     1         1  \n",
       "2               4    1    2          3        1     5       6     1         1  \n",
       "3               5    2    4          4        2     5       5     1         1  \n",
       "4               4    2    3          4        1     1       3     1         1  \n",
       "...           ...  ...  ...        ...      ...   ...     ...   ...       ...  \n",
       "20619           6    2    4          4        2     1       6     1         1  \n",
       "20620           6    2    3          4        2     5       4     1         1  \n",
       "20621           4    1    5          4        2     2       6     1         1  \n",
       "20622           6    2    4          4        2     5       5     1         1  \n",
       "20623           6    2    3          4        1     1       6     1         1  \n",
       "\n",
       "[20624 rows x 24 columns]"
      ]
     },
     "execution_count": 211,
     "metadata": {},
     "output_type": "execute_result"
    }
   ],
   "source": [
    "# 데이터 확인\n",
    "CS"
   ]
  },
  {
   "cell_type": "code",
   "execution_count": 212,
   "id": "c4b72311",
   "metadata": {},
   "outputs": [
    {
     "name": "stderr",
     "output_type": "stream",
     "text": [
      "/var/folders/4w/6qs7j4ts30gbpm461svyy5vc0000gn/T/ipykernel_57530/336307700.py:2: DtypeWarning: Columns (34,38,40,42,44,59,63,71,73,75,79,81,139,242,251,253,319) have mixed types. Specify dtype option on import or set low_memory=False.\n",
      "  raw_2022 = pd.read_csv('./new_data/국민문화예술활동조사/2022_국민문화예술활동조사.csv')\n"
     ]
    }
   ],
   "source": [
    "# 2022 데이터 불러오기\n",
    "raw_2022 = pd.read_csv('./new_data/국민문화예술활동조사/2022_국민문화예술활동조사.csv')"
   ]
  },
  {
   "cell_type": "code",
   "execution_count": 271,
   "id": "72ca019a",
   "metadata": {},
   "outputs": [
    {
     "data": {
      "text/html": [
       "<div>\n",
       "<style scoped>\n",
       "    .dataframe tbody tr th:only-of-type {\n",
       "        vertical-align: middle;\n",
       "    }\n",
       "\n",
       "    .dataframe tbody tr th {\n",
       "        vertical-align: top;\n",
       "    }\n",
       "\n",
       "    .dataframe thead th {\n",
       "        text-align: right;\n",
       "    }\n",
       "</style>\n",
       "<table border=\"1\" class=\"dataframe\">\n",
       "  <thead>\n",
       "    <tr style=\"text-align: right;\">\n",
       "      <th></th>\n",
       "      <th>ID</th>\n",
       "      <th>EUP</th>\n",
       "      <th>시도권역</th>\n",
       "      <th>주택유형</th>\n",
       "      <th>Q1_1_1_N</th>\n",
       "      <th>Q1_1_2_N</th>\n",
       "      <th>Q1_1_3_N</th>\n",
       "      <th>Q1_1_4_N</th>\n",
       "      <th>Q1_1_5_N</th>\n",
       "      <th>Q1_1_6_N</th>\n",
       "      <th>...</th>\n",
       "      <th>DM6</th>\n",
       "      <th>DM7</th>\n",
       "      <th>DM8</th>\n",
       "      <th>DM9</th>\n",
       "      <th>DM10</th>\n",
       "      <th>DM11</th>\n",
       "      <th>DM12</th>\n",
       "      <th>DM15</th>\n",
       "      <th>DM16</th>\n",
       "      <th>DM17</th>\n",
       "    </tr>\n",
       "  </thead>\n",
       "  <tbody>\n",
       "    <tr>\n",
       "      <th>0</th>\n",
       "      <td>14.0</td>\n",
       "      <td>시부(동)</td>\n",
       "      <td>대전</td>\n",
       "      <td>주택</td>\n",
       "      <td>0.0</td>\n",
       "      <td>0.0</td>\n",
       "      <td>0.0</td>\n",
       "      <td>1.0</td>\n",
       "      <td>0.0</td>\n",
       "      <td>0.0</td>\n",
       "      <td>...</td>\n",
       "      <td>가구주</td>\n",
       "      <td>해당없음(무직)</td>\n",
       "      <td>100-200만원</td>\n",
       "      <td>대도시</td>\n",
       "      <td>충청/세종권</td>\n",
       "      <td>대전</td>\n",
       "      <td>해당사항없음</td>\n",
       "      <td>NaN</td>\n",
       "      <td>NaN</td>\n",
       "      <td>NaN</td>\n",
       "    </tr>\n",
       "    <tr>\n",
       "      <th>1</th>\n",
       "      <td>42.0</td>\n",
       "      <td>군부(읍면)</td>\n",
       "      <td>대구</td>\n",
       "      <td>아파트</td>\n",
       "      <td>0.0</td>\n",
       "      <td>0.0</td>\n",
       "      <td>0.0</td>\n",
       "      <td>0.0</td>\n",
       "      <td>0.0</td>\n",
       "      <td>0.0</td>\n",
       "      <td>...</td>\n",
       "      <td>가구주</td>\n",
       "      <td>해당없음(무직)</td>\n",
       "      <td>100-200만원</td>\n",
       "      <td>읍면지역</td>\n",
       "      <td>대경권</td>\n",
       "      <td>대구</td>\n",
       "      <td>해당사항없음</td>\n",
       "      <td>NaN</td>\n",
       "      <td>NaN</td>\n",
       "      <td>NaN</td>\n",
       "    </tr>\n",
       "    <tr>\n",
       "      <th>2</th>\n",
       "      <td>146.0</td>\n",
       "      <td>군부(읍면)</td>\n",
       "      <td>충북</td>\n",
       "      <td>주택</td>\n",
       "      <td>0.0</td>\n",
       "      <td>0.0</td>\n",
       "      <td>0.0</td>\n",
       "      <td>0.0</td>\n",
       "      <td>0.0</td>\n",
       "      <td>0.0</td>\n",
       "      <td>...</td>\n",
       "      <td>가구주</td>\n",
       "      <td>해당없음(무직)</td>\n",
       "      <td>100-200만원</td>\n",
       "      <td>읍면지역</td>\n",
       "      <td>충청/세종권</td>\n",
       "      <td>충북</td>\n",
       "      <td>해당사항없음</td>\n",
       "      <td>NaN</td>\n",
       "      <td>NaN</td>\n",
       "      <td>NaN</td>\n",
       "    </tr>\n",
       "    <tr>\n",
       "      <th>3</th>\n",
       "      <td>368.0</td>\n",
       "      <td>시부(동)</td>\n",
       "      <td>대전</td>\n",
       "      <td>주택</td>\n",
       "      <td>0.0</td>\n",
       "      <td>0.0</td>\n",
       "      <td>0.0</td>\n",
       "      <td>0.0</td>\n",
       "      <td>0.0</td>\n",
       "      <td>0.0</td>\n",
       "      <td>...</td>\n",
       "      <td>가구주</td>\n",
       "      <td>상용근로자</td>\n",
       "      <td>200-300만원</td>\n",
       "      <td>대도시</td>\n",
       "      <td>충청/세종권</td>\n",
       "      <td>대전</td>\n",
       "      <td>해당사항없음</td>\n",
       "      <td>실시</td>\n",
       "      <td>전일제</td>\n",
       "      <td>해당없음</td>\n",
       "    </tr>\n",
       "    <tr>\n",
       "      <th>4</th>\n",
       "      <td>380.0</td>\n",
       "      <td>시부(동)</td>\n",
       "      <td>서울_북동부</td>\n",
       "      <td>아파트</td>\n",
       "      <td>0.0</td>\n",
       "      <td>0.0</td>\n",
       "      <td>0.0</td>\n",
       "      <td>0.0</td>\n",
       "      <td>0.0</td>\n",
       "      <td>0.0</td>\n",
       "      <td>...</td>\n",
       "      <td>가구주 아님</td>\n",
       "      <td>해당없음(무직)</td>\n",
       "      <td>100-200만원</td>\n",
       "      <td>대도시</td>\n",
       "      <td>수도권</td>\n",
       "      <td>서울</td>\n",
       "      <td>장애등록</td>\n",
       "      <td>NaN</td>\n",
       "      <td>NaN</td>\n",
       "      <td>NaN</td>\n",
       "    </tr>\n",
       "    <tr>\n",
       "      <th>...</th>\n",
       "      <td>...</td>\n",
       "      <td>...</td>\n",
       "      <td>...</td>\n",
       "      <td>...</td>\n",
       "      <td>...</td>\n",
       "      <td>...</td>\n",
       "      <td>...</td>\n",
       "      <td>...</td>\n",
       "      <td>...</td>\n",
       "      <td>...</td>\n",
       "      <td>...</td>\n",
       "      <td>...</td>\n",
       "      <td>...</td>\n",
       "      <td>...</td>\n",
       "      <td>...</td>\n",
       "      <td>...</td>\n",
       "      <td>...</td>\n",
       "      <td>...</td>\n",
       "      <td>...</td>\n",
       "      <td>...</td>\n",
       "      <td>...</td>\n",
       "    </tr>\n",
       "    <tr>\n",
       "      <th>10134</th>\n",
       "      <td>10135.0</td>\n",
       "      <td>시부(동)</td>\n",
       "      <td>충북</td>\n",
       "      <td>주택</td>\n",
       "      <td>0.0</td>\n",
       "      <td>0.0</td>\n",
       "      <td>0.0</td>\n",
       "      <td>0.0</td>\n",
       "      <td>0.0</td>\n",
       "      <td>0.0</td>\n",
       "      <td>...</td>\n",
       "      <td>가구주</td>\n",
       "      <td>상용근로자</td>\n",
       "      <td>300-400만원</td>\n",
       "      <td>중소도시</td>\n",
       "      <td>충청/세종권</td>\n",
       "      <td>충북</td>\n",
       "      <td>해당사항없음</td>\n",
       "      <td>실시</td>\n",
       "      <td>전일제</td>\n",
       "      <td>미실시</td>\n",
       "    </tr>\n",
       "    <tr>\n",
       "      <th>10135</th>\n",
       "      <td>10136.0</td>\n",
       "      <td>시부(동)</td>\n",
       "      <td>강원</td>\n",
       "      <td>아파트</td>\n",
       "      <td>0.0</td>\n",
       "      <td>0.0</td>\n",
       "      <td>0.0</td>\n",
       "      <td>0.0</td>\n",
       "      <td>0.0</td>\n",
       "      <td>0.0</td>\n",
       "      <td>...</td>\n",
       "      <td>가구주 아님</td>\n",
       "      <td>해당없음(무직)</td>\n",
       "      <td>300-400만원</td>\n",
       "      <td>중소도시</td>\n",
       "      <td>강원/제주권</td>\n",
       "      <td>강원</td>\n",
       "      <td>해당사항없음</td>\n",
       "      <td>NaN</td>\n",
       "      <td>NaN</td>\n",
       "      <td>NaN</td>\n",
       "    </tr>\n",
       "    <tr>\n",
       "      <th>10136</th>\n",
       "      <td>10137.0</td>\n",
       "      <td>시부(동)</td>\n",
       "      <td>경남</td>\n",
       "      <td>아파트</td>\n",
       "      <td>0.0</td>\n",
       "      <td>0.0</td>\n",
       "      <td>0.0</td>\n",
       "      <td>0.0</td>\n",
       "      <td>0.0</td>\n",
       "      <td>0.0</td>\n",
       "      <td>...</td>\n",
       "      <td>가구주</td>\n",
       "      <td>해당없음(무직)</td>\n",
       "      <td>100-200만원</td>\n",
       "      <td>중소도시</td>\n",
       "      <td>동남권</td>\n",
       "      <td>경남</td>\n",
       "      <td>해당사항없음</td>\n",
       "      <td>NaN</td>\n",
       "      <td>NaN</td>\n",
       "      <td>NaN</td>\n",
       "    </tr>\n",
       "    <tr>\n",
       "      <th>10137</th>\n",
       "      <td>10138.0</td>\n",
       "      <td>시부(동)</td>\n",
       "      <td>제주</td>\n",
       "      <td>주택</td>\n",
       "      <td>0.0</td>\n",
       "      <td>0.0</td>\n",
       "      <td>0.0</td>\n",
       "      <td>0.0</td>\n",
       "      <td>0.0</td>\n",
       "      <td>0.0</td>\n",
       "      <td>...</td>\n",
       "      <td>가구주 아님</td>\n",
       "      <td>해당없음(무직)</td>\n",
       "      <td>300-400만원</td>\n",
       "      <td>중소도시</td>\n",
       "      <td>강원/제주권</td>\n",
       "      <td>제주</td>\n",
       "      <td>해당사항없음</td>\n",
       "      <td>NaN</td>\n",
       "      <td>NaN</td>\n",
       "      <td>NaN</td>\n",
       "    </tr>\n",
       "    <tr>\n",
       "      <th>10138</th>\n",
       "      <td>10139.0</td>\n",
       "      <td>시부(동)</td>\n",
       "      <td>제주</td>\n",
       "      <td>주택</td>\n",
       "      <td>0.0</td>\n",
       "      <td>0.0</td>\n",
       "      <td>0.0</td>\n",
       "      <td>0.0</td>\n",
       "      <td>0.0</td>\n",
       "      <td>0.0</td>\n",
       "      <td>...</td>\n",
       "      <td>가구주 아님</td>\n",
       "      <td>임시근로자</td>\n",
       "      <td>600만원 이상</td>\n",
       "      <td>중소도시</td>\n",
       "      <td>강원/제주권</td>\n",
       "      <td>제주</td>\n",
       "      <td>해당사항없음</td>\n",
       "      <td>실시</td>\n",
       "      <td>시간 선택제</td>\n",
       "      <td>미실시</td>\n",
       "    </tr>\n",
       "  </tbody>\n",
       "</table>\n",
       "<p>10139 rows × 365 columns</p>\n",
       "</div>"
      ],
      "text/plain": [
       "            ID     EUP    시도권역 주택유형  Q1_1_1_N  Q1_1_2_N  Q1_1_3_N  Q1_1_4_N  \\\n",
       "0         14.0   시부(동)      대전   주택       0.0       0.0       0.0       1.0   \n",
       "1         42.0  군부(읍면)      대구  아파트       0.0       0.0       0.0       0.0   \n",
       "2        146.0  군부(읍면)      충북   주택       0.0       0.0       0.0       0.0   \n",
       "3        368.0   시부(동)      대전   주택       0.0       0.0       0.0       0.0   \n",
       "4        380.0   시부(동)  서울_북동부  아파트       0.0       0.0       0.0       0.0   \n",
       "...        ...     ...     ...  ...       ...       ...       ...       ...   \n",
       "10134  10135.0   시부(동)      충북   주택       0.0       0.0       0.0       0.0   \n",
       "10135  10136.0   시부(동)      강원  아파트       0.0       0.0       0.0       0.0   \n",
       "10136  10137.0   시부(동)      경남  아파트       0.0       0.0       0.0       0.0   \n",
       "10137  10138.0   시부(동)      제주   주택       0.0       0.0       0.0       0.0   \n",
       "10138  10139.0   시부(동)      제주   주택       0.0       0.0       0.0       0.0   \n",
       "\n",
       "       Q1_1_5_N  Q1_1_6_N  ...     DM6       DM7        DM8   DM9    DM10  \\\n",
       "0           0.0       0.0  ...     가구주  해당없음(무직)  100-200만원   대도시  충청/세종권   \n",
       "1           0.0       0.0  ...     가구주  해당없음(무직)  100-200만원  읍면지역     대경권   \n",
       "2           0.0       0.0  ...     가구주  해당없음(무직)  100-200만원  읍면지역  충청/세종권   \n",
       "3           0.0       0.0  ...     가구주     상용근로자  200-300만원   대도시  충청/세종권   \n",
       "4           0.0       0.0  ...  가구주 아님  해당없음(무직)  100-200만원   대도시     수도권   \n",
       "...         ...       ...  ...     ...       ...        ...   ...     ...   \n",
       "10134       0.0       0.0  ...     가구주     상용근로자  300-400만원  중소도시  충청/세종권   \n",
       "10135       0.0       0.0  ...  가구주 아님  해당없음(무직)  300-400만원  중소도시  강원/제주권   \n",
       "10136       0.0       0.0  ...     가구주  해당없음(무직)  100-200만원  중소도시     동남권   \n",
       "10137       0.0       0.0  ...  가구주 아님  해당없음(무직)  300-400만원  중소도시  강원/제주권   \n",
       "10138       0.0       0.0  ...  가구주 아님     임시근로자   600만원 이상  중소도시  강원/제주권   \n",
       "\n",
       "      DM11    DM12 DM15    DM16  DM17  \n",
       "0       대전  해당사항없음  NaN     NaN   NaN  \n",
       "1       대구  해당사항없음  NaN     NaN   NaN  \n",
       "2       충북  해당사항없음  NaN     NaN   NaN  \n",
       "3       대전  해당사항없음   실시     전일제  해당없음  \n",
       "4       서울    장애등록  NaN     NaN   NaN  \n",
       "...    ...     ...  ...     ...   ...  \n",
       "10134   충북  해당사항없음   실시     전일제   미실시  \n",
       "10135   강원  해당사항없음  NaN     NaN   NaN  \n",
       "10136   경남  해당사항없음  NaN     NaN   NaN  \n",
       "10137   제주  해당사항없음  NaN     NaN   NaN  \n",
       "10138   제주  해당사항없음   실시  시간 선택제   미실시  \n",
       "\n",
       "[10139 rows x 365 columns]"
      ]
     },
     "execution_count": 271,
     "metadata": {},
     "output_type": "execute_result"
    }
   ],
   "source": [
    "raw_2022"
   ]
  },
  {
   "cell_type": "markdown",
   "id": "79f0743c",
   "metadata": {},
   "source": [
    "## 2 문자형 데이터 전처리\n",
    "\n",
    "문자형 데이터를 범주형으로 변환해준다.\n"
   ]
  },
  {
   "cell_type": "code",
   "execution_count": 9,
   "id": "afab81b6",
   "metadata": {},
   "outputs": [],
   "source": [
    "# 문자형 데이터 목록\n",
    "\n",
    "# CS 컬럼명    raw_2022 컬럼명\n",
    "\n",
    "# sex         Q24_3\n",
    "# age         DM2\n",
    "# education   DM3\n",
    "# married     DM5\n",
    "# work        DM7\n",
    "# income      DM8\n",
    "# sido        DM11\n",
    "# disabled    DM12\n",
    "# standard    Q3_7\n",
    "# block       Q3_8\n",
    "# expense     Q7_1_1\n",
    "# expense_f   Q7_2_1\n",
    "# difficulty  Q12\n",
    "# intention   Q13\n",
    "# history     Q17\n",
    "# history_f   Q18\n"
   ]
  },
  {
   "cell_type": "markdown",
   "id": "3154ea93",
   "metadata": {},
   "source": [
    "### 2022 전처리 후 데이터프레임 생성"
   ]
  },
  {
   "cell_type": "code",
   "execution_count": 213,
   "id": "b15ea966",
   "metadata": {},
   "outputs": [],
   "source": [
    "# 빈 데이터프레임 생성\n",
    "CS_2022 = pd.DataFrame()"
   ]
  },
  {
   "cell_type": "markdown",
   "id": "45f98af1",
   "metadata": {},
   "source": [
    "### 성별(sex)"
   ]
  },
  {
   "cell_type": "code",
   "execution_count": 215,
   "id": "b6637317",
   "metadata": {},
   "outputs": [
    {
     "data": {
      "text/plain": [
       "array([2, 1])"
      ]
     },
     "execution_count": 215,
     "metadata": {},
     "output_type": "execute_result"
    },
    {
     "data": {
      "text/plain": [
       "array(['여자', '남자'], dtype=object)"
      ]
     },
     "execution_count": 215,
     "metadata": {},
     "output_type": "execute_result"
    },
    {
     "name": "stdout",
     "output_type": "stream",
     "text": [
      "       sex\n",
      "0        2\n",
      "1        1\n",
      "2        1\n",
      "3        2\n",
      "4        1\n",
      "...    ...\n",
      "10134    1\n",
      "10135    2\n",
      "10136    1\n",
      "10137    2\n",
      "10138    2\n",
      "\n",
      "[10139 rows x 1 columns]\n"
     ]
    },
    {
     "data": {
      "text/plain": [
       "sex    0\n",
       "dtype: int64"
      ]
     },
     "execution_count": 215,
     "metadata": {},
     "output_type": "execute_result"
    }
   ],
   "source": [
    "# 기존 데이터프레임의 코드값\n",
    "CS.sex.unique()\n",
    "# 2022 데이터프레임의 코드값\n",
    "raw_2022.Q24_3.unique()\n",
    "\n",
    "# 컬럼의 데이터 숫자형으로 바꿔주기\n",
    "# 남자: 1 \n",
    "# 여자: 2\n",
    "\n",
    "CS_2022['sex'] = raw_2022['Q24_3']\n",
    "CS_2022 = CS_2022.replace({'sex' : {'남자': 1, '여자' : 2}}) \n",
    "print(CS_2022)\n",
    "\n",
    "# NA 확인\n",
    "CS_2022.isna().sum()"
   ]
  },
  {
   "cell_type": "code",
   "execution_count": 216,
   "id": "3f5daf34",
   "metadata": {},
   "outputs": [
    {
     "data": {
      "text/plain": [
       "array([2, 1])"
      ]
     },
     "execution_count": 216,
     "metadata": {},
     "output_type": "execute_result"
    }
   ],
   "source": [
    "CS_2022['sex'].unique()"
   ]
  },
  {
   "cell_type": "markdown",
   "id": "a6b98ad4",
   "metadata": {},
   "source": [
    "### 연령 (age)"
   ]
  },
  {
   "cell_type": "code",
   "execution_count": 217,
   "id": "4bac0c83",
   "metadata": {},
   "outputs": [
    {
     "data": {
      "text/plain": [
       "array([5, 2, 4, 3, 6, 1, 7])"
      ]
     },
     "execution_count": 217,
     "metadata": {},
     "output_type": "execute_result"
    },
    {
     "data": {
      "text/plain": [
       "array(['70세 이상', '40대', '20대', '60대', '50대', '30대', '15-19세'],\n",
       "      dtype=object)"
      ]
     },
     "execution_count": 217,
     "metadata": {},
     "output_type": "execute_result"
    },
    {
     "name": "stdout",
     "output_type": "stream",
     "text": [
      "       sex  age\n",
      "0        2    7\n",
      "1        1    7\n",
      "2        1    7\n",
      "3        2    4\n",
      "4        1    2\n",
      "...    ...  ...\n",
      "10134    1    3\n",
      "10135    2    1\n",
      "10136    1    7\n",
      "10137    2    6\n",
      "10138    2    3\n",
      "\n",
      "[10139 rows x 2 columns]\n"
     ]
    },
    {
     "data": {
      "text/plain": [
       "sex    0\n",
       "age    0\n",
       "dtype: int64"
      ]
     },
     "execution_count": 217,
     "metadata": {},
     "output_type": "execute_result"
    }
   ],
   "source": [
    "# 기존 데이터프레임\n",
    "CS.age.unique()\n",
    "# 2022 데이터프레임\n",
    "raw_2022.DM2.unique()\n",
    "\n",
    "\n",
    "# # 컬럼의 데이터 숫자형으로 바꿔주기\n",
    "# 1 => 15-19세\n",
    "# 2 => 20대\n",
    "# 3 => 30대\n",
    "# 4 => 40대\n",
    "# 5 => 50대\n",
    "# 6 => 60대\n",
    "# 7 => 70세 이상\n",
    "\n",
    "CS_2022['age'] = raw_2022['DM2']\n",
    "CS_2022 = CS_2022.replace({'age' : { '15-19세' : 1, '20대' : 2, '30대' : 3, '40대' : 4, '50대' : 5, '60대' : 6,'70세 이상':7}})\n",
    "\n",
    "print(CS_2022)\n",
    "\n",
    "# NA 확인\n",
    "CS_2022.isna().sum()"
   ]
  },
  {
   "cell_type": "markdown",
   "id": "985ad620",
   "metadata": {},
   "source": [
    "### 학력(education)"
   ]
  },
  {
   "cell_type": "code",
   "execution_count": 218,
   "id": "373d2845",
   "metadata": {},
   "outputs": [
    {
     "data": {
      "text/plain": [
       "array([3, 4, 2, 1])"
      ]
     },
     "execution_count": 218,
     "metadata": {},
     "output_type": "execute_result"
    },
    {
     "data": {
      "text/plain": [
       "array(['중졸', '초졸 이하', '고졸', '대졸 이상'], dtype=object)"
      ]
     },
     "execution_count": 218,
     "metadata": {},
     "output_type": "execute_result"
    },
    {
     "name": "stdout",
     "output_type": "stream",
     "text": [
      "       sex  age  education\n",
      "0        2    7          2\n",
      "1        1    7          1\n",
      "2        1    7          3\n",
      "3        2    4          3\n",
      "4        1    2          3\n",
      "...    ...  ...        ...\n",
      "10134    1    3          4\n",
      "10135    2    1          3\n",
      "10136    1    7          2\n",
      "10137    2    6          4\n",
      "10138    2    3          4\n",
      "\n",
      "[10139 rows x 3 columns]\n"
     ]
    },
    {
     "data": {
      "text/plain": [
       "sex          0\n",
       "age          0\n",
       "education    0\n",
       "dtype: int64"
      ]
     },
     "execution_count": 218,
     "metadata": {},
     "output_type": "execute_result"
    }
   ],
   "source": [
    "# 기존 데이터프레임\n",
    "CS.education.unique()\n",
    "# 2022 데이터프레임\n",
    "raw_2022.DM3.unique()\n",
    "\n",
    "\n",
    "# # 컬럼의 데이터 숫자형으로 바꿔주기\n",
    "# 1 => 초졸 이하\n",
    "# 2 => 중졸\n",
    "# 3 => 고졸\n",
    "# 4 => 대졸 이상\n",
    "\n",
    "CS_2022['education'] = raw_2022['DM3']\n",
    "CS_2022 = CS_2022.replace({'education' : {'초졸 이하' : 1, '중졸' : 2, '고졸' : 3, '대졸 이상' : 4}})\n",
    "print(CS_2022)\n",
    "\n",
    "# NA 확인\n",
    "CS_2022.isna().sum()"
   ]
  },
  {
   "cell_type": "markdown",
   "id": "e616b2b5",
   "metadata": {},
   "source": [
    "### 결혼여부 (married)"
   ]
  },
  {
   "cell_type": "code",
   "execution_count": 219,
   "id": "d90d6a56",
   "metadata": {},
   "outputs": [
    {
     "data": {
      "text/plain": [
       "array([1, 2, 3])"
      ]
     },
     "execution_count": 219,
     "metadata": {},
     "output_type": "execute_result"
    },
    {
     "data": {
      "text/plain": [
       "array(['사별/이혼', '미혼', '기혼'], dtype=object)"
      ]
     },
     "execution_count": 219,
     "metadata": {},
     "output_type": "execute_result"
    },
    {
     "name": "stdout",
     "output_type": "stream",
     "text": [
      "       sex  age  education  married\n",
      "0        2    7          2        3\n",
      "1        1    7          1        3\n",
      "2        1    7          3        1\n",
      "3        2    4          3        3\n",
      "4        1    2          3        1\n",
      "...    ...  ...        ...      ...\n",
      "10134    1    3          4        1\n",
      "10135    2    1          3        1\n",
      "10136    1    7          2        2\n",
      "10137    2    6          4        2\n",
      "10138    2    3          4        1\n",
      "\n",
      "[10139 rows x 4 columns]\n"
     ]
    },
    {
     "data": {
      "text/plain": [
       "sex          0\n",
       "age          0\n",
       "education    0\n",
       "married      0\n",
       "dtype: int64"
      ]
     },
     "execution_count": 219,
     "metadata": {},
     "output_type": "execute_result"
    }
   ],
   "source": [
    "# 기존 데이터프레임\n",
    "CS.married.unique()\n",
    "# 2022 데이터프레임\n",
    "raw_2022.DM5.unique()\n",
    "\n",
    "\n",
    "# 컬럼의 데이터 숫자형으로 바꿔주기\n",
    "# 1 => 미혼\n",
    "# 2 => 기혼\n",
    "# 3 => 사별/이혼\n",
    "\n",
    "CS_2022['married'] = raw_2022['DM5']\n",
    "CS_2022 = CS_2022.replace({'married' : {'미혼' : 1, '기혼' : 2, '사별/이혼' : 3}})\n",
    "print(CS_2022)\n",
    "\n",
    "# NA 확인\n",
    "CS_2022.isna().sum()"
   ]
  },
  {
   "cell_type": "markdown",
   "id": "0f5bb361",
   "metadata": {},
   "source": [
    "### 종사상 지위 (work)\n",
    "\n",
    "원래 코드값과 달라짐\n",
    "\n",
    "CS\n",
    "1 => 임금. 봉급 근로자</br>\n",
    "2 => 고용원을 둔 사업자</br>\n",
    "3 => 고용원이 없는 자영자</br>\n",
    "4 => 무급가족종사자</br>\n",
    "5 => 해당없음(무직:학생포함)</br>\n",
    "\n",
    "2022\n",
    "'해당없음(무직)': 5 </br>\n",
    "'상용근로자' : 1 </br>\n",
    "'일용근로자' : 1 </br>\n",
    "'기타종사자' : 1(어쨌든 근로자로 판단해서 결정) </br>\n",
    "'임시근로자' : 1</br>\n",
    "'고용원이 없는 자영업자' : 3</br>\n",
    "'무급가족종사자' : 4</br>\n",
    "'고용원이 있는 자영업자' : 2</br>"
   ]
  },
  {
   "cell_type": "code",
   "execution_count": 220,
   "id": "51f60af8",
   "metadata": {},
   "outputs": [
    {
     "data": {
      "text/plain": [
       "array([5, 1, 3, 2, 4])"
      ]
     },
     "execution_count": 220,
     "metadata": {},
     "output_type": "execute_result"
    },
    {
     "data": {
      "text/plain": [
       "array(['해당없음(무직)', '상용근로자', '일용근로자', '기타종사자', '임시근로자', '고용원이 없는 자영업자',\n",
       "       '무급가족종사자', '고용원이 있는 자영업자'], dtype=object)"
      ]
     },
     "execution_count": 220,
     "metadata": {},
     "output_type": "execute_result"
    },
    {
     "name": "stdout",
     "output_type": "stream",
     "text": [
      "       sex  age  education  married  work\n",
      "0        2    7          2        3     5\n",
      "1        1    7          1        3     5\n",
      "2        1    7          3        1     5\n",
      "3        2    4          3        3     1\n",
      "4        1    2          3        1     5\n",
      "...    ...  ...        ...      ...   ...\n",
      "10134    1    3          4        1     1\n",
      "10135    2    1          3        1     5\n",
      "10136    1    7          2        2     5\n",
      "10137    2    6          4        2     5\n",
      "10138    2    3          4        1     1\n",
      "\n",
      "[10139 rows x 5 columns]\n"
     ]
    },
    {
     "data": {
      "text/plain": [
       "sex          0\n",
       "age          0\n",
       "education    0\n",
       "married      0\n",
       "work         0\n",
       "dtype: int64"
      ]
     },
     "execution_count": 220,
     "metadata": {},
     "output_type": "execute_result"
    }
   ],
   "source": [
    "# 기존 데이터프레임\n",
    "CS.work.unique()\n",
    "# 2022 데이터프레임\n",
    "raw_2022.DM7.unique()\n",
    "\n",
    "\n",
    "# 컬럼의 데이터 숫자형으로 바꿔주기\n",
    "# 1 => 임금. 봉급 근로자\n",
    "# 2 => 고용원을 둔 사업자\n",
    "# 3 => 고용원이 없는 자영자\n",
    "# 4 => 무급가족종사자\n",
    "# 5 => 해당없음(무직:학생포함)\n",
    "\n",
    "CS_2022['work'] = raw_2022['DM7']\n",
    "CS_2022 = CS_2022.replace({'work' : {'상용근로자' : 1, '일용근로자' : 1, '기타종사자' : 1, '임시근로자' : 1, '고용원이 있는 자영업자' : 2, '고용원이 없는 자영업자' : 3, '무급가족종사자' : 4, '해당없음(무직)' : 5}})\n",
    "print(CS_2022)\n",
    "\n",
    "# NA 확인\n",
    "CS_2022.isna().sum()"
   ]
  },
  {
   "cell_type": "markdown",
   "id": "826c368a",
   "metadata": {},
   "source": [
    "### 가구소득 (income)\n",
    "100만원 미만 : 1 </br>\n",
    "100-200만원 : 2 </br>\n",
    "200-300만원 : 3</br>\n",
    "300-400만원 : 4</br>\n",
    "400-500만원 : 5</br>\n",
    "500-600만원 : 6</br>\n",
    "600만원 이상 : 7</br>"
   ]
  },
  {
   "cell_type": "code",
   "execution_count": 221,
   "id": "cd330be7",
   "metadata": {},
   "outputs": [
    {
     "data": {
      "text/plain": [
       "array([3, 7, 6, 5, 4, 2, 1])"
      ]
     },
     "execution_count": 221,
     "metadata": {},
     "output_type": "execute_result"
    },
    {
     "data": {
      "text/plain": [
       "array(['100-200만원', '200-300만원', '100만원 미만', '500-600만원', '400-500만원',\n",
       "       '600만원 이상', '300-400만원'], dtype=object)"
      ]
     },
     "execution_count": 221,
     "metadata": {},
     "output_type": "execute_result"
    },
    {
     "name": "stdout",
     "output_type": "stream",
     "text": [
      "       sex  age  education  married  work  income\n",
      "0        2    7          2        3     5       2\n",
      "1        1    7          1        3     5       2\n",
      "2        1    7          3        1     5       2\n",
      "3        2    4          3        3     1       3\n",
      "4        1    2          3        1     5       2\n",
      "...    ...  ...        ...      ...   ...     ...\n",
      "10134    1    3          4        1     1       4\n",
      "10135    2    1          3        1     5       4\n",
      "10136    1    7          2        2     5       2\n",
      "10137    2    6          4        2     5       4\n",
      "10138    2    3          4        1     1       7\n",
      "\n",
      "[10139 rows x 6 columns]\n"
     ]
    },
    {
     "data": {
      "text/plain": [
       "sex          0\n",
       "age          0\n",
       "education    0\n",
       "married      0\n",
       "work         0\n",
       "income       0\n",
       "dtype: int64"
      ]
     },
     "execution_count": 221,
     "metadata": {},
     "output_type": "execute_result"
    }
   ],
   "source": [
    "# 기존 데이터프레임\n",
    "CS.income.unique()\n",
    "# 2022 데이터프레임\n",
    "raw_2022.DM8.unique()\n",
    "\n",
    "\n",
    "# 컬럼의 데이터 숫자형으로 바꿔주기\n",
    "# 100만원 미만 : 1\n",
    "# 100-200만원 : 2\n",
    "# 200-300만원 : 3\n",
    "# 300-400만원 : 4\n",
    "# 400-500만원 : 5\n",
    "# 500-600만원 : 6\n",
    "# 600만원 이상 : 7\n",
    "\n",
    "CS_2022['income'] = raw_2022['DM8']\n",
    "CS_2022 = CS_2022.replace({'income':{'100만원 미만' : 1, '100-200만원' : 2, '200-300만원' : 3 ,'300-400만원' : 4, '400-500만원' : 5, '500-600만원' : 6, '600만원 이상' : 7}})\n",
    "\n",
    "print(CS_2022)\n",
    "\n",
    "# NA 확인\n",
    "CS_2022.isna().sum()"
   ]
  },
  {
   "cell_type": "markdown",
   "id": "5f868b9e",
   "metadata": {},
   "source": [
    "### 시도"
   ]
  },
  {
   "cell_type": "code",
   "execution_count": 222,
   "id": "7524687c",
   "metadata": {},
   "outputs": [
    {
     "data": {
      "text/plain": [
       "array([ 1,  2,  3,  4,  5,  6,  7,  8,  9, 10, 11, 12, 13, 14, 15, 16, 17])"
      ]
     },
     "execution_count": 222,
     "metadata": {},
     "output_type": "execute_result"
    },
    {
     "data": {
      "text/plain": [
       "array(['대전', '대구', '충북', '서울', '세종', '충남', '경북', '강원', '경기', '제주', '경남',\n",
       "       '인천', '광주', '부산', '전북', '전남', '울산'], dtype=object)"
      ]
     },
     "execution_count": 222,
     "metadata": {},
     "output_type": "execute_result"
    },
    {
     "name": "stdout",
     "output_type": "stream",
     "text": [
      "       sex  age  education  married  work  income  sido\n",
      "0        2    7          2        3     5       2     6\n",
      "1        1    7          1        3     5       2     3\n",
      "2        1    7          3        1     5       2    11\n",
      "3        2    4          3        3     1       3     6\n",
      "4        1    2          3        1     5       2     1\n",
      "...    ...  ...        ...      ...   ...     ...   ...\n",
      "10134    1    3          4        1     1       4    11\n",
      "10135    2    1          3        1     5       4    10\n",
      "10136    1    7          2        2     5       2    16\n",
      "10137    2    6          4        2     5       4    17\n",
      "10138    2    3          4        1     1       7    17\n",
      "\n",
      "[10139 rows x 7 columns]\n"
     ]
    },
    {
     "data": {
      "text/plain": [
       "sex          0\n",
       "age          0\n",
       "education    0\n",
       "married      0\n",
       "work         0\n",
       "income       0\n",
       "sido         0\n",
       "dtype: int64"
      ]
     },
     "execution_count": 222,
     "metadata": {},
     "output_type": "execute_result"
    }
   ],
   "source": [
    "# 기존 데이터프레임\n",
    "CS.sido.unique()\n",
    "# 2022 데이터프레임\n",
    "raw_2022.DM11.unique()\n",
    "\n",
    "\n",
    "# 컬럼의 데이터 숫자형으로 바꿔주기\n",
    "# '서울' : 1\n",
    "# '부산' : 2\n",
    "# '대구' : 3\n",
    "# '인천' : 4\n",
    "# '광주' : 5\n",
    "# '대전' : 6\n",
    "# '울산' : 7\n",
    "# '세종' : 8\n",
    "# '경기' : 9\n",
    "# '강원' : 10\n",
    "# '충북' : 11\n",
    "# '충남' : 12\n",
    "# '전북' : 13\n",
    "# '전남' : 14\n",
    "# '경북' : 15\n",
    "# '경남' : 16\n",
    "# '제주' : 17\n",
    "\n",
    "CS_2022['sido'] = raw_2022['DM11']\n",
    "CS_2022 = CS_2022.replace({'sido':{'서울' : 1, '부산' : 2, '대구' : 3, '인천' : 4, '광주' : 5, '대전' : 6, '울산' : 7, '세종' : 8, '경기' : 9, '강원' : 10, '충북' : 11, '충남' : 12, '전북' : 13, '전남' : 14, '경북' : 15, '경남' : 16, '제주' : 17}})\n",
    "\n",
    "print(CS_2022)\n",
    "\n",
    "# NA 확인\n",
    "CS_2022.isna().sum()"
   ]
  },
  {
   "cell_type": "markdown",
   "id": "250e3afc",
   "metadata": {},
   "source": [
    "### 장애 여부 (disabled)"
   ]
  },
  {
   "cell_type": "code",
   "execution_count": 223,
   "id": "c4132be2",
   "metadata": {},
   "outputs": [
    {
     "data": {
      "text/plain": [
       "array([1, 2, 3])"
      ]
     },
     "execution_count": 223,
     "metadata": {},
     "output_type": "execute_result"
    },
    {
     "data": {
      "text/plain": [
       "array(['해당사항없음', '장애등록', '미등록'], dtype=object)"
      ]
     },
     "execution_count": 223,
     "metadata": {},
     "output_type": "execute_result"
    },
    {
     "name": "stdout",
     "output_type": "stream",
     "text": [
      "       sex  age  education  married  work  income  sido  disabled\n",
      "0        2    7          2        3     5       2     6         1\n",
      "1        1    7          1        3     5       2     3         1\n",
      "2        1    7          3        1     5       2    11         1\n",
      "3        2    4          3        3     1       3     6         1\n",
      "4        1    2          3        1     5       2     1         3\n",
      "...    ...  ...        ...      ...   ...     ...   ...       ...\n",
      "10134    1    3          4        1     1       4    11         1\n",
      "10135    2    1          3        1     5       4    10         1\n",
      "10136    1    7          2        2     5       2    16         1\n",
      "10137    2    6          4        2     5       4    17         1\n",
      "10138    2    3          4        1     1       7    17         1\n",
      "\n",
      "[10139 rows x 8 columns]\n"
     ]
    },
    {
     "data": {
      "text/plain": [
       "sex          0\n",
       "age          0\n",
       "education    0\n",
       "married      0\n",
       "work         0\n",
       "income       0\n",
       "sido         0\n",
       "disabled     0\n",
       "dtype: int64"
      ]
     },
     "execution_count": 223,
     "metadata": {},
     "output_type": "execute_result"
    }
   ],
   "source": [
    "# 기존 데이터프레임\n",
    "CS.disabled.unique()\n",
    "# 2022 데이터프레임\n",
    "raw_2022.DM12.unique()\n",
    "\n",
    "# 컬럼의 데이터 숫자형으로 바꿔주기\n",
    "# '해당사항없음' :  1\n",
    "# '미등록' : 2\n",
    "# '장애등록' : 3\n",
    "\n",
    "CS_2022['disabled'] = raw_2022['DM12']\n",
    "CS_2022 = CS_2022.replace({'disabled':{'해당사항없음' :  1, '미등록' : 2, '장애등록' : 3}})\n",
    "\n",
    "print(CS_2022)\n",
    "\n",
    "# NA 확인\n",
    "CS_2022.isna().sum()"
   ]
  },
  {
   "cell_type": "markdown",
   "id": "31509045",
   "metadata": {},
   "source": [
    "### 문3-7.문화예술행사(직접관람)_선택기준 (standard)"
   ]
  },
  {
   "cell_type": "markdown",
   "id": "5c574e66",
   "metadata": {},
   "source": [
    "'문화예술행사의 내용 및 수준' : 1 </br>\n",
    "'관람 비용의 적절성' : 2</br>\n",
    "'참가자(작가, 출연진)의 유명도' : 3</br>\n",
    "'행사개최 장소의 유명도' : 4</br>\n",
    "'교통의 편의성' : 5</br>\n",
    "'편의시설 구비여부(놀이방 등)' : 6 </br>\n",
    "'문화예술행사에 대한 전문가 의견, 언론보도' : 7</br>\n",
    "'문화예술행사에 대한 주위 의견, 네티즌 의견' : 8</br>\n",
    "'접근성(가깝다)' : 9</br>\n",
    "'기타' : 10</br>\n",
    "'모름/무응답' : 99</br>"
   ]
  },
  {
   "cell_type": "code",
   "execution_count": 224,
   "id": "147deb15",
   "metadata": {},
   "outputs": [
    {
     "data": {
      "text/plain": [
       "문화예술행사의 내용 및 수준             2868\n",
       "관람 비용의 적절성                  1710\n",
       "접근성(가깝다)                    1499\n",
       "참가자(작가, 출연진)의 유명도           1496\n",
       "교통의 편의성                      900\n",
       "문화예술행사에 대한 주위 의견, 네티즌 의견     655\n",
       "행사개최 장소의 유명도                 454\n",
       "문화예술행사에 대한 전문가 의견, 언론보도      366\n",
       "편의시설 구비여부(놀이방 등)             178\n",
       "기타                            13\n",
       "Name: Q3_7, dtype: int64"
      ]
     },
     "execution_count": 224,
     "metadata": {},
     "output_type": "execute_result"
    }
   ],
   "source": [
    "# 모름/ 무응답이 없으므로 무시\n",
    "raw_2022['Q3_7'].value_counts()"
   ]
  },
  {
   "cell_type": "code",
   "execution_count": 225,
   "id": "9e5b2198",
   "metadata": {},
   "outputs": [
    {
     "data": {
      "text/plain": [
       "array([ 1,  2,  3,  6,  4,  7,  5,  8,  9, 10])"
      ]
     },
     "execution_count": 225,
     "metadata": {},
     "output_type": "execute_result"
    },
    {
     "data": {
      "text/plain": [
       "array(['교통의 편의성', '문화예술행사의 내용 및 수준', '관람 비용의 적절성', '접근성(가깝다)',\n",
       "       '문화예술행사에 대한 주위 의견, 네티즌 의견', '참가자(작가, 출연진)의 유명도',\n",
       "       '문화예술행사에 대한 전문가 의견, 언론보도', '행사개최 장소의 유명도', '편의시설 구비여부(놀이방 등)',\n",
       "       '기타'], dtype=object)"
      ]
     },
     "execution_count": 225,
     "metadata": {},
     "output_type": "execute_result"
    },
    {
     "name": "stdout",
     "output_type": "stream",
     "text": [
      "       sex  age  education  married  work  income  sido  disabled  standard\n",
      "0        2    7          2        3     5       2     6         1         5\n",
      "1        1    7          1        3     5       2     3         1         1\n",
      "2        1    7          3        1     5       2    11         1         2\n",
      "3        2    4          3        3     1       3     6         1         5\n",
      "4        1    2          3        1     5       2     1         3         5\n",
      "...    ...  ...        ...      ...   ...     ...   ...       ...       ...\n",
      "10134    1    3          4        1     1       4    11         1         3\n",
      "10135    2    1          3        1     5       4    10         1         3\n",
      "10136    1    7          2        2     5       2    16         1         5\n",
      "10137    2    6          4        2     5       4    17         1         1\n",
      "10138    2    3          4        1     1       7    17         1         5\n",
      "\n",
      "[10139 rows x 9 columns]\n"
     ]
    },
    {
     "data": {
      "text/plain": [
       "sex          0\n",
       "age          0\n",
       "education    0\n",
       "married      0\n",
       "work         0\n",
       "income       0\n",
       "sido         0\n",
       "disabled     0\n",
       "standard     0\n",
       "dtype: int64"
      ]
     },
     "execution_count": 225,
     "metadata": {},
     "output_type": "execute_result"
    }
   ],
   "source": [
    "# 기존 데이터프레임\n",
    "CS.standard.unique()\n",
    "# 2022 데이터프레임\n",
    "raw_2022.Q3_7.unique()\n",
    "\n",
    "# 컬럼의 데이터 숫자형으로 바꿔주기\n",
    "CS_2022['standard'] = raw_2022['Q3_7']\n",
    "CS_2022 = CS_2022.replace({'standard':{'문화예술행사의 내용 및 수준' : 1, '관람 비용의 적절성' : 2, '참가자(작가, 출연진)의 유명도' : 3, '행사개최 장소의 유명도' : 4, '교통의 편의성' : 5, '편의시설 구비여부(놀이방 등)' : 6, '문화예술행사에 대한 전문가 의견, 언론보도' : 7, '문화예술행사에 대한 주위 의견, 네티즌 의견' : 8, '접근성(가깝다)' : 9, '기타' : 10}})\n",
    "\n",
    "print(CS_2022)\n",
    "\n",
    "# NA 확인\n",
    "CS_2022.isna().sum()"
   ]
  },
  {
   "cell_type": "markdown",
   "id": "24a1286a",
   "metadata": {},
   "source": [
    "### 관람 걸림돌 (block)\n",
    "\n",
    "'비용이 많이 든다' : 1 </br>\n",
    "'시간이 좀처럼 나지 않는다' : 2 </br>\n",
    "'관심 있는 프로그램이 없다' : 3 </br>\n",
    "'교통이 불편하다' : 4 </br>\n",
    "'편의시설(놀이방 등)이 불편하다' : 5 </br>\n",
    "'관련정보가 부족하다' : 6 </br>\n",
    "'함께 관람할 사람이 없다' : 7 </br>\n",
    "'가까운 곳에 시설이 없다' : 8 </br>\n",
    "'기타' : 9 </br>\n",
    "'모름/무응답' : 99 </br>"
   ]
  },
  {
   "cell_type": "code",
   "execution_count": 226,
   "id": "4222c747",
   "metadata": {},
   "outputs": [
    {
     "data": {
      "text/plain": [
       "관심 있는 프로그램이 없다       2459\n",
       "비용이 많이 든다            2086\n",
       "시간이 좀처럼 나지 않는다       1944\n",
       "관련정보가 부족하다           1560\n",
       "가까운 곳에 시설이 없다         863\n",
       "교통이 불편하다              539\n",
       "함께 관람할 사람이 없다         389\n",
       "편의시설(놀이방 등)이 불편하다     255\n",
       "기타                     44\n",
       "Name: Q3_8, dtype: int64"
      ]
     },
     "execution_count": 226,
     "metadata": {},
     "output_type": "execute_result"
    }
   ],
   "source": [
    "# 모름/ 무응답이 없으므로 무시\n",
    "raw_2022['Q3_8'].value_counts()"
   ]
  },
  {
   "cell_type": "code",
   "execution_count": 227,
   "id": "9f1357a0",
   "metadata": {},
   "outputs": [
    {
     "data": {
      "text/plain": [
       "array([1, 6, 2, 4, 3, 8, 5, 9, 7])"
      ]
     },
     "execution_count": 227,
     "metadata": {},
     "output_type": "execute_result"
    },
    {
     "data": {
      "text/plain": [
       "array(['교통이 불편하다', '관심 있는 프로그램이 없다', '시간이 좀처럼 나지 않는다', '관련정보가 부족하다',\n",
       "       '함께 관람할 사람이 없다', '비용이 많이 든다', '가까운 곳에 시설이 없다', '편의시설(놀이방 등)이 불편하다',\n",
       "       '기타'], dtype=object)"
      ]
     },
     "execution_count": 227,
     "metadata": {},
     "output_type": "execute_result"
    },
    {
     "name": "stdout",
     "output_type": "stream",
     "text": [
      "       sex  age  education  married  work  income  sido  disabled  standard  \\\n",
      "0        2    7          2        3     5       2     6         1         5   \n",
      "1        1    7          1        3     5       2     3         1         1   \n",
      "2        1    7          3        1     5       2    11         1         2   \n",
      "3        2    4          3        3     1       3     6         1         5   \n",
      "4        1    2          3        1     5       2     1         3         5   \n",
      "...    ...  ...        ...      ...   ...     ...   ...       ...       ...   \n",
      "10134    1    3          4        1     1       4    11         1         3   \n",
      "10135    2    1          3        1     5       4    10         1         3   \n",
      "10136    1    7          2        2     5       2    16         1         5   \n",
      "10137    2    6          4        2     5       4    17         1         1   \n",
      "10138    2    3          4        1     1       7    17         1         5   \n",
      "\n",
      "       block  \n",
      "0          4  \n",
      "1          3  \n",
      "2          3  \n",
      "3          2  \n",
      "4          4  \n",
      "...      ...  \n",
      "10134      3  \n",
      "10135      3  \n",
      "10136      8  \n",
      "10137      6  \n",
      "10138      3  \n",
      "\n",
      "[10139 rows x 10 columns]\n"
     ]
    },
    {
     "data": {
      "text/plain": [
       "sex          0\n",
       "age          0\n",
       "education    0\n",
       "married      0\n",
       "work         0\n",
       "income       0\n",
       "sido         0\n",
       "disabled     0\n",
       "standard     0\n",
       "block        0\n",
       "dtype: int64"
      ]
     },
     "execution_count": 227,
     "metadata": {},
     "output_type": "execute_result"
    }
   ],
   "source": [
    "# 기존 데이터프레임\n",
    "CS.block.unique()\n",
    "# 2022 데이터프레임\n",
    "raw_2022.Q3_8.unique()\n",
    "\n",
    "# 컬럼의 데이터 숫자형으로 바꿔주기\n",
    "CS_2022['block'] = raw_2022['Q3_8']\n",
    "CS_2022 = CS_2022.replace({'block':{'비용이 많이 든다' : 1, '시간이 좀처럼 나지 않는다' : 2, '관심 있는 프로그램이 없다' : 3, '교통이 불편하다' : 4, '편의시설(놀이방 등)이 불편하다' : 5, '관련정보가 부족하다' : 6, '함께 관람할 사람이 없다' : 7, '가까운 곳에 시설이 없다' : 8, '기타' : 9}})\n",
    "\n",
    "print(CS_2022)\n",
    "\n",
    "# NA 확인\n",
    "CS_2022.isna().sum()"
   ]
  },
  {
   "cell_type": "markdown",
   "id": "98962b3e",
   "metadata": {},
   "source": [
    "### 문7-1.문화예술관련많이지출하는항목_1순위 (expense)\n",
    "\n",
    "\n",
    "2020과 변화하지 않았음 </br>\n",
    "</br>\n",
    "</br>\n",
    "\n",
    "\n",
    "기존 코드값 정보가 없어서 아직 추가하지 못함\n",
    "\n",
    "### expense     Q7_1_1"
   ]
  },
  {
   "cell_type": "code",
   "execution_count": 248,
   "id": "766e9e58",
   "metadata": {},
   "outputs": [
    {
     "data": {
      "text/plain": [
       "array([14,  8, 17, 15,  1,  7, 12, 10,  2,  5, 13, 16,  9,  6, 11,  4,  3])"
      ]
     },
     "execution_count": 248,
     "metadata": {},
     "output_type": "execute_result"
    },
    {
     "data": {
      "text/plain": [
       "array(['영화', '해당사항 없음', '전통예술(국악, 풍물, 민속극)', '영화(IPTV, OTT 정기구독 포함)',\n",
       "       '대중음악(가요콘서트), 연예', '미술 전시회(사진, 서예, 건축, 디자인 포함)',\n",
       "       '문학(독서, 웹소설, 웹툰 포함)', '서양음악(클래식, 오페라, 서양악기 관련)', '뮤지컬', '연극',\n",
       "       '미술(사진, 서예, 건축, 디자인 포함)', '무용(서양무용, 한국무용, 현대무용)',\n",
       "       '문학행사(시화전, 도서전시회, 작가와의 대화)'], dtype=object)"
      ]
     },
     "execution_count": 248,
     "metadata": {},
     "output_type": "execute_result"
    }
   ],
   "source": [
    "# 기존 데이터프레임\n",
    "CS.expense.unique()\n",
    "# 2022 데이터프레임\n",
    "raw_2022.Q7_1_1.unique()\n",
    "\n",
    "'문학(독서, 웹소설, 웹툰 포함)' : 1\n",
    "'문학행사(시화전, 도서전시회, 작가와의 대화)' : 10\n",
    "# 2, 20\n",
    "'미술(사진, 서예, 건축, 디자인 포함)'\n",
    "'미술 전시회(사진, 서예, 건축, 디자인 포함)' : 11\n",
    "\n",
    "# 17, 26번이 겹침\n",
    "'영화' : 17, 26\n",
    "'영화(IPTV, OTT 정기구독 포함)' : 8\n",
    "    \n",
    "\n",
    "\n",
    "'해당사항 없음' : 28\n",
    "\n",
    "# 4, 13, 22\n",
    "'전통예술(국악, 풍물, 민속극)'\n",
    "\n",
    "# 9,18, 27\n",
    "'대중음악(가요콘서트), 연예' \n",
    "\n",
    "# 3, 12, 21\n",
    "'서양음악(클래식, 오페라, 서양악기 관련)' :\n",
    "\n",
    "# 6, 15, 24\n",
    "'뮤지컬'\n",
    "# 5,14,23\n",
    "'연극'\n",
    "\n",
    "#7, 16, 25\n",
    "'무용(서양무용, 한국무용, 현대무용)'\n",
    "\n",
    "\n",
    "# # 컬럼의 데이터 숫자형으로 바꿔주기\n",
    "# CS_2022['block'] = raw_2022['Q3_8']\n",
    "# CS_2022 = CS_2022.replace({'block':{'비용이 많이 든다' : 1, '시간이 좀처럼 나지 않는다' : 2, '관심 있는 프로그램이 없다' : 3, '교통이 불편하다' : 4, '편의시설(놀이방 등)이 불편하다' : 5, '관련정보가 부족하다' : 6, '함께 관람할 사람이 없다' : 7, '가까운 곳에 시설이 없다' : 8, '기타' : 9}})\n",
    "\n",
    "# print(CS_2022)\n",
    "\n",
    "# # NA 확인\n",
    "# CS_2022.isna().sum()\n"
   ]
  },
  {
   "cell_type": "code",
   "execution_count": 274,
   "id": "71bd19db",
   "metadata": {},
   "outputs": [
    {
     "data": {
      "text/plain": [
       "13"
      ]
     },
     "execution_count": 274,
     "metadata": {},
     "output_type": "execute_result"
    }
   ],
   "source": [
    "raw_2022['Q7_1_1'].nunique()"
   ]
  },
  {
   "cell_type": "code",
   "execution_count": 273,
   "id": "7837e7b5",
   "metadata": {},
   "outputs": [
    {
     "data": {
      "text/plain": [
       "영화                            3095\n",
       "해당사항 없음                       3002\n",
       "영화(IPTV, OTT 정기구독 포함)         2570\n",
       "대중음악(가요콘서트), 연예                681\n",
       "문학(독서, 웹소설, 웹툰 포함)             228\n",
       "뮤지컬                            171\n",
       "전통예술(국악, 풍물, 민속극)              103\n",
       "미술 전시회(사진, 서예, 건축, 디자인 포함)      91\n",
       "연극                              88\n",
       "서양음악(클래식, 오페라, 서양악기 관련)         56\n",
       "미술(사진, 서예, 건축, 디자인 포함)          26\n",
       "무용(서양무용, 한국무용, 현대무용)            14\n",
       "문학행사(시화전, 도서전시회, 작가와의 대화)       14\n",
       "Name: Q7_1_1, dtype: int64"
      ]
     },
     "execution_count": 273,
     "metadata": {},
     "output_type": "execute_result"
    }
   ],
   "source": [
    "raw_2022['Q7_1_1'].value_counts()"
   ]
  },
  {
   "cell_type": "code",
   "execution_count": 249,
   "id": "842a893e",
   "metadata": {},
   "outputs": [
    {
     "data": {
      "text/plain": [
       "17"
      ]
     },
     "execution_count": 249,
     "metadata": {},
     "output_type": "execute_result"
    }
   ],
   "source": [
    "CS.expense.unique()"
   ]
  },
  {
   "cell_type": "markdown",
   "id": "593ab738",
   "metadata": {},
   "source": [
    "### 문7-1.문화예술관련많이지출하는항목_1순위 (expense_f)\n",
    "\n",
    "\n",
    "2020과 변화하지 않았음 </br>\n",
    "</br>\n",
    "</br>\n",
    "\n",
    "\n",
    "기존 코드값 정보가 없어서 아직 추가하지 못함\n",
    "\n",
    "### expense_f   Q7_2_1"
   ]
  },
  {
   "cell_type": "markdown",
   "id": "6df0980a",
   "metadata": {},
   "source": [
    "### 문13.문화행사참여시가장큰어려움 (difficulty)"
   ]
  },
  {
   "cell_type": "markdown",
   "id": "2e97ff94",
   "metadata": {},
   "source": [
    "'비용이 많이 든다': 1 </br>\n",
    "'시간이 좀처럼 나지 않는다' : 2 </br>\n",
    "'관심 있는 프로그램이 없다' : 3 </br>\n",
    "'교통이 불편하다' : 4 </br>\n",
    "'시설(편의시설)이 불편하다' : 5 </br>\n",
    "'관련정보가 부족하다' : 6 </br>\n",
    "'함께 갈 사람이 없다' : 7 </br>\n",
    "'주변에 이용 공간이 없다' : 8 </br>\n",
    "'기타' : 9 </br>"
   ]
  },
  {
   "cell_type": "code",
   "execution_count": 228,
   "id": "25462afd",
   "metadata": {},
   "outputs": [
    {
     "data": {
      "text/plain": [
       "array([3, 1, 4, 5, 2, 6, 8, 7, 9])"
      ]
     },
     "execution_count": 228,
     "metadata": {},
     "output_type": "execute_result"
    },
    {
     "data": {
      "text/plain": [
       "array(['함께 갈 사람이 없다', '관심 있는 프로그램이 없다', '교통이 불편하다', '시간이 좀처럼 나지 않는다',\n",
       "       '비용이 많이 든다', '관련정보가 부족하다', '시설(편의시설)이 불편하다', '주변에 이용 공간이 없다', '기타'],\n",
       "      dtype=object)"
      ]
     },
     "execution_count": 228,
     "metadata": {},
     "output_type": "execute_result"
    },
    {
     "name": "stdout",
     "output_type": "stream",
     "text": [
      "       sex  age  education  married  work  income  sido  disabled  standard  \\\n",
      "0        2    7          2        3     5       2     6         1         5   \n",
      "1        1    7          1        3     5       2     3         1         1   \n",
      "2        1    7          3        1     5       2    11         1         2   \n",
      "3        2    4          3        3     1       3     6         1         5   \n",
      "4        1    2          3        1     5       2     1         3         5   \n",
      "...    ...  ...        ...      ...   ...     ...   ...       ...       ...   \n",
      "10134    1    3          4        1     1       4    11         1         3   \n",
      "10135    2    1          3        1     5       4    10         1         3   \n",
      "10136    1    7          2        2     5       2    16         1         5   \n",
      "10137    2    6          4        2     5       4    17         1         1   \n",
      "10138    2    3          4        1     1       7    17         1         5   \n",
      "\n",
      "       block  difficulty  \n",
      "0          4           7  \n",
      "1          3           3  \n",
      "2          3           4  \n",
      "3          2           2  \n",
      "4          4           4  \n",
      "...      ...         ...  \n",
      "10134      3           6  \n",
      "10135      3           3  \n",
      "10136      8           3  \n",
      "10137      6           6  \n",
      "10138      3           3  \n",
      "\n",
      "[10139 rows x 11 columns]\n"
     ]
    },
    {
     "data": {
      "text/plain": [
       "sex           0\n",
       "age           0\n",
       "education     0\n",
       "married       0\n",
       "work          0\n",
       "income        0\n",
       "sido          0\n",
       "disabled      0\n",
       "standard      0\n",
       "block         0\n",
       "difficulty    0\n",
       "dtype: int64"
      ]
     },
     "execution_count": 228,
     "metadata": {},
     "output_type": "execute_result"
    }
   ],
   "source": [
    "# 기존 데이터프레임\n",
    "CS.difficulty.unique()\n",
    "# 2022 데이터프레임\n",
    "raw_2022.Q12.unique()\n",
    "\n",
    "# # 컬럼의 데이터 숫자형으로 바꿔주기\n",
    "CS_2022['difficulty'] = raw_2022['Q12']\n",
    "CS_2022 = CS_2022.replace({'difficulty':{'비용이 많이 든다': 1, '시간이 좀처럼 나지 않는다' : 2, '관심 있는 프로그램이 없다' : 3, '교통이 불편하다' : 4, '시설(편의시설)이 불편하다' : 5, '관련정보가 부족하다' : 6, '함께 갈 사람이 없다' : 7, '주변에 이용 공간이 없다' : 8, '기타' : 9}})\n",
    "\n",
    "print(CS_2022)\n",
    "\n",
    "# NA 확인\n",
    "CS_2022.isna().sum()"
   ]
  },
  {
   "cell_type": "markdown",
   "id": "66ede940",
   "metadata": {},
   "source": [
    "### 문14.1년이내문화공간에서개최하는문화행사참여의향 (Intention)"
   ]
  },
  {
   "cell_type": "markdown",
   "id": "89092952",
   "metadata": {},
   "source": [
    "있다 : 1 </br>\n",
    "없다 : 2"
   ]
  },
  {
   "cell_type": "code",
   "execution_count": 229,
   "id": "535a7f4a",
   "metadata": {},
   "outputs": [
    {
     "data": {
      "text/plain": [
       "array([2, 1])"
      ]
     },
     "execution_count": 229,
     "metadata": {},
     "output_type": "execute_result"
    },
    {
     "data": {
      "text/plain": [
       "array(['있다', '없다'], dtype=object)"
      ]
     },
     "execution_count": 229,
     "metadata": {},
     "output_type": "execute_result"
    },
    {
     "name": "stdout",
     "output_type": "stream",
     "text": [
      "       sex  age  education  married  work  income  sido  disabled  standard  \\\n",
      "0        2    7          2        3     5       2     6         1         5   \n",
      "1        1    7          1        3     5       2     3         1         1   \n",
      "2        1    7          3        1     5       2    11         1         2   \n",
      "3        2    4          3        3     1       3     6         1         5   \n",
      "4        1    2          3        1     5       2     1         3         5   \n",
      "...    ...  ...        ...      ...   ...     ...   ...       ...       ...   \n",
      "10134    1    3          4        1     1       4    11         1         3   \n",
      "10135    2    1          3        1     5       4    10         1         3   \n",
      "10136    1    7          2        2     5       2    16         1         5   \n",
      "10137    2    6          4        2     5       4    17         1         1   \n",
      "10138    2    3          4        1     1       7    17         1         5   \n",
      "\n",
      "       block  difficulty  intention  \n",
      "0          4           7          1  \n",
      "1          3           3          2  \n",
      "2          3           4          1  \n",
      "3          2           2          2  \n",
      "4          4           4          2  \n",
      "...      ...         ...        ...  \n",
      "10134      3           6          1  \n",
      "10135      3           3          1  \n",
      "10136      8           3          2  \n",
      "10137      6           6          1  \n",
      "10138      3           3          1  \n",
      "\n",
      "[10139 rows x 12 columns]\n"
     ]
    },
    {
     "data": {
      "text/plain": [
       "sex           0\n",
       "age           0\n",
       "education     0\n",
       "married       0\n",
       "work          0\n",
       "income        0\n",
       "sido          0\n",
       "disabled      0\n",
       "standard      0\n",
       "block         0\n",
       "difficulty    0\n",
       "intention     0\n",
       "dtype: int64"
      ]
     },
     "execution_count": 229,
     "metadata": {},
     "output_type": "execute_result"
    }
   ],
   "source": [
    "# 기존 데이터프레임\n",
    "CS.intention.unique()\n",
    "# 2022 데이터프레임\n",
    "raw_2022.Q13.unique()\n",
    "\n",
    "# # # 컬럼의 데이터 숫자형으로 바꿔주기\n",
    "CS_2022['intention'] = raw_2022['Q13']\n",
    "CS_2022 = CS_2022.replace({'intention':{'있다' : 1, '없다' : 2}})\n",
    "\n",
    "print(CS_2022)\n",
    "\n",
    "# NA 확인\n",
    "CS_2022.isna().sum()"
   ]
  },
  {
   "cell_type": "markdown",
   "id": "601116cb",
   "metadata": {},
   "source": [
    "### 문18.역사문화유적지방문경험여부 (history)\n",
    "\n",
    "'방문 경험 있음' : 1 </br>\n",
    "'방문 경험 없음' : 2"
   ]
  },
  {
   "cell_type": "code",
   "execution_count": 230,
   "id": "4878f28c",
   "metadata": {},
   "outputs": [
    {
     "data": {
      "text/plain": [
       "array([1, 2])"
      ]
     },
     "execution_count": 230,
     "metadata": {},
     "output_type": "execute_result"
    },
    {
     "data": {
      "text/plain": [
       "array(['방문 경험 있음', '방문 경험 없음'], dtype=object)"
      ]
     },
     "execution_count": 230,
     "metadata": {},
     "output_type": "execute_result"
    },
    {
     "name": "stdout",
     "output_type": "stream",
     "text": [
      "       sex  age  education  married  work  income  sido  disabled  standard  \\\n",
      "0        2    7          2        3     5       2     6         1         5   \n",
      "1        1    7          1        3     5       2     3         1         1   \n",
      "2        1    7          3        1     5       2    11         1         2   \n",
      "3        2    4          3        3     1       3     6         1         5   \n",
      "4        1    2          3        1     5       2     1         3         5   \n",
      "...    ...  ...        ...      ...   ...     ...   ...       ...       ...   \n",
      "10134    1    3          4        1     1       4    11         1         3   \n",
      "10135    2    1          3        1     5       4    10         1         3   \n",
      "10136    1    7          2        2     5       2    16         1         5   \n",
      "10137    2    6          4        2     5       4    17         1         1   \n",
      "10138    2    3          4        1     1       7    17         1         5   \n",
      "\n",
      "       block  difficulty  intention  history  \n",
      "0          4           7          1        1  \n",
      "1          3           3          2        1  \n",
      "2          3           4          1        2  \n",
      "3          2           2          2        2  \n",
      "4          4           4          2        2  \n",
      "...      ...         ...        ...      ...  \n",
      "10134      3           6          1        2  \n",
      "10135      3           3          1        1  \n",
      "10136      8           3          2        2  \n",
      "10137      6           6          1        2  \n",
      "10138      3           3          1        2  \n",
      "\n",
      "[10139 rows x 13 columns]\n"
     ]
    },
    {
     "data": {
      "text/plain": [
       "sex           0\n",
       "age           0\n",
       "education     0\n",
       "married       0\n",
       "work          0\n",
       "income        0\n",
       "sido          0\n",
       "disabled      0\n",
       "standard      0\n",
       "block         0\n",
       "difficulty    0\n",
       "intention     0\n",
       "history       0\n",
       "dtype: int64"
      ]
     },
     "execution_count": 230,
     "metadata": {},
     "output_type": "execute_result"
    }
   ],
   "source": [
    "# 기존 데이터프레임\n",
    "CS.history.unique()\n",
    "# 2022 데이터프레임\n",
    "raw_2022.Q17.unique()\n",
    "\n",
    "# # # 컬럼의 데이터 숫자형으로 바꿔주기\n",
    "CS_2022['history'] = raw_2022['Q17']\n",
    "CS_2022 = CS_2022.replace({'history':{'방문 경험 있음' : 1, '방문 경험 없음' : 2}})\n",
    "\n",
    "print(CS_2022)\n",
    "\n",
    "# NA 확인\n",
    "CS_2022.isna().sum()"
   ]
  },
  {
   "cell_type": "markdown",
   "id": "c741f03e",
   "metadata": {},
   "source": [
    "### 문19.1년이내역사문화유적지방문의향 (history_f)"
   ]
  },
  {
   "cell_type": "markdown",
   "id": "e1f559df",
   "metadata": {},
   "source": [
    "'전혀 없다' : 1 </br>\n",
    "'없다' : 2 </br>\n",
    "'다소 없다' : 3 </br>\n",
    "'보통' : 4 </br>\n",
    "'다소 많다' : 5 </br>\n",
    "'많다' : 6 </br>\n",
    "'매우 많다' :7 </br>"
   ]
  },
  {
   "cell_type": "code",
   "execution_count": 231,
   "id": "0d701132",
   "metadata": {},
   "outputs": [
    {
     "data": {
      "text/plain": [
       "array([6, 7, 4, 5, 3, 2, 1])"
      ]
     },
     "execution_count": 231,
     "metadata": {},
     "output_type": "execute_result"
    },
    {
     "data": {
      "text/plain": [
       "array(['다소 많다', '많다', '보통', '다소 없다', '전혀 없다', '매우 많다', '없다'], dtype=object)"
      ]
     },
     "execution_count": 231,
     "metadata": {},
     "output_type": "execute_result"
    },
    {
     "name": "stdout",
     "output_type": "stream",
     "text": [
      "       sex  age  education  married  work  income  sido  disabled  standard  \\\n",
      "0        2    7          2        3     5       2     6         1         5   \n",
      "1        1    7          1        3     5       2     3         1         1   \n",
      "2        1    7          3        1     5       2    11         1         2   \n",
      "3        2    4          3        3     1       3     6         1         5   \n",
      "4        1    2          3        1     5       2     1         3         5   \n",
      "...    ...  ...        ...      ...   ...     ...   ...       ...       ...   \n",
      "10134    1    3          4        1     1       4    11         1         3   \n",
      "10135    2    1          3        1     5       4    10         1         3   \n",
      "10136    1    7          2        2     5       2    16         1         5   \n",
      "10137    2    6          4        2     5       4    17         1         1   \n",
      "10138    2    3          4        1     1       7    17         1         5   \n",
      "\n",
      "       block  difficulty  intention  history  history_f  \n",
      "0          4           7          1        1          5  \n",
      "1          3           3          2        1          6  \n",
      "2          3           4          1        2          5  \n",
      "3          2           2          2        2          4  \n",
      "4          4           4          2        2          4  \n",
      "...      ...         ...        ...      ...        ...  \n",
      "10134      3           6          1        2          6  \n",
      "10135      3           3          1        1          6  \n",
      "10136      8           3          2        2          6  \n",
      "10137      6           6          1        2          4  \n",
      "10138      3           3          1        2          3  \n",
      "\n",
      "[10139 rows x 14 columns]\n"
     ]
    },
    {
     "data": {
      "text/plain": [
       "sex           0\n",
       "age           0\n",
       "education     0\n",
       "married       0\n",
       "work          0\n",
       "income        0\n",
       "sido          0\n",
       "disabled      0\n",
       "standard      0\n",
       "block         0\n",
       "difficulty    0\n",
       "intention     0\n",
       "history       0\n",
       "history_f     0\n",
       "dtype: int64"
      ]
     },
     "execution_count": 231,
     "metadata": {},
     "output_type": "execute_result"
    }
   ],
   "source": [
    "# 기존 데이터프레임\n",
    "CS.history_f.unique()\n",
    "# 2022 데이터프레임\n",
    "raw_2022.Q18.unique()\n",
    "\n",
    "# 컬럼의 데이터 숫자형으로 바꿔주기\n",
    "CS_2022['history_f'] = raw_2022['Q18']\n",
    "CS_2022 = CS_2022.replace({'history_f':{'전혀 없다' : 1, '없다' : 2, '다소 없다' : 3, '보통' : 4, '다소 많다' : 5,'많다' : 6, '매우 많다' :7}})\n",
    "\n",
    "print(CS_2022)\n",
    "\n",
    "# NA 확인\n",
    "CS_2022.isna().sum()"
   ]
  },
  {
   "cell_type": "markdown",
   "id": "86a9631d",
   "metadata": {},
   "source": [
    "## 3 연속형 데이터 전처리"
   ]
  },
  {
   "cell_type": "code",
   "execution_count": null,
   "id": "4526ee34",
   "metadata": {},
   "outputs": [],
   "source": [
    "# 연속형 데이터 목록\n",
    "\n",
    "# CS 컬럼값    raw_2022 컬럼값\n",
    "\n",
    "# dv_cnt      Q1_1_1_N\n",
    "#             Q1_1_2_N\n",
    "#             Q1_1_3_N\n",
    "#             Q1_1_4_N\n",
    "#             Q1_1_5_N\n",
    "#             Q1_1_6_N\n",
    "#             Q1_1_7_N\n",
    "#             Q1_1_8_N\n",
    "#             Q1_1_9_N\n",
    "# mv_cnt      Q4_1_1_N\n",
    "#             Q4_1_2_N\n",
    "#             Q4_1_3_N\n",
    "#             Q4_1_4_N\n",
    "#             Q4_1_5_N\n",
    "#             Q4_1_6_N\n",
    "#             Q4_1_7_N\n",
    "#             Q4_1_8_N\n",
    "#             Q4_1_9_N\n",
    "# where_cnt   Q11_1_1_N\n",
    "#             Q11_1_2_N\n",
    "#             Q11_1_3_N\n",
    "#             Q11_1_4_N\n",
    "#             Q11_1_5_N\n",
    "#             Q11_1_6_N\n",
    "#             Q11_1_7_N\n",
    "#             Q11_1_8_N\n",
    "#             Q11_1_9_N\n",
    "#             Q11_1_10_N\n",
    "#             Q11_1_11_N\n",
    "#             Q11_1_12_N\n",
    "#             Q11_1_13_N\n",
    "#             Q11_1_14_N\n",
    "# attend_cnt  Q11_4_1_N\n",
    "#             Q11_4_2_N\n",
    "#             Q11_4_3_N\n",
    "#             Q11_4_4_N\n",
    "#             Q11_4_5_N\n",
    "#             Q11_4_6_N\n",
    "#             Q11_4_7_N\n",
    "#             Q11_4_8_N\n",
    "#             Q11_4_9_N\n",
    "#             Q11_4_10_N\n",
    "#             Q11_4_11_N\n",
    "#             Q11_4_12_N\n",
    "#             Q11_4_13_N\n",
    "#             Q11_4_14_N\n",
    "# volunteer_cnt Q14_1_N\n",
    "# history_cnt   Q17_N"
   ]
  },
  {
   "cell_type": "markdown",
   "id": "b7e6ddff",
   "metadata": {},
   "source": [
    "### 문15-1.문화관련자원봉사활동참여횟수 (volunteer_cnt)\n",
    "연속형이라서 처리하지 않음\n",
    "\n",
    "### NAN 어떻게 처리했었지?\n",
    "\n",
    "### !!! volunteer_cnt NAN 값이 10139개 중에 9927개나 됨!!!"
   ]
  },
  {
   "cell_type": "code",
   "execution_count": null,
   "id": "1edd6e0a",
   "metadata": {},
   "outputs": [],
   "source": [
    "raw_2022 => 안바꿈\n",
    "CS_2022 => 빈데이터프레임에서 raw_2022에서 필요한 컬럼만 가져옴\n",
    "CS => 안 바꿈\n",
    "CS_final => 합침"
   ]
  },
  {
   "cell_type": "code",
   "execution_count": 269,
   "id": "f73b5610",
   "metadata": {},
   "outputs": [
    {
     "data": {
      "text/plain": [
       "array([ 0,  3,  2,  1,  5,  4, 10,  8, 12, 20,  7, 40, 15,  6, 30, 24, 25,\n",
       "       48, 64, 60, 36, 55, 50])"
      ]
     },
     "execution_count": 269,
     "metadata": {},
     "output_type": "execute_result"
    },
    {
     "data": {
      "text/plain": [
       "array([nan, 10.,  5.,  3.,  4.,  2.,  1.,  6., 12., 20.,  8., 15.,  7.,\n",
       "       50., 48., 96., 30., 24.])"
      ]
     },
     "execution_count": 269,
     "metadata": {},
     "output_type": "execute_result"
    },
    {
     "name": "stdout",
     "output_type": "stream",
     "text": [
      "       sex  age  education  married  work  income  sido  disabled  standard  \\\n",
      "0        2    7          2        3     5       2     6         1         5   \n",
      "1        1    7          1        3     5       2     3         1         1   \n",
      "2        1    7          3        1     5       2    11         1         2   \n",
      "3        2    4          3        3     1       3     6         1         5   \n",
      "4        1    2          3        1     5       2     1         3         5   \n",
      "...    ...  ...        ...      ...   ...     ...   ...       ...       ...   \n",
      "10134    1    3          4        1     1       4    11         1         3   \n",
      "10135    2    1          3        1     5       4    10         1         3   \n",
      "10136    1    7          2        2     5       2    16         1         5   \n",
      "10137    2    6          4        2     5       4    17         1         1   \n",
      "10138    2    3          4        1     1       7    17         1         5   \n",
      "\n",
      "       block  ...  intention  history  history_f  volunteer_cnt  history_cnt  \\\n",
      "0          4  ...          1        1          5            0.0          2.0   \n",
      "1          3  ...          2        1          6            0.0          2.0   \n",
      "2          3  ...          1        2          5            0.0          NaN   \n",
      "3          2  ...          2        2          4            0.0          NaN   \n",
      "4          4  ...          2        2          4            0.0          NaN   \n",
      "...      ...  ...        ...      ...        ...            ...          ...   \n",
      "10134      3  ...          1        2          6            0.0          NaN   \n",
      "10135      3  ...          1        1          6            0.0          5.0   \n",
      "10136      8  ...          2        2          6            0.0          NaN   \n",
      "10137      6  ...          1        2          4            0.0          NaN   \n",
      "10138      3  ...          1        2          3            0.0          NaN   \n",
      "\n",
      "       dv_cnt  mv_cnt  where_cnt  attend_cnt  view_cnt  \n",
      "0         5.0     3.0       16.0         8.0       8.0  \n",
      "1         6.0     6.0        1.0         0.0      12.0  \n",
      "2         3.0     5.0        8.0         5.0       8.0  \n",
      "3         1.0     2.0        8.0         5.0       3.0  \n",
      "4         0.0     0.0        0.0         0.0       0.0  \n",
      "...       ...     ...        ...         ...       ...  \n",
      "10134     2.0     8.0        0.0         0.0      10.0  \n",
      "10135     4.0    16.0        8.0         4.0      20.0  \n",
      "10136     0.0     0.0        0.0         0.0       0.0  \n",
      "10137     0.0     0.0        0.0         0.0       0.0  \n",
      "10138     3.0     3.0        3.0         3.0       6.0  \n",
      "\n",
      "[10139 rows x 21 columns]\n"
     ]
    },
    {
     "data": {
      "text/plain": [
       "sex                 0\n",
       "age                 0\n",
       "education           0\n",
       "married             0\n",
       "work                0\n",
       "income              0\n",
       "sido                0\n",
       "disabled            0\n",
       "standard            0\n",
       "block               0\n",
       "difficulty          0\n",
       "intention           0\n",
       "history             0\n",
       "history_f           0\n",
       "volunteer_cnt       0\n",
       "history_cnt      5894\n",
       "dv_cnt              0\n",
       "mv_cnt              0\n",
       "where_cnt           0\n",
       "attend_cnt          0\n",
       "view_cnt            0\n",
       "dtype: int64"
      ]
     },
     "execution_count": 269,
     "metadata": {},
     "output_type": "execute_result"
    }
   ],
   "source": [
    "# 기존 데이터프레임\n",
    "CS.volunteer_cnt.unique()\n",
    "# 2022 데이터프레임\n",
    "raw_2022.Q14_1_N.unique()\n",
    "\n",
    "# # 컬럼의 데이터 숫자형으로 바꿔주기\n",
    "CS_2022['volunteer_cnt'] = raw_2022['Q14_1_N'].fillna(0)\n",
    "\n",
    "print(CS_2022)\n",
    "\n",
    "# NA 확인\n",
    "CS_2022.isna().sum()"
   ]
  },
  {
   "cell_type": "markdown",
   "id": "02beea83",
   "metadata": {},
   "source": [
    "### 문18-A.역사문화유적지방문경험횟수 (history_cnt)"
   ]
  },
  {
   "cell_type": "markdown",
   "id": "40694e72",
   "metadata": {},
   "source": [
    "# history_cnt   Q17_N\n",
    "연속형이라서 처리하지 않음\n",
    "\n",
    "### NAN 어떻게 처리했었지?\n",
    "\n",
    "### !!! history_cnt NAN 값이 10139개 중에 5894개나 됨!!!"
   ]
  },
  {
   "cell_type": "code",
   "execution_count": 270,
   "id": "d9af15be",
   "metadata": {},
   "outputs": [
    {
     "data": {
      "text/plain": [
       "array([ 5,  1,  0,  2,  4,  3,  6, 30, 12, 50,  8, 10,  7, 15, 20, 40, 80,\n",
       "       41, 13, 24, 11, 25, 28])"
      ]
     },
     "execution_count": 270,
     "metadata": {},
     "output_type": "execute_result"
    },
    {
     "data": {
      "text/plain": [
       "array([  2.,  nan,   1.,   4.,   3.,   5.,  50.,   6.,   9.,   7.,  10.,\n",
       "        20., 230.,  30.,   8.,  12.,  15.,  22.,  24.])"
      ]
     },
     "execution_count": 270,
     "metadata": {},
     "output_type": "execute_result"
    },
    {
     "name": "stdout",
     "output_type": "stream",
     "text": [
      "       sex  age  education  married  work  income  sido  disabled  standard  \\\n",
      "0        2    7          2        3     5       2     6         1         5   \n",
      "1        1    7          1        3     5       2     3         1         1   \n",
      "2        1    7          3        1     5       2    11         1         2   \n",
      "3        2    4          3        3     1       3     6         1         5   \n",
      "4        1    2          3        1     5       2     1         3         5   \n",
      "...    ...  ...        ...      ...   ...     ...   ...       ...       ...   \n",
      "10134    1    3          4        1     1       4    11         1         3   \n",
      "10135    2    1          3        1     5       4    10         1         3   \n",
      "10136    1    7          2        2     5       2    16         1         5   \n",
      "10137    2    6          4        2     5       4    17         1         1   \n",
      "10138    2    3          4        1     1       7    17         1         5   \n",
      "\n",
      "       block  ...  intention  history  history_f  volunteer_cnt  history_cnt  \\\n",
      "0          4  ...          1        1          5            0.0          2.0   \n",
      "1          3  ...          2        1          6            0.0          2.0   \n",
      "2          3  ...          1        2          5            0.0          0.0   \n",
      "3          2  ...          2        2          4            0.0          0.0   \n",
      "4          4  ...          2        2          4            0.0          0.0   \n",
      "...      ...  ...        ...      ...        ...            ...          ...   \n",
      "10134      3  ...          1        2          6            0.0          0.0   \n",
      "10135      3  ...          1        1          6            0.0          5.0   \n",
      "10136      8  ...          2        2          6            0.0          0.0   \n",
      "10137      6  ...          1        2          4            0.0          0.0   \n",
      "10138      3  ...          1        2          3            0.0          0.0   \n",
      "\n",
      "       dv_cnt  mv_cnt  where_cnt  attend_cnt  view_cnt  \n",
      "0         5.0     3.0       16.0         8.0       8.0  \n",
      "1         6.0     6.0        1.0         0.0      12.0  \n",
      "2         3.0     5.0        8.0         5.0       8.0  \n",
      "3         1.0     2.0        8.0         5.0       3.0  \n",
      "4         0.0     0.0        0.0         0.0       0.0  \n",
      "...       ...     ...        ...         ...       ...  \n",
      "10134     2.0     8.0        0.0         0.0      10.0  \n",
      "10135     4.0    16.0        8.0         4.0      20.0  \n",
      "10136     0.0     0.0        0.0         0.0       0.0  \n",
      "10137     0.0     0.0        0.0         0.0       0.0  \n",
      "10138     3.0     3.0        3.0         3.0       6.0  \n",
      "\n",
      "[10139 rows x 21 columns]\n"
     ]
    },
    {
     "data": {
      "text/plain": [
       "sex              0\n",
       "age              0\n",
       "education        0\n",
       "married          0\n",
       "work             0\n",
       "income           0\n",
       "sido             0\n",
       "disabled         0\n",
       "standard         0\n",
       "block            0\n",
       "difficulty       0\n",
       "intention        0\n",
       "history          0\n",
       "history_f        0\n",
       "volunteer_cnt    0\n",
       "history_cnt      0\n",
       "dv_cnt           0\n",
       "mv_cnt           0\n",
       "where_cnt        0\n",
       "attend_cnt       0\n",
       "view_cnt         0\n",
       "dtype: int64"
      ]
     },
     "execution_count": 270,
     "metadata": {},
     "output_type": "execute_result"
    }
   ],
   "source": [
    "# 기존 데이터프레임\n",
    "CS.history_cnt.unique()\n",
    "# 2022 데이터프레임\n",
    "raw_2022.Q17_N.unique()\n",
    "\n",
    "# # 컬럼의 데이터 숫자형으로 바꿔주기\n",
    "CS_2022['history_cnt'] = raw_2022['Q17_N'].fillna(0)\n",
    "\n",
    "print(CS_2022)\n",
    "\n",
    "# NA 확인\n",
    "CS_2022.isna().sum()"
   ]
  },
  {
   "cell_type": "markdown",
   "id": "accb988e",
   "metadata": {},
   "source": [
    "### 문1-1.문화예술행사관람실태직접관람횟수_총합 (dv_cnt)"
   ]
  },
  {
   "cell_type": "code",
   "execution_count": 234,
   "id": "6986e981",
   "metadata": {},
   "outputs": [
    {
     "name": "stdout",
     "output_type": "stream",
     "text": [
      "       sex  age  education  married  work  income  sido  disabled  standard  \\\n",
      "0        2    7          2        3     5       2     6         1         5   \n",
      "1        1    7          1        3     5       2     3         1         1   \n",
      "2        1    7          3        1     5       2    11         1         2   \n",
      "3        2    4          3        3     1       3     6         1         5   \n",
      "4        1    2          3        1     5       2     1         3         5   \n",
      "...    ...  ...        ...      ...   ...     ...   ...       ...       ...   \n",
      "10134    1    3          4        1     1       4    11         1         3   \n",
      "10135    2    1          3        1     5       4    10         1         3   \n",
      "10136    1    7          2        2     5       2    16         1         5   \n",
      "10137    2    6          4        2     5       4    17         1         1   \n",
      "10138    2    3          4        1     1       7    17         1         5   \n",
      "\n",
      "       block  difficulty  intention  history  history_f  volunteer_cnt  \\\n",
      "0          4           7          1        1          5            NaN   \n",
      "1          3           3          2        1          6            NaN   \n",
      "2          3           4          1        2          5            NaN   \n",
      "3          2           2          2        2          4            NaN   \n",
      "4          4           4          2        2          4            NaN   \n",
      "...      ...         ...        ...      ...        ...            ...   \n",
      "10134      3           6          1        2          6            NaN   \n",
      "10135      3           3          1        1          6            NaN   \n",
      "10136      8           3          2        2          6            NaN   \n",
      "10137      6           6          1        2          4            NaN   \n",
      "10138      3           3          1        2          3            NaN   \n",
      "\n",
      "       history_cnt  dv_cnt  \n",
      "0              2.0     5.0  \n",
      "1              2.0     6.0  \n",
      "2              NaN     3.0  \n",
      "3              NaN     1.0  \n",
      "4              NaN     0.0  \n",
      "...            ...     ...  \n",
      "10134          NaN     2.0  \n",
      "10135          5.0     4.0  \n",
      "10136          NaN     0.0  \n",
      "10137          NaN     0.0  \n",
      "10138          NaN     3.0  \n",
      "\n",
      "[10139 rows x 17 columns]\n"
     ]
    },
    {
     "data": {
      "text/plain": [
       "sex                 0\n",
       "age                 0\n",
       "education           0\n",
       "married             0\n",
       "work                0\n",
       "income              0\n",
       "sido                0\n",
       "disabled            0\n",
       "standard            0\n",
       "block               0\n",
       "difficulty          0\n",
       "intention           0\n",
       "history             0\n",
       "history_f           0\n",
       "volunteer_cnt    9927\n",
       "history_cnt      5894\n",
       "dv_cnt              0\n",
       "dtype: int64"
      ]
     },
     "execution_count": 234,
     "metadata": {},
     "output_type": "execute_result"
    }
   ],
   "source": [
    "# 각 컬럼의 숫자 합쳐주기\n",
    "CS_2022['dv_cnt'] = raw_2022['Q1_1_1_N'] + raw_2022['Q1_1_2_N'] + raw_2022['Q1_1_3_N'] + raw_2022['Q1_1_4_N'] + raw_2022['Q1_1_5_N'] + raw_2022['Q1_1_6_N'] + raw_2022['Q1_1_7_N'] + raw_2022['Q1_1_8_N'] + raw_2022['Q1_1_9_N']\n",
    "\n",
    "print(CS_2022)\n",
    "\n",
    "# NA 확인\n",
    "CS_2022.isna().sum()"
   ]
  },
  {
   "cell_type": "markdown",
   "id": "1c2b1c28",
   "metadata": {},
   "source": [
    "### 문4-1.매체를이용한문화예술행사관람횟수_총합 (mv_cnt)"
   ]
  },
  {
   "cell_type": "code",
   "execution_count": 235,
   "id": "3e23f706",
   "metadata": {},
   "outputs": [
    {
     "name": "stdout",
     "output_type": "stream",
     "text": [
      "       sex  age  education  married  work  income  sido  disabled  standard  \\\n",
      "0        2    7          2        3     5       2     6         1         5   \n",
      "1        1    7          1        3     5       2     3         1         1   \n",
      "2        1    7          3        1     5       2    11         1         2   \n",
      "3        2    4          3        3     1       3     6         1         5   \n",
      "4        1    2          3        1     5       2     1         3         5   \n",
      "...    ...  ...        ...      ...   ...     ...   ...       ...       ...   \n",
      "10134    1    3          4        1     1       4    11         1         3   \n",
      "10135    2    1          3        1     5       4    10         1         3   \n",
      "10136    1    7          2        2     5       2    16         1         5   \n",
      "10137    2    6          4        2     5       4    17         1         1   \n",
      "10138    2    3          4        1     1       7    17         1         5   \n",
      "\n",
      "       block  difficulty  intention  history  history_f  volunteer_cnt  \\\n",
      "0          4           7          1        1          5            NaN   \n",
      "1          3           3          2        1          6            NaN   \n",
      "2          3           4          1        2          5            NaN   \n",
      "3          2           2          2        2          4            NaN   \n",
      "4          4           4          2        2          4            NaN   \n",
      "...      ...         ...        ...      ...        ...            ...   \n",
      "10134      3           6          1        2          6            NaN   \n",
      "10135      3           3          1        1          6            NaN   \n",
      "10136      8           3          2        2          6            NaN   \n",
      "10137      6           6          1        2          4            NaN   \n",
      "10138      3           3          1        2          3            NaN   \n",
      "\n",
      "       history_cnt  dv_cnt  mv_cnt  \n",
      "0              2.0     5.0     3.0  \n",
      "1              2.0     6.0     6.0  \n",
      "2              NaN     3.0     5.0  \n",
      "3              NaN     1.0     2.0  \n",
      "4              NaN     0.0     0.0  \n",
      "...            ...     ...     ...  \n",
      "10134          NaN     2.0     8.0  \n",
      "10135          5.0     4.0    16.0  \n",
      "10136          NaN     0.0     0.0  \n",
      "10137          NaN     0.0     0.0  \n",
      "10138          NaN     3.0     3.0  \n",
      "\n",
      "[10139 rows x 18 columns]\n"
     ]
    },
    {
     "data": {
      "text/plain": [
       "sex                 0\n",
       "age                 0\n",
       "education           0\n",
       "married             0\n",
       "work                0\n",
       "income              0\n",
       "sido                0\n",
       "disabled            0\n",
       "standard            0\n",
       "block               0\n",
       "difficulty          0\n",
       "intention           0\n",
       "history             0\n",
       "history_f           0\n",
       "volunteer_cnt    9927\n",
       "history_cnt      5894\n",
       "dv_cnt              0\n",
       "mv_cnt              0\n",
       "dtype: int64"
      ]
     },
     "execution_count": 235,
     "metadata": {},
     "output_type": "execute_result"
    }
   ],
   "source": [
    "# 각 컬럼의 숫자 합쳐주기\n",
    "CS_2022['mv_cnt'] = raw_2022['Q4_1_1_N'] + raw_2022['Q4_1_2_N'] + raw_2022['Q4_1_3_N'] + raw_2022['Q4_1_4_N'] + raw_2022['Q4_1_5_N'] + raw_2022['Q4_1_6_N'] + raw_2022['Q4_1_7_N'] + raw_2022['Q4_1_8_N'] + raw_2022['Q4_1_9_N']\n",
    "\n",
    "print(CS_2022)\n",
    "\n",
    "# NA 확인\n",
    "CS_2022.isna().sum()"
   ]
  },
  {
   "cell_type": "markdown",
   "id": "37604e31",
   "metadata": {},
   "source": [
    "### 문12-1.문화예술활동공간이용횟수_총합 (where_cnt)"
   ]
  },
  {
   "cell_type": "code",
   "execution_count": 236,
   "id": "eb36a917",
   "metadata": {},
   "outputs": [
    {
     "name": "stdout",
     "output_type": "stream",
     "text": [
      "       sex  age  education  married  work  income  sido  disabled  standard  \\\n",
      "0        2    7          2        3     5       2     6         1         5   \n",
      "1        1    7          1        3     5       2     3         1         1   \n",
      "2        1    7          3        1     5       2    11         1         2   \n",
      "3        2    4          3        3     1       3     6         1         5   \n",
      "4        1    2          3        1     5       2     1         3         5   \n",
      "...    ...  ...        ...      ...   ...     ...   ...       ...       ...   \n",
      "10134    1    3          4        1     1       4    11         1         3   \n",
      "10135    2    1          3        1     5       4    10         1         3   \n",
      "10136    1    7          2        2     5       2    16         1         5   \n",
      "10137    2    6          4        2     5       4    17         1         1   \n",
      "10138    2    3          4        1     1       7    17         1         5   \n",
      "\n",
      "       block  difficulty  intention  history  history_f  volunteer_cnt  \\\n",
      "0          4           7          1        1          5            NaN   \n",
      "1          3           3          2        1          6            NaN   \n",
      "2          3           4          1        2          5            NaN   \n",
      "3          2           2          2        2          4            NaN   \n",
      "4          4           4          2        2          4            NaN   \n",
      "...      ...         ...        ...      ...        ...            ...   \n",
      "10134      3           6          1        2          6            NaN   \n",
      "10135      3           3          1        1          6            NaN   \n",
      "10136      8           3          2        2          6            NaN   \n",
      "10137      6           6          1        2          4            NaN   \n",
      "10138      3           3          1        2          3            NaN   \n",
      "\n",
      "       history_cnt  dv_cnt  mv_cnt  where_cnt  \n",
      "0              2.0     5.0     3.0       16.0  \n",
      "1              2.0     6.0     6.0        1.0  \n",
      "2              NaN     3.0     5.0        8.0  \n",
      "3              NaN     1.0     2.0        8.0  \n",
      "4              NaN     0.0     0.0        0.0  \n",
      "...            ...     ...     ...        ...  \n",
      "10134          NaN     2.0     8.0        0.0  \n",
      "10135          5.0     4.0    16.0        8.0  \n",
      "10136          NaN     0.0     0.0        0.0  \n",
      "10137          NaN     0.0     0.0        0.0  \n",
      "10138          NaN     3.0     3.0        3.0  \n",
      "\n",
      "[10139 rows x 19 columns]\n"
     ]
    },
    {
     "data": {
      "text/plain": [
       "sex                 0\n",
       "age                 0\n",
       "education           0\n",
       "married             0\n",
       "work                0\n",
       "income              0\n",
       "sido                0\n",
       "disabled            0\n",
       "standard            0\n",
       "block               0\n",
       "difficulty          0\n",
       "intention           0\n",
       "history             0\n",
       "history_f           0\n",
       "volunteer_cnt    9927\n",
       "history_cnt      5894\n",
       "dv_cnt              0\n",
       "mv_cnt              0\n",
       "where_cnt           0\n",
       "dtype: int64"
      ]
     },
     "execution_count": 236,
     "metadata": {},
     "output_type": "execute_result"
    }
   ],
   "source": [
    "# 각 컬럼의 숫자 합쳐주기\n",
    "CS_2022['where_cnt'] = raw_2022['Q11_1_1_N'] + raw_2022['Q11_1_2_N'] + raw_2022['Q11_1_3_N'] + raw_2022['Q11_1_4_N'] + raw_2022['Q11_1_5_N'] + raw_2022['Q11_1_6_N'] + raw_2022['Q11_1_7_N'] + raw_2022['Q11_1_8_N'] + raw_2022['Q11_1_9_N'] + raw_2022['Q11_1_10_N'] + raw_2022['Q11_1_11_N'] + raw_2022['Q11_1_12_N'] + raw_2022['Q11_1_13_N'] + raw_2022['Q11_1_14_N']\n",
    "\n",
    "print(CS_2022)\n",
    "\n",
    "# NA 확인\n",
    "CS_2022.isna().sum()"
   ]
  },
  {
   "cell_type": "markdown",
   "id": "1a202c4d",
   "metadata": {},
   "source": [
    "### 문12-4.문화예술활동문화행사참석횟수_총합 (attend_cnt)\n",
    "\n",
    "### !!! 각 컬럼 값이 NA가 아닌데 NA로 나와서 모두 결측치로 나옴 !!!"
   ]
  },
  {
   "cell_type": "code",
   "execution_count": 252,
   "id": "87960a03",
   "metadata": {},
   "outputs": [
    {
     "name": "stdout",
     "output_type": "stream",
     "text": [
      "       sex  age  education  married  work  income  sido  disabled  standard  \\\n",
      "0        2    7          2        3     5       2     6         1         5   \n",
      "1        1    7          1        3     5       2     3         1         1   \n",
      "2        1    7          3        1     5       2    11         1         2   \n",
      "3        2    4          3        3     1       3     6         1         5   \n",
      "4        1    2          3        1     5       2     1         3         5   \n",
      "...    ...  ...        ...      ...   ...     ...   ...       ...       ...   \n",
      "10134    1    3          4        1     1       4    11         1         3   \n",
      "10135    2    1          3        1     5       4    10         1         3   \n",
      "10136    1    7          2        2     5       2    16         1         5   \n",
      "10137    2    6          4        2     5       4    17         1         1   \n",
      "10138    2    3          4        1     1       7    17         1         5   \n",
      "\n",
      "       block  ...  intention  history  history_f  volunteer_cnt  history_cnt  \\\n",
      "0          4  ...          1        1          5            NaN          2.0   \n",
      "1          3  ...          2        1          6            NaN          2.0   \n",
      "2          3  ...          1        2          5            NaN          NaN   \n",
      "3          2  ...          2        2          4            NaN          NaN   \n",
      "4          4  ...          2        2          4            NaN          NaN   \n",
      "...      ...  ...        ...      ...        ...            ...          ...   \n",
      "10134      3  ...          1        2          6            NaN          NaN   \n",
      "10135      3  ...          1        1          6            NaN          5.0   \n",
      "10136      8  ...          2        2          6            NaN          NaN   \n",
      "10137      6  ...          1        2          4            NaN          NaN   \n",
      "10138      3  ...          1        2          3            NaN          NaN   \n",
      "\n",
      "       dv_cnt  mv_cnt  where_cnt  attend_cnt  view_cnt  \n",
      "0         5.0     3.0       16.0         8.0       8.0  \n",
      "1         6.0     6.0        1.0         0.0      12.0  \n",
      "2         3.0     5.0        8.0         5.0       8.0  \n",
      "3         1.0     2.0        8.0         5.0       3.0  \n",
      "4         0.0     0.0        0.0         0.0       0.0  \n",
      "...       ...     ...        ...         ...       ...  \n",
      "10134     2.0     8.0        0.0         0.0      10.0  \n",
      "10135     4.0    16.0        8.0         4.0      20.0  \n",
      "10136     0.0     0.0        0.0         0.0       0.0  \n",
      "10137     0.0     0.0        0.0         0.0       0.0  \n",
      "10138     3.0     3.0        3.0         3.0       6.0  \n",
      "\n",
      "[10139 rows x 21 columns]\n"
     ]
    },
    {
     "data": {
      "text/plain": [
       "sex                 0\n",
       "age                 0\n",
       "education           0\n",
       "married             0\n",
       "work                0\n",
       "income              0\n",
       "sido                0\n",
       "disabled            0\n",
       "standard            0\n",
       "block               0\n",
       "difficulty          0\n",
       "intention           0\n",
       "history             0\n",
       "history_f           0\n",
       "volunteer_cnt    9927\n",
       "history_cnt      5894\n",
       "dv_cnt              0\n",
       "mv_cnt              0\n",
       "where_cnt           0\n",
       "attend_cnt          0\n",
       "view_cnt            0\n",
       "dtype: int64"
      ]
     },
     "execution_count": 252,
     "metadata": {},
     "output_type": "execute_result"
    }
   ],
   "source": [
    "# 각 컬럼의 숫자 합쳐주기\n",
    "CS_2022['attend_cnt'] = raw_2022['Q11_4_1_N'].fillna(0) + raw_2022['Q11_4_2_N'].fillna(0) + raw_2022['Q11_4_3_N'].fillna(0) + raw_2022['Q11_4_4_N'].fillna(0) + raw_2022['Q11_4_5_N'].fillna(0) + raw_2022['Q11_4_6_N'].fillna(0) + raw_2022['Q11_4_7_N'].fillna(0) + raw_2022['Q11_4_8_N'].fillna(0) + raw_2022['Q11_4_9_N'].fillna(0) + raw_2022['Q11_4_11_N'].fillna(0) + raw_2022['Q11_4_12_N'].fillna(0) + raw_2022['Q11_4_13_N'].fillna(0) + raw_2022['Q11_4_14_N'].fillna(0)\n",
    "\n",
    "print(CS_2022)\n",
    "\n",
    "# NA 확인\n",
    "CS_2022.isna().sum()"
   ]
  },
  {
   "cell_type": "code",
   "execution_count": 264,
   "id": "e60c83ec",
   "metadata": {},
   "outputs": [
    {
     "data": {
      "text/plain": [
       "(array([1.4856e+04, 0.0000e+00, 1.5110e+03, 0.0000e+00, 0.0000e+00,\n",
       "        1.2140e+03, 0.0000e+00, 7.3400e+02, 0.0000e+00, 0.0000e+00,\n",
       "        4.6400e+02, 0.0000e+00, 3.8300e+02, 0.0000e+00, 0.0000e+00,\n",
       "        2.8000e+02, 0.0000e+00, 1.5300e+02, 0.0000e+00, 0.0000e+00,\n",
       "        1.0700e+02, 0.0000e+00, 5.0000e+01, 0.0000e+00, 0.0000e+00,\n",
       "        2.1600e+02, 0.0000e+00, 5.0000e+01, 0.0000e+00, 0.0000e+00,\n",
       "        1.0000e+02, 0.0000e+00, 5.0000e+01, 0.0000e+00, 0.0000e+00,\n",
       "        3.4000e+01, 0.0000e+00, 5.5000e+01, 0.0000e+00, 0.0000e+00,\n",
       "        2.6000e+01, 0.0000e+00, 2.0000e+01, 0.0000e+00, 0.0000e+00,\n",
       "        8.0000e+00, 0.0000e+00, 1.2000e+01, 0.0000e+00, 0.0000e+00,\n",
       "        5.9000e+01, 0.0000e+00, 1.7000e+01, 0.0000e+00, 0.0000e+00,\n",
       "        1.4000e+01, 0.0000e+00, 5.0000e+00, 0.0000e+00, 0.0000e+00,\n",
       "        1.8000e+01, 0.0000e+00, 1.0000e+01, 0.0000e+00, 0.0000e+00,\n",
       "        8.0000e+00, 0.0000e+00, 4.0000e+00, 0.0000e+00, 0.0000e+00,\n",
       "        7.0000e+00, 0.0000e+00, 2.0000e+00, 0.0000e+00, 0.0000e+00,\n",
       "        3.5000e+01, 0.0000e+00, 5.0000e+00, 0.0000e+00, 0.0000e+00,\n",
       "        5.0000e+00, 0.0000e+00, 1.0000e+00, 0.0000e+00, 0.0000e+00,\n",
       "        4.0000e+00, 0.0000e+00, 2.0000e+00, 0.0000e+00, 0.0000e+00,\n",
       "        3.0000e+00, 0.0000e+00, 2.0000e+00, 0.0000e+00, 0.0000e+00,\n",
       "        3.0000e+00, 0.0000e+00, 0.0000e+00, 0.0000e+00, 0.0000e+00,\n",
       "        1.9000e+01, 0.0000e+00, 1.0000e+00, 0.0000e+00, 0.0000e+00,\n",
       "        7.0000e+00, 0.0000e+00, 4.0000e+00, 0.0000e+00, 0.0000e+00,\n",
       "        2.0000e+00, 0.0000e+00, 7.0000e+00, 0.0000e+00, 0.0000e+00,\n",
       "        1.0000e+00, 0.0000e+00, 2.0000e+00, 0.0000e+00, 0.0000e+00,\n",
       "        6.0000e+00, 0.0000e+00, 2.0000e+00, 0.0000e+00, 0.0000e+00,\n",
       "        8.0000e+00, 0.0000e+00, 3.0000e+00, 0.0000e+00, 0.0000e+00,\n",
       "        3.0000e+00, 0.0000e+00, 0.0000e+00, 0.0000e+00, 0.0000e+00,\n",
       "        0.0000e+00, 0.0000e+00, 3.0000e+00, 0.0000e+00, 0.0000e+00,\n",
       "        0.0000e+00, 0.0000e+00, 0.0000e+00, 0.0000e+00, 0.0000e+00,\n",
       "        0.0000e+00, 0.0000e+00, 0.0000e+00, 0.0000e+00, 0.0000e+00,\n",
       "        3.0000e+00, 0.0000e+00, 0.0000e+00, 0.0000e+00, 0.0000e+00,\n",
       "        1.0000e+00, 0.0000e+00, 0.0000e+00, 0.0000e+00, 0.0000e+00,\n",
       "        0.0000e+00, 0.0000e+00, 1.0000e+00, 0.0000e+00, 0.0000e+00,\n",
       "        1.0000e+00, 0.0000e+00, 0.0000e+00, 0.0000e+00, 0.0000e+00,\n",
       "        0.0000e+00, 0.0000e+00, 0.0000e+00, 0.0000e+00, 0.0000e+00,\n",
       "        1.0000e+00, 0.0000e+00, 0.0000e+00, 0.0000e+00, 0.0000e+00,\n",
       "        0.0000e+00, 0.0000e+00, 0.0000e+00, 0.0000e+00, 0.0000e+00,\n",
       "        0.0000e+00, 0.0000e+00, 0.0000e+00, 0.0000e+00, 0.0000e+00,\n",
       "        0.0000e+00, 0.0000e+00, 0.0000e+00, 0.0000e+00, 0.0000e+00,\n",
       "        1.0000e+00, 0.0000e+00, 0.0000e+00, 0.0000e+00, 0.0000e+00,\n",
       "        2.0000e+00, 0.0000e+00, 0.0000e+00, 0.0000e+00, 0.0000e+00,\n",
       "        1.0000e+00, 0.0000e+00, 0.0000e+00, 0.0000e+00, 0.0000e+00,\n",
       "        0.0000e+00, 0.0000e+00, 0.0000e+00, 0.0000e+00, 0.0000e+00,\n",
       "        1.0000e+00, 0.0000e+00, 0.0000e+00, 0.0000e+00, 0.0000e+00,\n",
       "        0.0000e+00, 0.0000e+00, 0.0000e+00, 0.0000e+00, 0.0000e+00,\n",
       "        1.0000e+00, 0.0000e+00, 0.0000e+00, 0.0000e+00, 0.0000e+00,\n",
       "        0.0000e+00, 0.0000e+00, 1.0000e+00, 0.0000e+00, 0.0000e+00,\n",
       "        0.0000e+00, 0.0000e+00, 0.0000e+00, 0.0000e+00, 0.0000e+00,\n",
       "        0.0000e+00, 0.0000e+00, 0.0000e+00, 0.0000e+00, 0.0000e+00,\n",
       "        0.0000e+00, 0.0000e+00, 0.0000e+00, 0.0000e+00, 0.0000e+00,\n",
       "        6.0000e+00, 0.0000e+00, 0.0000e+00, 0.0000e+00, 0.0000e+00,\n",
       "        2.0000e+00, 0.0000e+00, 0.0000e+00, 0.0000e+00, 0.0000e+00,\n",
       "        0.0000e+00, 0.0000e+00, 0.0000e+00, 0.0000e+00, 0.0000e+00,\n",
       "        0.0000e+00, 0.0000e+00, 0.0000e+00, 0.0000e+00, 0.0000e+00,\n",
       "        0.0000e+00, 0.0000e+00, 0.0000e+00, 0.0000e+00, 0.0000e+00,\n",
       "        1.0000e+00, 0.0000e+00, 0.0000e+00, 0.0000e+00, 0.0000e+00,\n",
       "        0.0000e+00, 0.0000e+00, 0.0000e+00, 0.0000e+00, 0.0000e+00,\n",
       "        0.0000e+00, 0.0000e+00, 0.0000e+00, 0.0000e+00, 0.0000e+00,\n",
       "        0.0000e+00, 0.0000e+00, 0.0000e+00, 0.0000e+00, 0.0000e+00,\n",
       "        0.0000e+00, 0.0000e+00, 0.0000e+00, 0.0000e+00, 0.0000e+00,\n",
       "        2.0000e+00, 0.0000e+00, 0.0000e+00, 0.0000e+00, 0.0000e+00,\n",
       "        0.0000e+00, 0.0000e+00, 0.0000e+00, 0.0000e+00, 0.0000e+00,\n",
       "        0.0000e+00, 0.0000e+00, 0.0000e+00, 0.0000e+00, 0.0000e+00,\n",
       "        1.0000e+00, 0.0000e+00, 0.0000e+00, 0.0000e+00, 0.0000e+00,\n",
       "        0.0000e+00, 0.0000e+00, 0.0000e+00, 0.0000e+00, 0.0000e+00,\n",
       "        0.0000e+00, 0.0000e+00, 0.0000e+00, 0.0000e+00, 0.0000e+00,\n",
       "        0.0000e+00, 0.0000e+00, 0.0000e+00, 0.0000e+00, 0.0000e+00,\n",
       "        0.0000e+00, 0.0000e+00, 0.0000e+00, 0.0000e+00, 0.0000e+00,\n",
       "        0.0000e+00, 0.0000e+00, 0.0000e+00, 0.0000e+00, 0.0000e+00,\n",
       "        0.0000e+00, 0.0000e+00, 0.0000e+00, 0.0000e+00, 0.0000e+00,\n",
       "        0.0000e+00, 0.0000e+00, 0.0000e+00, 0.0000e+00, 0.0000e+00,\n",
       "        0.0000e+00, 0.0000e+00, 0.0000e+00, 0.0000e+00, 0.0000e+00,\n",
       "        0.0000e+00, 0.0000e+00, 0.0000e+00, 0.0000e+00, 0.0000e+00,\n",
       "        0.0000e+00, 0.0000e+00, 0.0000e+00, 0.0000e+00, 0.0000e+00,\n",
       "        0.0000e+00, 0.0000e+00, 0.0000e+00, 0.0000e+00, 0.0000e+00,\n",
       "        2.0000e+00, 0.0000e+00, 0.0000e+00, 0.0000e+00, 0.0000e+00,\n",
       "        0.0000e+00, 0.0000e+00, 0.0000e+00, 0.0000e+00, 0.0000e+00,\n",
       "        0.0000e+00, 0.0000e+00, 0.0000e+00, 0.0000e+00, 0.0000e+00,\n",
       "        0.0000e+00, 0.0000e+00, 0.0000e+00, 0.0000e+00, 0.0000e+00,\n",
       "        0.0000e+00, 0.0000e+00, 0.0000e+00, 0.0000e+00, 0.0000e+00,\n",
       "        0.0000e+00, 0.0000e+00, 0.0000e+00, 0.0000e+00, 0.0000e+00,\n",
       "        0.0000e+00, 0.0000e+00, 0.0000e+00, 0.0000e+00, 0.0000e+00,\n",
       "        0.0000e+00, 0.0000e+00, 0.0000e+00, 0.0000e+00, 0.0000e+00,\n",
       "        0.0000e+00, 0.0000e+00, 0.0000e+00, 0.0000e+00, 0.0000e+00,\n",
       "        0.0000e+00, 0.0000e+00, 0.0000e+00, 0.0000e+00, 0.0000e+00,\n",
       "        0.0000e+00, 0.0000e+00, 0.0000e+00, 0.0000e+00, 0.0000e+00,\n",
       "        0.0000e+00, 0.0000e+00, 0.0000e+00, 0.0000e+00, 0.0000e+00,\n",
       "        0.0000e+00, 0.0000e+00, 0.0000e+00, 0.0000e+00, 0.0000e+00,\n",
       "        0.0000e+00, 0.0000e+00, 0.0000e+00, 0.0000e+00, 0.0000e+00,\n",
       "        0.0000e+00, 0.0000e+00, 0.0000e+00, 0.0000e+00, 0.0000e+00,\n",
       "        0.0000e+00, 0.0000e+00, 0.0000e+00, 0.0000e+00, 0.0000e+00,\n",
       "        0.0000e+00, 0.0000e+00, 0.0000e+00, 0.0000e+00, 0.0000e+00,\n",
       "        0.0000e+00, 0.0000e+00, 0.0000e+00, 0.0000e+00, 0.0000e+00,\n",
       "        0.0000e+00, 0.0000e+00, 0.0000e+00, 0.0000e+00, 0.0000e+00,\n",
       "        0.0000e+00, 0.0000e+00, 0.0000e+00, 0.0000e+00, 0.0000e+00,\n",
       "        0.0000e+00, 0.0000e+00, 0.0000e+00, 0.0000e+00, 0.0000e+00,\n",
       "        0.0000e+00, 0.0000e+00, 0.0000e+00, 0.0000e+00, 0.0000e+00,\n",
       "        0.0000e+00, 0.0000e+00, 0.0000e+00, 0.0000e+00, 0.0000e+00,\n",
       "        0.0000e+00, 0.0000e+00, 0.0000e+00, 0.0000e+00, 0.0000e+00,\n",
       "        0.0000e+00, 0.0000e+00, 0.0000e+00, 0.0000e+00, 1.0000e+00]),\n",
       " array([  0. ,   0.4,   0.8,   1.2,   1.6,   2. ,   2.4,   2.8,   3.2,\n",
       "          3.6,   4. ,   4.4,   4.8,   5.2,   5.6,   6. ,   6.4,   6.8,\n",
       "          7.2,   7.6,   8. ,   8.4,   8.8,   9.2,   9.6,  10. ,  10.4,\n",
       "         10.8,  11.2,  11.6,  12. ,  12.4,  12.8,  13.2,  13.6,  14. ,\n",
       "         14.4,  14.8,  15.2,  15.6,  16. ,  16.4,  16.8,  17.2,  17.6,\n",
       "         18. ,  18.4,  18.8,  19.2,  19.6,  20. ,  20.4,  20.8,  21.2,\n",
       "         21.6,  22. ,  22.4,  22.8,  23.2,  23.6,  24. ,  24.4,  24.8,\n",
       "         25.2,  25.6,  26. ,  26.4,  26.8,  27.2,  27.6,  28. ,  28.4,\n",
       "         28.8,  29.2,  29.6,  30. ,  30.4,  30.8,  31.2,  31.6,  32. ,\n",
       "         32.4,  32.8,  33.2,  33.6,  34. ,  34.4,  34.8,  35.2,  35.6,\n",
       "         36. ,  36.4,  36.8,  37.2,  37.6,  38. ,  38.4,  38.8,  39.2,\n",
       "         39.6,  40. ,  40.4,  40.8,  41.2,  41.6,  42. ,  42.4,  42.8,\n",
       "         43.2,  43.6,  44. ,  44.4,  44.8,  45.2,  45.6,  46. ,  46.4,\n",
       "         46.8,  47.2,  47.6,  48. ,  48.4,  48.8,  49.2,  49.6,  50. ,\n",
       "         50.4,  50.8,  51.2,  51.6,  52. ,  52.4,  52.8,  53.2,  53.6,\n",
       "         54. ,  54.4,  54.8,  55.2,  55.6,  56. ,  56.4,  56.8,  57.2,\n",
       "         57.6,  58. ,  58.4,  58.8,  59.2,  59.6,  60. ,  60.4,  60.8,\n",
       "         61.2,  61.6,  62. ,  62.4,  62.8,  63.2,  63.6,  64. ,  64.4,\n",
       "         64.8,  65.2,  65.6,  66. ,  66.4,  66.8,  67.2,  67.6,  68. ,\n",
       "         68.4,  68.8,  69.2,  69.6,  70. ,  70.4,  70.8,  71.2,  71.6,\n",
       "         72. ,  72.4,  72.8,  73.2,  73.6,  74. ,  74.4,  74.8,  75.2,\n",
       "         75.6,  76. ,  76.4,  76.8,  77.2,  77.6,  78. ,  78.4,  78.8,\n",
       "         79.2,  79.6,  80. ,  80.4,  80.8,  81.2,  81.6,  82. ,  82.4,\n",
       "         82.8,  83.2,  83.6,  84. ,  84.4,  84.8,  85.2,  85.6,  86. ,\n",
       "         86.4,  86.8,  87.2,  87.6,  88. ,  88.4,  88.8,  89.2,  89.6,\n",
       "         90. ,  90.4,  90.8,  91.2,  91.6,  92. ,  92.4,  92.8,  93.2,\n",
       "         93.6,  94. ,  94.4,  94.8,  95.2,  95.6,  96. ,  96.4,  96.8,\n",
       "         97.2,  97.6,  98. ,  98.4,  98.8,  99.2,  99.6, 100. , 100.4,\n",
       "        100.8, 101.2, 101.6, 102. , 102.4, 102.8, 103.2, 103.6, 104. ,\n",
       "        104.4, 104.8, 105.2, 105.6, 106. , 106.4, 106.8, 107.2, 107.6,\n",
       "        108. , 108.4, 108.8, 109.2, 109.6, 110. , 110.4, 110.8, 111.2,\n",
       "        111.6, 112. , 112.4, 112.8, 113.2, 113.6, 114. , 114.4, 114.8,\n",
       "        115.2, 115.6, 116. , 116.4, 116.8, 117.2, 117.6, 118. , 118.4,\n",
       "        118.8, 119.2, 119.6, 120. , 120.4, 120.8, 121.2, 121.6, 122. ,\n",
       "        122.4, 122.8, 123.2, 123.6, 124. , 124.4, 124.8, 125.2, 125.6,\n",
       "        126. , 126.4, 126.8, 127.2, 127.6, 128. , 128.4, 128.8, 129.2,\n",
       "        129.6, 130. , 130.4, 130.8, 131.2, 131.6, 132. , 132.4, 132.8,\n",
       "        133.2, 133.6, 134. , 134.4, 134.8, 135.2, 135.6, 136. , 136.4,\n",
       "        136.8, 137.2, 137.6, 138. , 138.4, 138.8, 139.2, 139.6, 140. ,\n",
       "        140.4, 140.8, 141.2, 141.6, 142. , 142.4, 142.8, 143.2, 143.6,\n",
       "        144. , 144.4, 144.8, 145.2, 145.6, 146. , 146.4, 146.8, 147.2,\n",
       "        147.6, 148. , 148.4, 148.8, 149.2, 149.6, 150. , 150.4, 150.8,\n",
       "        151.2, 151.6, 152. , 152.4, 152.8, 153.2, 153.6, 154. , 154.4,\n",
       "        154.8, 155.2, 155.6, 156. , 156.4, 156.8, 157.2, 157.6, 158. ,\n",
       "        158.4, 158.8, 159.2, 159.6, 160. , 160.4, 160.8, 161.2, 161.6,\n",
       "        162. , 162.4, 162.8, 163.2, 163.6, 164. , 164.4, 164.8, 165.2,\n",
       "        165.6, 166. , 166.4, 166.8, 167.2, 167.6, 168. , 168.4, 168.8,\n",
       "        169.2, 169.6, 170. , 170.4, 170.8, 171.2, 171.6, 172. , 172.4,\n",
       "        172.8, 173.2, 173.6, 174. , 174.4, 174.8, 175.2, 175.6, 176. ,\n",
       "        176.4, 176.8, 177.2, 177.6, 178. , 178.4, 178.8, 179.2, 179.6,\n",
       "        180. , 180.4, 180.8, 181.2, 181.6, 182. , 182.4, 182.8, 183.2,\n",
       "        183.6, 184. , 184.4, 184.8, 185.2, 185.6, 186. , 186.4, 186.8,\n",
       "        187.2, 187.6, 188. , 188.4, 188.8, 189.2, 189.6, 190. , 190.4,\n",
       "        190.8, 191.2, 191.6, 192. , 192.4, 192.8, 193.2, 193.6, 194. ,\n",
       "        194.4, 194.8, 195.2, 195.6, 196. , 196.4, 196.8, 197.2, 197.6,\n",
       "        198. , 198.4, 198.8, 199.2, 199.6, 200. ]),\n",
       " <BarContainer object of 500 artists>)"
      ]
     },
     "execution_count": 264,
     "metadata": {},
     "output_type": "execute_result"
    },
    {
     "data": {
      "image/png": "[encoded data removed]",
      "text/plain": [
       "<Figure size 640x480 with 1 Axes>"
      ]
     },
     "metadata": {},
     "output_type": "display_data"
    }
   ],
   "source": [
    "import matplotlib.pyplot as plt\n",
    "\n",
    "plt.hist(CS['attend_cnt'],bins=500)\n",
    "plt.show()\n"
   ]
  },
  {
   "cell_type": "code",
   "execution_count": 265,
   "id": "de0a834b",
   "metadata": {},
   "outputs": [
    {
     "data": {
      "text/plain": [
       "(array([7.249e+03, 0.000e+00, 0.000e+00, 0.000e+00, 0.000e+00, 0.000e+00,\n",
       "        0.000e+00, 0.000e+00, 8.690e+02, 0.000e+00, 0.000e+00, 0.000e+00,\n",
       "        0.000e+00, 0.000e+00, 0.000e+00, 0.000e+00, 7.800e+02, 0.000e+00,\n",
       "        0.000e+00, 0.000e+00, 0.000e+00, 0.000e+00, 0.000e+00, 0.000e+00,\n",
       "        0.000e+00, 4.310e+02, 0.000e+00, 0.000e+00, 0.000e+00, 0.000e+00,\n",
       "        0.000e+00, 0.000e+00, 0.000e+00, 2.570e+02, 0.000e+00, 0.000e+00,\n",
       "        0.000e+00, 0.000e+00, 0.000e+00, 0.000e+00, 0.000e+00, 2.030e+02,\n",
       "        0.000e+00, 0.000e+00, 0.000e+00, 0.000e+00, 0.000e+00, 0.000e+00,\n",
       "        0.000e+00, 0.000e+00, 1.200e+02, 0.000e+00, 0.000e+00, 0.000e+00,\n",
       "        0.000e+00, 0.000e+00, 0.000e+00, 0.000e+00, 6.900e+01, 0.000e+00,\n",
       "        0.000e+00, 0.000e+00, 0.000e+00, 0.000e+00, 0.000e+00, 0.000e+00,\n",
       "        4.300e+01, 0.000e+00, 0.000e+00, 0.000e+00, 0.000e+00, 0.000e+00,\n",
       "        0.000e+00, 0.000e+00, 0.000e+00, 1.300e+01, 0.000e+00, 0.000e+00,\n",
       "        0.000e+00, 0.000e+00, 0.000e+00, 0.000e+00, 0.000e+00, 3.200e+01,\n",
       "        0.000e+00, 0.000e+00, 0.000e+00, 0.000e+00, 0.000e+00, 0.000e+00,\n",
       "        0.000e+00, 6.000e+00, 0.000e+00, 0.000e+00, 0.000e+00, 0.000e+00,\n",
       "        0.000e+00, 0.000e+00, 0.000e+00, 0.000e+00, 1.300e+01, 0.000e+00,\n",
       "        0.000e+00, 0.000e+00, 0.000e+00, 0.000e+00, 0.000e+00, 0.000e+00,\n",
       "        4.000e+00, 0.000e+00, 0.000e+00, 0.000e+00, 0.000e+00, 0.000e+00,\n",
       "        0.000e+00, 0.000e+00, 3.000e+00, 0.000e+00, 0.000e+00, 0.000e+00,\n",
       "        0.000e+00, 0.000e+00, 0.000e+00, 0.000e+00, 0.000e+00, 8.000e+00,\n",
       "        0.000e+00, 0.000e+00, 0.000e+00, 0.000e+00, 0.000e+00, 0.000e+00,\n",
       "        0.000e+00, 3.000e+00, 0.000e+00, 0.000e+00, 0.000e+00, 0.000e+00,\n",
       "        0.000e+00, 0.000e+00, 0.000e+00, 1.000e+00, 0.000e+00, 0.000e+00,\n",
       "        0.000e+00, 0.000e+00, 0.000e+00, 0.000e+00, 0.000e+00, 0.000e+00,\n",
       "        1.000e+00, 0.000e+00, 0.000e+00, 0.000e+00, 0.000e+00, 0.000e+00,\n",
       "        0.000e+00, 0.000e+00, 0.000e+00, 0.000e+00, 0.000e+00, 0.000e+00,\n",
       "        0.000e+00, 0.000e+00, 0.000e+00, 0.000e+00, 1.200e+01, 0.000e+00,\n",
       "        0.000e+00, 0.000e+00, 0.000e+00, 0.000e+00, 0.000e+00, 0.000e+00,\n",
       "        0.000e+00, 0.000e+00, 0.000e+00, 0.000e+00, 0.000e+00, 0.000e+00,\n",
       "        0.000e+00, 0.000e+00, 0.000e+00, 2.000e+00, 0.000e+00, 0.000e+00,\n",
       "        0.000e+00, 0.000e+00, 0.000e+00, 0.000e+00, 0.000e+00, 0.000e+00,\n",
       "        0.000e+00, 0.000e+00, 0.000e+00, 0.000e+00, 0.000e+00, 0.000e+00,\n",
       "        0.000e+00, 0.000e+00, 1.000e+00, 0.000e+00, 0.000e+00, 0.000e+00,\n",
       "        0.000e+00, 0.000e+00, 0.000e+00, 0.000e+00, 0.000e+00, 0.000e+00,\n",
       "        0.000e+00, 0.000e+00, 0.000e+00, 0.000e+00, 0.000e+00, 0.000e+00,\n",
       "        0.000e+00, 0.000e+00, 0.000e+00, 0.000e+00, 0.000e+00, 0.000e+00,\n",
       "        0.000e+00, 0.000e+00, 0.000e+00, 0.000e+00, 0.000e+00, 0.000e+00,\n",
       "        0.000e+00, 0.000e+00, 0.000e+00, 0.000e+00, 0.000e+00, 1.000e+00,\n",
       "        0.000e+00, 0.000e+00, 0.000e+00, 0.000e+00, 0.000e+00, 0.000e+00,\n",
       "        0.000e+00, 0.000e+00, 0.000e+00, 0.000e+00, 0.000e+00, 0.000e+00,\n",
       "        0.000e+00, 0.000e+00, 0.000e+00, 0.000e+00, 1.000e+00, 0.000e+00,\n",
       "        0.000e+00, 0.000e+00, 0.000e+00, 0.000e+00, 0.000e+00, 0.000e+00,\n",
       "        0.000e+00, 0.000e+00, 0.000e+00, 0.000e+00, 0.000e+00, 0.000e+00,\n",
       "        0.000e+00, 0.000e+00, 1.000e+00, 0.000e+00, 0.000e+00, 0.000e+00,\n",
       "        0.000e+00, 0.000e+00, 0.000e+00, 0.000e+00, 0.000e+00, 2.000e+00,\n",
       "        0.000e+00, 0.000e+00, 0.000e+00, 0.000e+00, 0.000e+00, 0.000e+00,\n",
       "        0.000e+00, 0.000e+00, 0.000e+00, 0.000e+00, 0.000e+00, 0.000e+00,\n",
       "        0.000e+00, 0.000e+00, 0.000e+00, 0.000e+00, 0.000e+00, 0.000e+00,\n",
       "        0.000e+00, 0.000e+00, 0.000e+00, 0.000e+00, 0.000e+00, 0.000e+00,\n",
       "        2.000e+00, 0.000e+00, 0.000e+00, 0.000e+00, 0.000e+00, 0.000e+00,\n",
       "        0.000e+00, 0.000e+00, 0.000e+00, 0.000e+00, 0.000e+00, 0.000e+00,\n",
       "        0.000e+00, 0.000e+00, 0.000e+00, 0.000e+00, 0.000e+00, 0.000e+00,\n",
       "        0.000e+00, 0.000e+00, 0.000e+00, 0.000e+00, 0.000e+00, 0.000e+00,\n",
       "        0.000e+00, 0.000e+00, 0.000e+00, 0.000e+00, 0.000e+00, 0.000e+00,\n",
       "        0.000e+00, 0.000e+00, 0.000e+00, 2.000e+00, 0.000e+00, 0.000e+00,\n",
       "        0.000e+00, 0.000e+00, 0.000e+00, 0.000e+00, 0.000e+00, 0.000e+00,\n",
       "        0.000e+00, 0.000e+00, 0.000e+00, 0.000e+00, 0.000e+00, 0.000e+00,\n",
       "        0.000e+00, 0.000e+00, 1.000e+00, 0.000e+00, 0.000e+00, 0.000e+00,\n",
       "        0.000e+00, 0.000e+00, 0.000e+00, 0.000e+00, 2.000e+00, 0.000e+00,\n",
       "        0.000e+00, 0.000e+00, 0.000e+00, 0.000e+00, 0.000e+00, 0.000e+00,\n",
       "        3.000e+00, 0.000e+00, 0.000e+00, 0.000e+00, 0.000e+00, 0.000e+00,\n",
       "        0.000e+00, 0.000e+00, 0.000e+00, 0.000e+00, 0.000e+00, 0.000e+00,\n",
       "        0.000e+00, 0.000e+00, 0.000e+00, 0.000e+00, 0.000e+00, 0.000e+00,\n",
       "        0.000e+00, 0.000e+00, 0.000e+00, 0.000e+00, 0.000e+00, 0.000e+00,\n",
       "        0.000e+00, 0.000e+00, 0.000e+00, 0.000e+00, 0.000e+00, 0.000e+00,\n",
       "        0.000e+00, 0.000e+00, 0.000e+00, 0.000e+00, 1.000e+00, 0.000e+00,\n",
       "        0.000e+00, 0.000e+00, 0.000e+00, 0.000e+00, 0.000e+00, 0.000e+00,\n",
       "        0.000e+00, 0.000e+00, 0.000e+00, 0.000e+00, 0.000e+00, 0.000e+00,\n",
       "        0.000e+00, 0.000e+00, 1.000e+00, 0.000e+00, 0.000e+00, 0.000e+00,\n",
       "        0.000e+00, 0.000e+00, 0.000e+00, 0.000e+00, 0.000e+00, 1.000e+00,\n",
       "        0.000e+00, 0.000e+00, 0.000e+00, 0.000e+00, 0.000e+00, 0.000e+00,\n",
       "        0.000e+00, 0.000e+00, 0.000e+00, 0.000e+00, 0.000e+00, 0.000e+00,\n",
       "        0.000e+00, 0.000e+00, 0.000e+00, 0.000e+00, 0.000e+00, 0.000e+00,\n",
       "        0.000e+00, 0.000e+00, 0.000e+00, 0.000e+00, 0.000e+00, 0.000e+00,\n",
       "        0.000e+00, 0.000e+00, 0.000e+00, 0.000e+00, 0.000e+00, 0.000e+00,\n",
       "        0.000e+00, 0.000e+00, 0.000e+00, 0.000e+00, 0.000e+00, 0.000e+00,\n",
       "        0.000e+00, 0.000e+00, 0.000e+00, 0.000e+00, 0.000e+00, 0.000e+00,\n",
       "        0.000e+00, 0.000e+00, 0.000e+00, 0.000e+00, 0.000e+00, 0.000e+00,\n",
       "        0.000e+00, 0.000e+00, 0.000e+00, 0.000e+00, 0.000e+00, 0.000e+00,\n",
       "        0.000e+00, 0.000e+00, 0.000e+00, 0.000e+00, 0.000e+00, 0.000e+00,\n",
       "        0.000e+00, 0.000e+00, 0.000e+00, 0.000e+00, 0.000e+00, 0.000e+00,\n",
       "        0.000e+00, 0.000e+00, 0.000e+00, 0.000e+00, 0.000e+00, 0.000e+00,\n",
       "        0.000e+00, 1.000e+00]),\n",
       " array([ 0.  ,  0.12,  0.24,  0.36,  0.48,  0.6 ,  0.72,  0.84,  0.96,\n",
       "         1.08,  1.2 ,  1.32,  1.44,  1.56,  1.68,  1.8 ,  1.92,  2.04,\n",
       "         2.16,  2.28,  2.4 ,  2.52,  2.64,  2.76,  2.88,  3.  ,  3.12,\n",
       "         3.24,  3.36,  3.48,  3.6 ,  3.72,  3.84,  3.96,  4.08,  4.2 ,\n",
       "         4.32,  4.44,  4.56,  4.68,  4.8 ,  4.92,  5.04,  5.16,  5.28,\n",
       "         5.4 ,  5.52,  5.64,  5.76,  5.88,  6.  ,  6.12,  6.24,  6.36,\n",
       "         6.48,  6.6 ,  6.72,  6.84,  6.96,  7.08,  7.2 ,  7.32,  7.44,\n",
       "         7.56,  7.68,  7.8 ,  7.92,  8.04,  8.16,  8.28,  8.4 ,  8.52,\n",
       "         8.64,  8.76,  8.88,  9.  ,  9.12,  9.24,  9.36,  9.48,  9.6 ,\n",
       "         9.72,  9.84,  9.96, 10.08, 10.2 , 10.32, 10.44, 10.56, 10.68,\n",
       "        10.8 , 10.92, 11.04, 11.16, 11.28, 11.4 , 11.52, 11.64, 11.76,\n",
       "        11.88, 12.  , 12.12, 12.24, 12.36, 12.48, 12.6 , 12.72, 12.84,\n",
       "        12.96, 13.08, 13.2 , 13.32, 13.44, 13.56, 13.68, 13.8 , 13.92,\n",
       "        14.04, 14.16, 14.28, 14.4 , 14.52, 14.64, 14.76, 14.88, 15.  ,\n",
       "        15.12, 15.24, 15.36, 15.48, 15.6 , 15.72, 15.84, 15.96, 16.08,\n",
       "        16.2 , 16.32, 16.44, 16.56, 16.68, 16.8 , 16.92, 17.04, 17.16,\n",
       "        17.28, 17.4 , 17.52, 17.64, 17.76, 17.88, 18.  , 18.12, 18.24,\n",
       "        18.36, 18.48, 18.6 , 18.72, 18.84, 18.96, 19.08, 19.2 , 19.32,\n",
       "        19.44, 19.56, 19.68, 19.8 , 19.92, 20.04, 20.16, 20.28, 20.4 ,\n",
       "        20.52, 20.64, 20.76, 20.88, 21.  , 21.12, 21.24, 21.36, 21.48,\n",
       "        21.6 , 21.72, 21.84, 21.96, 22.08, 22.2 , 22.32, 22.44, 22.56,\n",
       "        22.68, 22.8 , 22.92, 23.04, 23.16, 23.28, 23.4 , 23.52, 23.64,\n",
       "        23.76, 23.88, 24.  , 24.12, 24.24, 24.36, 24.48, 24.6 , 24.72,\n",
       "        24.84, 24.96, 25.08, 25.2 , 25.32, 25.44, 25.56, 25.68, 25.8 ,\n",
       "        25.92, 26.04, 26.16, 26.28, 26.4 , 26.52, 26.64, 26.76, 26.88,\n",
       "        27.  , 27.12, 27.24, 27.36, 27.48, 27.6 , 27.72, 27.84, 27.96,\n",
       "        28.08, 28.2 , 28.32, 28.44, 28.56, 28.68, 28.8 , 28.92, 29.04,\n",
       "        29.16, 29.28, 29.4 , 29.52, 29.64, 29.76, 29.88, 30.  , 30.12,\n",
       "        30.24, 30.36, 30.48, 30.6 , 30.72, 30.84, 30.96, 31.08, 31.2 ,\n",
       "        31.32, 31.44, 31.56, 31.68, 31.8 , 31.92, 32.04, 32.16, 32.28,\n",
       "        32.4 , 32.52, 32.64, 32.76, 32.88, 33.  , 33.12, 33.24, 33.36,\n",
       "        33.48, 33.6 , 33.72, 33.84, 33.96, 34.08, 34.2 , 34.32, 34.44,\n",
       "        34.56, 34.68, 34.8 , 34.92, 35.04, 35.16, 35.28, 35.4 , 35.52,\n",
       "        35.64, 35.76, 35.88, 36.  , 36.12, 36.24, 36.36, 36.48, 36.6 ,\n",
       "        36.72, 36.84, 36.96, 37.08, 37.2 , 37.32, 37.44, 37.56, 37.68,\n",
       "        37.8 , 37.92, 38.04, 38.16, 38.28, 38.4 , 38.52, 38.64, 38.76,\n",
       "        38.88, 39.  , 39.12, 39.24, 39.36, 39.48, 39.6 , 39.72, 39.84,\n",
       "        39.96, 40.08, 40.2 , 40.32, 40.44, 40.56, 40.68, 40.8 , 40.92,\n",
       "        41.04, 41.16, 41.28, 41.4 , 41.52, 41.64, 41.76, 41.88, 42.  ,\n",
       "        42.12, 42.24, 42.36, 42.48, 42.6 , 42.72, 42.84, 42.96, 43.08,\n",
       "        43.2 , 43.32, 43.44, 43.56, 43.68, 43.8 , 43.92, 44.04, 44.16,\n",
       "        44.28, 44.4 , 44.52, 44.64, 44.76, 44.88, 45.  , 45.12, 45.24,\n",
       "        45.36, 45.48, 45.6 , 45.72, 45.84, 45.96, 46.08, 46.2 , 46.32,\n",
       "        46.44, 46.56, 46.68, 46.8 , 46.92, 47.04, 47.16, 47.28, 47.4 ,\n",
       "        47.52, 47.64, 47.76, 47.88, 48.  , 48.12, 48.24, 48.36, 48.48,\n",
       "        48.6 , 48.72, 48.84, 48.96, 49.08, 49.2 , 49.32, 49.44, 49.56,\n",
       "        49.68, 49.8 , 49.92, 50.04, 50.16, 50.28, 50.4 , 50.52, 50.64,\n",
       "        50.76, 50.88, 51.  , 51.12, 51.24, 51.36, 51.48, 51.6 , 51.72,\n",
       "        51.84, 51.96, 52.08, 52.2 , 52.32, 52.44, 52.56, 52.68, 52.8 ,\n",
       "        52.92, 53.04, 53.16, 53.28, 53.4 , 53.52, 53.64, 53.76, 53.88,\n",
       "        54.  , 54.12, 54.24, 54.36, 54.48, 54.6 , 54.72, 54.84, 54.96,\n",
       "        55.08, 55.2 , 55.32, 55.44, 55.56, 55.68, 55.8 , 55.92, 56.04,\n",
       "        56.16, 56.28, 56.4 , 56.52, 56.64, 56.76, 56.88, 57.  , 57.12,\n",
       "        57.24, 57.36, 57.48, 57.6 , 57.72, 57.84, 57.96, 58.08, 58.2 ,\n",
       "        58.32, 58.44, 58.56, 58.68, 58.8 , 58.92, 59.04, 59.16, 59.28,\n",
       "        59.4 , 59.52, 59.64, 59.76, 59.88, 60.  ]),\n",
       " <BarContainer object of 500 artists>)"
      ]
     },
     "execution_count": 265,
     "metadata": {},
     "output_type": "execute_result"
    },
    {
     "data": {
      "image/png": "[encoded data removed]",
      "text/plain": [
       "<Figure size 640x480 with 1 Axes>"
      ]
     },
     "metadata": {},
     "output_type": "display_data"
    }
   ],
   "source": [
    "plt.hist(CS_2022['attend_cnt'],bins=500)\n",
    "plt.show()"
   ]
  },
  {
   "cell_type": "code",
   "execution_count": 238,
   "id": "5f4997b6",
   "metadata": {},
   "outputs": [
    {
     "data": {
      "text/plain": [
       "10139"
      ]
     },
     "execution_count": 238,
     "metadata": {},
     "output_type": "execute_result"
    },
    {
     "data": {
      "text/plain": [
       "0        False\n",
       "1         True\n",
       "2        False\n",
       "3        False\n",
       "4         True\n",
       "         ...  \n",
       "10134     True\n",
       "10135     True\n",
       "10136     True\n",
       "10137     True\n",
       "10138     True\n",
       "Name: Q11_4_1_N, Length: 10139, dtype: bool"
      ]
     },
     "execution_count": 238,
     "metadata": {},
     "output_type": "execute_result"
    }
   ],
   "source": [
    "raw_2022['Q11_4_1_N'].isna().count()\n",
    "raw_2022['Q11_4_1_N'].isna()"
   ]
  },
  {
   "cell_type": "markdown",
   "id": "51d434da",
   "metadata": {},
   "source": [
    "### 문1-1+문4-1 (view_cnt)"
   ]
  },
  {
   "cell_type": "code",
   "execution_count": 239,
   "id": "2dee46d9",
   "metadata": {},
   "outputs": [
    {
     "name": "stdout",
     "output_type": "stream",
     "text": [
      "       sex  age  education  married  work  income  sido  disabled  standard  \\\n",
      "0        2    7          2        3     5       2     6         1         5   \n",
      "1        1    7          1        3     5       2     3         1         1   \n",
      "2        1    7          3        1     5       2    11         1         2   \n",
      "3        2    4          3        3     1       3     6         1         5   \n",
      "4        1    2          3        1     5       2     1         3         5   \n",
      "...    ...  ...        ...      ...   ...     ...   ...       ...       ...   \n",
      "10134    1    3          4        1     1       4    11         1         3   \n",
      "10135    2    1          3        1     5       4    10         1         3   \n",
      "10136    1    7          2        2     5       2    16         1         5   \n",
      "10137    2    6          4        2     5       4    17         1         1   \n",
      "10138    2    3          4        1     1       7    17         1         5   \n",
      "\n",
      "       block  ...  intention  history  history_f  volunteer_cnt  history_cnt  \\\n",
      "0          4  ...          1        1          5            NaN          2.0   \n",
      "1          3  ...          2        1          6            NaN          2.0   \n",
      "2          3  ...          1        2          5            NaN          NaN   \n",
      "3          2  ...          2        2          4            NaN          NaN   \n",
      "4          4  ...          2        2          4            NaN          NaN   \n",
      "...      ...  ...        ...      ...        ...            ...          ...   \n",
      "10134      3  ...          1        2          6            NaN          NaN   \n",
      "10135      3  ...          1        1          6            NaN          5.0   \n",
      "10136      8  ...          2        2          6            NaN          NaN   \n",
      "10137      6  ...          1        2          4            NaN          NaN   \n",
      "10138      3  ...          1        2          3            NaN          NaN   \n",
      "\n",
      "       dv_cnt  mv_cnt  where_cnt  attend_cnt  view_cnt  \n",
      "0         5.0     3.0       16.0         NaN       8.0  \n",
      "1         6.0     6.0        1.0         NaN      12.0  \n",
      "2         3.0     5.0        8.0         NaN       8.0  \n",
      "3         1.0     2.0        8.0         NaN       3.0  \n",
      "4         0.0     0.0        0.0         NaN       0.0  \n",
      "...       ...     ...        ...         ...       ...  \n",
      "10134     2.0     8.0        0.0         NaN      10.0  \n",
      "10135     4.0    16.0        8.0         NaN      20.0  \n",
      "10136     0.0     0.0        0.0         NaN       0.0  \n",
      "10137     0.0     0.0        0.0         NaN       0.0  \n",
      "10138     3.0     3.0        3.0         NaN       6.0  \n",
      "\n",
      "[10139 rows x 21 columns]\n"
     ]
    },
    {
     "data": {
      "text/plain": [
       "sex                  0\n",
       "age                  0\n",
       "education            0\n",
       "married              0\n",
       "work                 0\n",
       "income               0\n",
       "sido                 0\n",
       "disabled             0\n",
       "standard             0\n",
       "block                0\n",
       "difficulty           0\n",
       "intention            0\n",
       "history              0\n",
       "history_f            0\n",
       "volunteer_cnt     9927\n",
       "history_cnt       5894\n",
       "dv_cnt               0\n",
       "mv_cnt               0\n",
       "where_cnt            0\n",
       "attend_cnt       10139\n",
       "view_cnt             0\n",
       "dtype: int64"
      ]
     },
     "execution_count": 239,
     "metadata": {},
     "output_type": "execute_result"
    }
   ],
   "source": [
    "# 각 컬럼의 숫자 합쳐주기\n",
    "CS_2022['view_cnt'] = CS_2022['dv_cnt'] + CS_2022['mv_cnt']\n",
    "\n",
    "print(CS_2022)\n",
    "\n",
    "# NA 확인\n",
    "CS_2022.isna().sum()"
   ]
  },
  {
   "cell_type": "markdown",
   "id": "bcc4d950",
   "metadata": {},
   "source": [
    "## 4 데이터프레임 병합"
   ]
  },
  {
   "cell_type": "code",
   "execution_count": 240,
   "id": "edd415af",
   "metadata": {},
   "outputs": [
    {
     "data": {
      "text/plain": [
       "['festival_cnt', 'expense', 'expense_f', 'festival', 'festival_f']"
      ]
     },
     "execution_count": 240,
     "metadata": {},
     "output_type": "execute_result"
    }
   ],
   "source": [
    "# CS에는 있지만 CS_2022에는 없는 컬럼 출력\n",
    "[x for x in CS if x not in CS_2022]\n",
    "\n",
    "# 다음 컬럼은 2022 데이터에 존재하지 않으므로 포함시키지 않음\n",
    "# festival_cnt\n",
    "# festival\n",
    "# festival_f\n",
    "\n",
    "# 다음 컬럼은 코드 정의서가 없어서 아직 추가하지 못함"
   ]
  },
  {
   "cell_type": "code",
   "execution_count": 241,
   "id": "7362a893",
   "metadata": {},
   "outputs": [],
   "source": [
    "# CS와 CS_2022 모두에게 있는 컬럼만 concat\n",
    "CS_final = pd.concat([CS,CS_2022],join='inner')"
   ]
  },
  {
   "cell_type": "code",
   "execution_count": 242,
   "id": "675bdc54",
   "metadata": {},
   "outputs": [
    {
     "data": {
      "text/plain": [
       "view_cnt             0\n",
       "where_cnt            0\n",
       "attend_cnt       10139\n",
       "volunteer_cnt     9927\n",
       "history_cnt       5894\n",
       "standard             0\n",
       "block                0\n",
       "difficulty           0\n",
       "intention            0\n",
       "history              0\n",
       "history_f            0\n",
       "sex                  0\n",
       "age                  0\n",
       "education            0\n",
       "married              0\n",
       "work                 0\n",
       "income               0\n",
       "sido                 0\n",
       "disabled             0\n",
       "dtype: int64"
      ]
     },
     "execution_count": 242,
     "metadata": {},
     "output_type": "execute_result"
    }
   ],
   "source": [
    "CS_final.isna().sum()"
   ]
  },
  {
   "cell_type": "code",
   "execution_count": 244,
   "id": "fc143e16",
   "metadata": {},
   "outputs": [
    {
     "name": "stdout",
     "output_type": "stream",
     "text": [
      "view_cnt has unique values of:  [ 49.   3.   6.  22.  16.   8.  10.  12.   7.   9.  32.  17.  13.  15.\n",
      "  66.  18.  11.  14.  38.  26.  39.  34.   5.  23.  31.  30.  40.  25.\n",
      "  28.  44.  20.  24.  29.   0.   4.  58.   2.  35.  21.  19.  41.  37.\n",
      "   1.  60.  50. 104.  53. 116.  70.  76.  77.  43. 149.  92.  67.  64.\n",
      "  85. 114.  48.  27.  72.  74.  42.  54.  94.  68.  56.  52.  47.  96.\n",
      "  82.  45. 136.  71. 124.  62.  91. 115.  81. 100. 163.  89.  83. 286.\n",
      " 123.  88.  69.  79.  86. 118.  59. 120.  61.  90. 143. 158.  98.  78.\n",
      "  73.  33. 109. 165. 151. 133. 130.  46. 103. 112. 175. 220.  51.  57.\n",
      " 117.  87. 106. 111. 107. 248.  93. 110. 129.  36. 250. 180.  65. 113.\n",
      " 206. 253.  75. 108. 153. 160.  80.  63.  55. 230. 332. 132. 387. 146.\n",
      "  84. 141. 270. 144. 218. 101. 353. 312. 102. 343. 307. 321. 308. 147.\n",
      " 208. 178. 190. 119. 150. 200. 162. 300. 155. 161. 233. 203.  95. 405.\n",
      " 421. 156. 267. 154. 199. 322. 251. 502. 128. 240. 105. 131. 152. 142.\n",
      " 241. 202. 264. 294. 254. 145. 168. 122. 452. 352. 194. 125. 303.  97.\n",
      " 126.  99. 330. 135. 210. 134. 215. 362. 173. 400. 205. 121. 402. 329.\n",
      " 338. 306. 140. 167. 507. 404. 201. 310. 187. 334. 184. 186. 172. 390.\n",
      " 360. 370. 320. 305. 212. 311. 331. 228. 177. 257. 138. 262. 159. 148.\n",
      " 211. 249. 204. 192. 216. 350. 422. 157. 302. 327. 388. 420. 365. 166.\n",
      " 392. 182. 170. 242. 207. 445. 730. 576. 389. 285. 451. 316. 602. 221.\n",
      " 193. 366. 348. 672. 374. 371. 665. 231. 328. 375. 255. 256. 394. 429.\n",
      " 181. 137. 127. 222.]\n",
      "where_cnt has unique values of:  [  0.   5.  12.   3.  15.  10.   2.   4.  14.  11.   1.   8.  13.  20.\n",
      "  23.  22.  21.   7.   6.  16.  41. 102.  18.   9.  27.  50. 105.  62.\n",
      "  69. 151.  65. 100.  87. 200.  29.  32.  30.  24.  36.  19.  17. 145.\n",
      "  33. 246.  81. 150.  44. 142.  59.  55.  38.  25.  80.  78. 107. 187.\n",
      " 122.  45. 131.  95.  57. 115. 108. 123.  99. 170.  28.  31.  90.  35.\n",
      " 156.  54.  46. 133. 114. 164. 189. 183.  56. 154. 111. 235. 132.  70.\n",
      "  61.  53. 130. 201. 152. 121. 120.  51.  40.  49. 167.  39.  26.  73.\n",
      "  43.  75.  48.  34.  86.  37.  60.  52.  58. 161.  42. 101.  47.  63.\n",
      " 113. 371. 365.  67.  72.  71.  66. 301. 103. 228. 207.  64. 137. 250.\n",
      " 300. 184.  85. 204.  74.  92. 112. 110.  96. 308.  84. 258. 232.  93.\n",
      " 190. 129. 116.  77. 265.  88. 106. 144. 240. 220.  98.]\n",
      "attend_cnt has unique values of:  [  0.   1.   2.   3.   5.   7.   4.  10.  12.  13.  15.  11.  19. 200.\n",
      "  14.  18.  20.  29.   6.  45.   8.   9.  17.  34. 100.  21.  36.  16.\n",
      "  25.  50. 150.  42.  51.  30.  28.  24.  70.  46.  31.  23.  22.  32.\n",
      "  48.  90.  80.  40.  26.  41.  33.  35.  38.  27. 126.  60.  43.  37.\n",
      "  52.  47.  44.  55. 102.  82. 110. 120.  93.  49.  78.  66.  62.  86.\n",
      "  65.  nan]\n",
      "volunteer_cnt has unique values of:  [ 0.  3.  2.  1.  5.  4. 10.  8. 12. 20.  7. 40. 15.  6. 30. 24. 25. 48.\n",
      " 64. 60. 36. 55. 50. nan 96.]\n",
      "history_cnt has unique values of:  [  5.   1.   0.   2.   4.   3.   6.  30.  12.  50.   8.  10.   7.  15.\n",
      "  20.  40.  80.  41.  13.  24.  11.  25.  28.  nan   9. 230.  22.]\n",
      "standard has unique values of:  [ 1  2  3  6  4  7  5  8  9 10]\n",
      "block has unique values of:  [1 6 2 4 3 8 5 9 7]\n",
      "difficulty has unique values of:  [3 1 4 5 2 6 8 7 9]\n",
      "intention has unique values of:  [2 1]\n",
      "history has unique values of:  [1 2]\n",
      "history_f has unique values of:  [6 7 4 5 3 2 1]\n",
      "sex has unique values of:  [2 1]\n",
      "age has unique values of:  [5 2 4 3 6 1 7]\n",
      "education has unique values of:  [3 4 2 1]\n",
      "married has unique values of:  [1 2 3]\n",
      "work has unique values of:  [5 1 3 2 4]\n",
      "income has unique values of:  [3 7 6 5 4 2 1]\n",
      "sido has unique values of:  [ 1  2  3  4  5  6  7  8  9 10 11 12 13 14 15 16 17]\n",
      "disabled has unique values of:  [1 2 3]\n"
     ]
    }
   ],
   "source": [
    "# 문자열이 전부 잘 변환됐는지 확인\n",
    "for col_name in list(CS_final.columns):\n",
    "    print(col_name, 'has unique values of: ', CS_final[col_name].unique())"
   ]
  },
  {
   "cell_type": "markdown",
   "id": "9ba8f2c9",
   "metadata": {},
   "source": [
    "## 5 CSV 파일로 저장"
   ]
  },
  {
   "cell_type": "code",
   "execution_count": 245,
   "id": "f3ed1634",
   "metadata": {},
   "outputs": [],
   "source": [
    "CS_final.to_csv('./new_data/CS_final.csv')"
   ]
  },
  {
   "cell_type": "markdown",
   "id": "c12d598f",
   "metadata": {},
   "source": [
    "## 정리\n",
    "\n",
    "- 축제 관련 데이터는 2022에 없음. 다음의 컬럼들이 사라짐:\n",
    "    - festival_cnt\n",
    "    - festival\n",
    "    - festival_f\n",
    "- 그 외 설문조사지가 바뀌지 않음\n",
    "- attend_cnt, volunteer_cnt, history_cnt 등에 NA가 아님에도 불구하고 NA가 발생함 => 원인 확인 필요\n",
    "- expense/ expense_f 는 같은 이름의 대여/ 직접관람/ 기타가 구분되지 않고 같은 이름을 사용하였음 => 대책 필요\n"
   ]
  },
  {
   "cell_type": "code",
   "execution_count": null,
   "id": "e9aa56a1",
   "metadata": {},
   "outputs": [],
   "source": []
  },
  {
   "cell_type": "markdown",
   "id": "61955bcf",
   "metadata": {},
   "source": [
    "# !!!이제부터 해야할 일!!!\n",
    "\n",
    "</br>\n",
    "- expense/ expense_f 코드값 받아서 전처리 진행\n"
   ]
  }
 ],
 "metadata": {
  "kernelspec": {
   "display_name": "Python 3 (ipykernel)",
   "language": "python",
   "name": "python3"
  },
  "language_info": {
   "codemirror_mode": {
    "name": "ipython",
    "version": 3
   },
   "file_extension": ".py",
   "mimetype": "text/x-python",
   "name": "python",
   "nbconvert_exporter": "python",
   "pygments_lexer": "ipython3",
   "version": "3.10.10"
  }
 },
 "nbformat": 4,
 "nbformat_minor": 5
}
