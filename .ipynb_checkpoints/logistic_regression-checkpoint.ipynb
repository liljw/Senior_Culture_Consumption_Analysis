{
 "cells": [
  {
   "cell_type": "markdown",
   "id": "db74fa9e",
   "metadata": {},
   "source": [
    "## 로지스틱 회귀 분석\n",
    "- Logistic Regression"
   ]
  },
  {
   "cell_type": "markdown",
   "id": "7874ac60",
   "metadata": {},
   "source": [
    "- 적용 분류 기준\n",
    "    1. 전처리\n",
    "        - scailing(min-max)\n",
    "        - log1p\n",
    "    2. target 카테고리 개수\n",
    "    3. 하이퍼 파라미터\n",
    "        - C : 작을수록 규제 강도가 큼"
   ]
  },
  {
   "cell_type": "code",
   "execution_count": 1,
   "id": "7de7d63b",
   "metadata": {},
   "outputs": [],
   "source": [
    "from IPython.core.interactiveshell import InteractiveShell\n",
    "InteractiveShell.ast_node_interactivity=\"all\""
   ]
  },
  {
   "cell_type": "code",
   "execution_count": 2,
   "id": "42a2c312",
   "metadata": {},
   "outputs": [],
   "source": [
    "import pandas as pd\n",
    "import numpy as np\n",
    "import matplotlib.pyplot as plt\n",
    "%matplotlib inline\n",
    "import seaborn as sns\n",
    "import warnings\n",
    "warnings.filterwarnings('ignore')\n",
    "\n",
    "from sklearn.datasets import load_breast_cancer\n",
    "from sklearn.linear_model import LogisticRegression"
   ]
  },
  {
   "cell_type": "markdown",
   "id": "f9b9008e",
   "metadata": {},
   "source": [
    "### 데이터 로드"
   ]
  },
  {
   "cell_type": "code",
   "execution_count": 3,
   "id": "0bda5ffa",
   "metadata": {},
   "outputs": [],
   "source": [
    "CS = pd.read_csv('./data/CS.csv')\n",
    "cs = CS.copy()"
   ]
  },
  {
   "cell_type": "code",
   "execution_count": 4,
   "id": "edaa58a8",
   "metadata": {},
   "outputs": [],
   "source": [
    "# 5~60대로 filtering\n",
    "cs = cs[(cs['age'] == 5) | (cs['age'] == 6)]\n",
    "# 수도권으로 filtering\n",
    "cs = cs[(cs['sido'] == 1) | (cs['sido'] == 9)]"
   ]
  },
  {
   "cell_type": "code",
   "execution_count": 5,
   "id": "bd171011",
   "metadata": {},
   "outputs": [
    {
     "data": {
      "text/plain": [
       "Int64Index([5, 6], dtype='int64')"
      ]
     },
     "execution_count": 5,
     "metadata": {},
     "output_type": "execute_result"
    }
   ],
   "source": [
    "# filtering 확인\n",
    "cs['age'].value_counts().index"
   ]
  },
  {
   "cell_type": "code",
   "execution_count": 6,
   "id": "2ce2c41e",
   "metadata": {},
   "outputs": [
    {
     "data": {
      "text/plain": [
       "Int64Index([9, 1], dtype='int64')"
      ]
     },
     "execution_count": 6,
     "metadata": {},
     "output_type": "execute_result"
    }
   ],
   "source": [
    "# filtering 확인\n",
    "cs['sido'].value_counts().index"
   ]
  },
  {
   "cell_type": "code",
   "execution_count": 7,
   "id": "a090c158",
   "metadata": {
    "scrolled": false
   },
   "outputs": [
    {
     "data": {
      "text/html": [
       "<div>\n",
       "<style scoped>\n",
       "    .dataframe tbody tr th:only-of-type {\n",
       "        vertical-align: middle;\n",
       "    }\n",
       "\n",
       "    .dataframe tbody tr th {\n",
       "        vertical-align: top;\n",
       "    }\n",
       "\n",
       "    .dataframe thead th {\n",
       "        text-align: right;\n",
       "    }\n",
       "</style>\n",
       "<table border=\"1\" class=\"dataframe\">\n",
       "  <thead>\n",
       "    <tr style=\"text-align: right;\">\n",
       "      <th></th>\n",
       "      <th>view_cnt</th>\n",
       "      <th>where_cnt</th>\n",
       "      <th>attend_cnt</th>\n",
       "      <th>volunteer_cnt</th>\n",
       "      <th>history_cnt</th>\n",
       "      <th>festival_cnt</th>\n",
       "      <th>standard</th>\n",
       "      <th>block</th>\n",
       "      <th>expense</th>\n",
       "      <th>expense_f</th>\n",
       "      <th>...</th>\n",
       "      <th>festival</th>\n",
       "      <th>festival_f</th>\n",
       "      <th>sex</th>\n",
       "      <th>age</th>\n",
       "      <th>education</th>\n",
       "      <th>married</th>\n",
       "      <th>work</th>\n",
       "      <th>income</th>\n",
       "      <th>sido</th>\n",
       "      <th>disabled</th>\n",
       "    </tr>\n",
       "  </thead>\n",
       "  <tbody>\n",
       "    <tr>\n",
       "      <th>0</th>\n",
       "      <td>49</td>\n",
       "      <td>0</td>\n",
       "      <td>0</td>\n",
       "      <td>0</td>\n",
       "      <td>5</td>\n",
       "      <td>0</td>\n",
       "      <td>1</td>\n",
       "      <td>1</td>\n",
       "      <td>14</td>\n",
       "      <td>14</td>\n",
       "      <td>...</td>\n",
       "      <td>2</td>\n",
       "      <td>6</td>\n",
       "      <td>2</td>\n",
       "      <td>5</td>\n",
       "      <td>3</td>\n",
       "      <td>1</td>\n",
       "      <td>5</td>\n",
       "      <td>3</td>\n",
       "      <td>1</td>\n",
       "      <td>1</td>\n",
       "    </tr>\n",
       "    <tr>\n",
       "      <th>1</th>\n",
       "      <td>3</td>\n",
       "      <td>3</td>\n",
       "      <td>3</td>\n",
       "      <td>0</td>\n",
       "      <td>1</td>\n",
       "      <td>0</td>\n",
       "      <td>2</td>\n",
       "      <td>6</td>\n",
       "      <td>14</td>\n",
       "      <td>9</td>\n",
       "      <td>...</td>\n",
       "      <td>2</td>\n",
       "      <td>7</td>\n",
       "      <td>2</td>\n",
       "      <td>5</td>\n",
       "      <td>3</td>\n",
       "      <td>2</td>\n",
       "      <td>5</td>\n",
       "      <td>7</td>\n",
       "      <td>1</td>\n",
       "      <td>1</td>\n",
       "    </tr>\n",
       "    <tr>\n",
       "      <th>6</th>\n",
       "      <td>22</td>\n",
       "      <td>15</td>\n",
       "      <td>0</td>\n",
       "      <td>0</td>\n",
       "      <td>0</td>\n",
       "      <td>0</td>\n",
       "      <td>2</td>\n",
       "      <td>2</td>\n",
       "      <td>14</td>\n",
       "      <td>14</td>\n",
       "      <td>...</td>\n",
       "      <td>2</td>\n",
       "      <td>5</td>\n",
       "      <td>2</td>\n",
       "      <td>5</td>\n",
       "      <td>4</td>\n",
       "      <td>3</td>\n",
       "      <td>1</td>\n",
       "      <td>5</td>\n",
       "      <td>1</td>\n",
       "      <td>1</td>\n",
       "    </tr>\n",
       "    <tr>\n",
       "      <th>7</th>\n",
       "      <td>10</td>\n",
       "      <td>0</td>\n",
       "      <td>0</td>\n",
       "      <td>0</td>\n",
       "      <td>2</td>\n",
       "      <td>2</td>\n",
       "      <td>2</td>\n",
       "      <td>4</td>\n",
       "      <td>17</td>\n",
       "      <td>11</td>\n",
       "      <td>...</td>\n",
       "      <td>1</td>\n",
       "      <td>6</td>\n",
       "      <td>1</td>\n",
       "      <td>5</td>\n",
       "      <td>4</td>\n",
       "      <td>2</td>\n",
       "      <td>1</td>\n",
       "      <td>6</td>\n",
       "      <td>1</td>\n",
       "      <td>1</td>\n",
       "    </tr>\n",
       "    <tr>\n",
       "      <th>9</th>\n",
       "      <td>7</td>\n",
       "      <td>0</td>\n",
       "      <td>0</td>\n",
       "      <td>0</td>\n",
       "      <td>0</td>\n",
       "      <td>0</td>\n",
       "      <td>3</td>\n",
       "      <td>2</td>\n",
       "      <td>15</td>\n",
       "      <td>12</td>\n",
       "      <td>...</td>\n",
       "      <td>2</td>\n",
       "      <td>5</td>\n",
       "      <td>2</td>\n",
       "      <td>5</td>\n",
       "      <td>3</td>\n",
       "      <td>2</td>\n",
       "      <td>1</td>\n",
       "      <td>5</td>\n",
       "      <td>1</td>\n",
       "      <td>1</td>\n",
       "    </tr>\n",
       "    <tr>\n",
       "      <th>...</th>\n",
       "      <td>...</td>\n",
       "      <td>...</td>\n",
       "      <td>...</td>\n",
       "      <td>...</td>\n",
       "      <td>...</td>\n",
       "      <td>...</td>\n",
       "      <td>...</td>\n",
       "      <td>...</td>\n",
       "      <td>...</td>\n",
       "      <td>...</td>\n",
       "      <td>...</td>\n",
       "      <td>...</td>\n",
       "      <td>...</td>\n",
       "      <td>...</td>\n",
       "      <td>...</td>\n",
       "      <td>...</td>\n",
       "      <td>...</td>\n",
       "      <td>...</td>\n",
       "      <td>...</td>\n",
       "      <td>...</td>\n",
       "      <td>...</td>\n",
       "    </tr>\n",
       "    <tr>\n",
       "      <th>20595</th>\n",
       "      <td>21</td>\n",
       "      <td>0</td>\n",
       "      <td>0</td>\n",
       "      <td>0</td>\n",
       "      <td>0</td>\n",
       "      <td>0</td>\n",
       "      <td>5</td>\n",
       "      <td>4</td>\n",
       "      <td>14</td>\n",
       "      <td>14</td>\n",
       "      <td>...</td>\n",
       "      <td>2</td>\n",
       "      <td>5</td>\n",
       "      <td>1</td>\n",
       "      <td>5</td>\n",
       "      <td>4</td>\n",
       "      <td>2</td>\n",
       "      <td>1</td>\n",
       "      <td>3</td>\n",
       "      <td>9</td>\n",
       "      <td>1</td>\n",
       "    </tr>\n",
       "    <tr>\n",
       "      <th>20599</th>\n",
       "      <td>23</td>\n",
       "      <td>0</td>\n",
       "      <td>0</td>\n",
       "      <td>0</td>\n",
       "      <td>1</td>\n",
       "      <td>0</td>\n",
       "      <td>1</td>\n",
       "      <td>1</td>\n",
       "      <td>17</td>\n",
       "      <td>14</td>\n",
       "      <td>...</td>\n",
       "      <td>2</td>\n",
       "      <td>5</td>\n",
       "      <td>2</td>\n",
       "      <td>5</td>\n",
       "      <td>3</td>\n",
       "      <td>2</td>\n",
       "      <td>1</td>\n",
       "      <td>6</td>\n",
       "      <td>9</td>\n",
       "      <td>1</td>\n",
       "    </tr>\n",
       "    <tr>\n",
       "      <th>20605</th>\n",
       "      <td>30</td>\n",
       "      <td>1</td>\n",
       "      <td>0</td>\n",
       "      <td>0</td>\n",
       "      <td>1</td>\n",
       "      <td>0</td>\n",
       "      <td>4</td>\n",
       "      <td>1</td>\n",
       "      <td>8</td>\n",
       "      <td>8</td>\n",
       "      <td>...</td>\n",
       "      <td>2</td>\n",
       "      <td>4</td>\n",
       "      <td>2</td>\n",
       "      <td>6</td>\n",
       "      <td>2</td>\n",
       "      <td>2</td>\n",
       "      <td>3</td>\n",
       "      <td>4</td>\n",
       "      <td>9</td>\n",
       "      <td>1</td>\n",
       "    </tr>\n",
       "    <tr>\n",
       "      <th>20618</th>\n",
       "      <td>7</td>\n",
       "      <td>2</td>\n",
       "      <td>0</td>\n",
       "      <td>0</td>\n",
       "      <td>4</td>\n",
       "      <td>0</td>\n",
       "      <td>1</td>\n",
       "      <td>2</td>\n",
       "      <td>16</td>\n",
       "      <td>16</td>\n",
       "      <td>...</td>\n",
       "      <td>2</td>\n",
       "      <td>5</td>\n",
       "      <td>2</td>\n",
       "      <td>5</td>\n",
       "      <td>3</td>\n",
       "      <td>2</td>\n",
       "      <td>3</td>\n",
       "      <td>6</td>\n",
       "      <td>1</td>\n",
       "      <td>1</td>\n",
       "    </tr>\n",
       "    <tr>\n",
       "      <th>20621</th>\n",
       "      <td>4</td>\n",
       "      <td>0</td>\n",
       "      <td>0</td>\n",
       "      <td>0</td>\n",
       "      <td>0</td>\n",
       "      <td>0</td>\n",
       "      <td>1</td>\n",
       "      <td>2</td>\n",
       "      <td>17</td>\n",
       "      <td>14</td>\n",
       "      <td>...</td>\n",
       "      <td>2</td>\n",
       "      <td>4</td>\n",
       "      <td>1</td>\n",
       "      <td>5</td>\n",
       "      <td>4</td>\n",
       "      <td>2</td>\n",
       "      <td>2</td>\n",
       "      <td>6</td>\n",
       "      <td>1</td>\n",
       "      <td>1</td>\n",
       "    </tr>\n",
       "  </tbody>\n",
       "</table>\n",
       "<p>2144 rows × 24 columns</p>\n",
       "</div>"
      ],
      "text/plain": [
       "       view_cnt  where_cnt  attend_cnt  volunteer_cnt  history_cnt  \\\n",
       "0            49          0           0              0            5   \n",
       "1             3          3           3              0            1   \n",
       "6            22         15           0              0            0   \n",
       "7            10          0           0              0            2   \n",
       "9             7          0           0              0            0   \n",
       "...         ...        ...         ...            ...          ...   \n",
       "20595        21          0           0              0            0   \n",
       "20599        23          0           0              0            1   \n",
       "20605        30          1           0              0            1   \n",
       "20618         7          2           0              0            4   \n",
       "20621         4          0           0              0            0   \n",
       "\n",
       "       festival_cnt  standard  block  expense  expense_f  ...  festival  \\\n",
       "0                 0         1      1       14         14  ...         2   \n",
       "1                 0         2      6       14          9  ...         2   \n",
       "6                 0         2      2       14         14  ...         2   \n",
       "7                 2         2      4       17         11  ...         1   \n",
       "9                 0         3      2       15         12  ...         2   \n",
       "...             ...       ...    ...      ...        ...  ...       ...   \n",
       "20595             0         5      4       14         14  ...         2   \n",
       "20599             0         1      1       17         14  ...         2   \n",
       "20605             0         4      1        8          8  ...         2   \n",
       "20618             0         1      2       16         16  ...         2   \n",
       "20621             0         1      2       17         14  ...         2   \n",
       "\n",
       "       festival_f  sex  age  education  married  work  income  sido  disabled  \n",
       "0               6    2    5          3        1     5       3     1         1  \n",
       "1               7    2    5          3        2     5       7     1         1  \n",
       "6               5    2    5          4        3     1       5     1         1  \n",
       "7               6    1    5          4        2     1       6     1         1  \n",
       "9               5    2    5          3        2     1       5     1         1  \n",
       "...           ...  ...  ...        ...      ...   ...     ...   ...       ...  \n",
       "20595           5    1    5          4        2     1       3     9         1  \n",
       "20599           5    2    5          3        2     1       6     9         1  \n",
       "20605           4    2    6          2        2     3       4     9         1  \n",
       "20618           5    2    5          3        2     3       6     1         1  \n",
       "20621           4    1    5          4        2     2       6     1         1  \n",
       "\n",
       "[2144 rows x 24 columns]"
      ]
     },
     "execution_count": 7,
     "metadata": {},
     "output_type": "execute_result"
    }
   ],
   "source": [
    "# 데이터 세트 확인\n",
    "cs"
   ]
  },
  {
   "cell_type": "markdown",
   "id": "d2eee611",
   "metadata": {},
   "source": [
    "#### target 범주화"
   ]
  },
  {
   "cell_type": "code",
   "execution_count": 8,
   "id": "51c9419d",
   "metadata": {
    "scrolled": true
   },
   "outputs": [
    {
     "data": {
      "text/plain": [
       "count    20624.000000\n",
       "mean        25.158505\n",
       "std         37.865832\n",
       "min          0.000000\n",
       "25%          7.000000\n",
       "50%         15.000000\n",
       "75%         29.000000\n",
       "max        730.000000\n",
       "Name: view_cnt, dtype: float64"
      ]
     },
     "execution_count": 8,
     "metadata": {},
     "output_type": "execute_result"
    }
   ],
   "source": [
    "# 기존 데이터에 대한 기초통계량 출력\n",
    "CS['view_cnt'].describe()\n",
    "\n",
    "# 3개 카테고리로 나누기\n",
    "# 1 : 문화예술행사 관람을 적게 하는 사람\n",
    "# 2 : 문화예술행사 관람을 평범하게 하는 사람\n",
    "# 3 : 문화예술행사 관람을 많이 하는 사람"
   ]
  },
  {
   "cell_type": "code",
   "execution_count": 9,
   "id": "cb503b86",
   "metadata": {},
   "outputs": [],
   "source": [
    "# target 범주화\n",
    "target_min = min(CS['view_cnt'])\n",
    "target_max = max(CS['view_cnt'])\n",
    "\n",
    "target_ranges = [target_min-1, 7, 25, target_max+1]\n",
    "labels = [1, 2, 3,]\n",
    "cs['target'] = pd.cut(CS['view_cnt'], target_ranges, labels=labels)"
   ]
  },
  {
   "cell_type": "code",
   "execution_count": 10,
   "id": "60d8cf9b",
   "metadata": {},
   "outputs": [
    {
     "data": {
      "text/plain": [
       "1    743\n",
       "2    967\n",
       "3    434\n",
       "Name: target, dtype: int64"
      ]
     },
     "execution_count": 10,
     "metadata": {},
     "output_type": "execute_result"
    }
   ],
   "source": [
    "# 범주화 확인\n",
    "cs['target'].value_counts().sort_index()"
   ]
  },
  {
   "cell_type": "markdown",
   "id": "367a6735",
   "metadata": {},
   "source": [
    "### 전처리"
   ]
  },
  {
   "cell_type": "markdown",
   "id": "83e7611c",
   "metadata": {},
   "source": [
    "#### feature / target 분류"
   ]
  },
  {
   "cell_type": "code",
   "execution_count": 11,
   "id": "ae671c0c",
   "metadata": {},
   "outputs": [],
   "source": [
    "# 연령과 거주지를 정하고 분석하기 때문에 제외\n",
    "features = cs.drop(['view_cnt', 'age', 'sido', 'target'], axis=1)\n",
    "target = cs['target']"
   ]
  },
  {
   "cell_type": "markdown",
   "id": "462215bf",
   "metadata": {},
   "source": [
    "#### 연속형 feature에 대해 스케일링 / log 변환"
   ]
  },
  {
   "cell_type": "code",
   "execution_count": 12,
   "id": "0ab6749a",
   "metadata": {},
   "outputs": [
    {
     "data": {
      "text/html": [
       "<div>\n",
       "<style scoped>\n",
       "    .dataframe tbody tr th:only-of-type {\n",
       "        vertical-align: middle;\n",
       "    }\n",
       "\n",
       "    .dataframe tbody tr th {\n",
       "        vertical-align: top;\n",
       "    }\n",
       "\n",
       "    .dataframe thead th {\n",
       "        text-align: right;\n",
       "    }\n",
       "</style>\n",
       "<table border=\"1\" class=\"dataframe\">\n",
       "  <thead>\n",
       "    <tr style=\"text-align: right;\">\n",
       "      <th></th>\n",
       "      <th>where_cnt</th>\n",
       "      <th>attend_cnt</th>\n",
       "      <th>volunteer_cnt</th>\n",
       "      <th>history_cnt</th>\n",
       "      <th>festival_cnt</th>\n",
       "    </tr>\n",
       "  </thead>\n",
       "  <tbody>\n",
       "    <tr>\n",
       "      <th>0</th>\n",
       "      <td>0.000000</td>\n",
       "      <td>0.00</td>\n",
       "      <td>0.0</td>\n",
       "      <td>0.10</td>\n",
       "      <td>0.0</td>\n",
       "    </tr>\n",
       "    <tr>\n",
       "      <th>1</th>\n",
       "      <td>0.012195</td>\n",
       "      <td>0.03</td>\n",
       "      <td>0.0</td>\n",
       "      <td>0.02</td>\n",
       "      <td>0.0</td>\n",
       "    </tr>\n",
       "  </tbody>\n",
       "</table>\n",
       "</div>"
      ],
      "text/plain": [
       "   where_cnt  attend_cnt  volunteer_cnt  history_cnt  festival_cnt\n",
       "0   0.000000        0.00            0.0         0.10           0.0\n",
       "1   0.012195        0.03            0.0         0.02           0.0"
      ]
     },
     "execution_count": 12,
     "metadata": {},
     "output_type": "execute_result"
    }
   ],
   "source": [
    "# 스케일링\n",
    "# 추후 log 변환을 위하여\n",
    "# 정규분포로 스케일링 하지 않고\n",
    "# min-max 스케일링 실시\n",
    "from sklearn.preprocessing import MinMaxScaler\n",
    "\n",
    "mms = MinMaxScaler()\n",
    "features.iloc[:, :5] = mms.fit_transform(features.iloc[:, :5])\n",
    "\n",
    "# 스케일링 확인\n",
    "features.iloc[:, :5].head(2)"
   ]
  },
  {
   "cell_type": "code",
   "execution_count": 13,
   "id": "5acedec4",
   "metadata": {},
   "outputs": [
    {
     "data": {
      "text/html": [
       "<div>\n",
       "<style scoped>\n",
       "    .dataframe tbody tr th:only-of-type {\n",
       "        vertical-align: middle;\n",
       "    }\n",
       "\n",
       "    .dataframe tbody tr th {\n",
       "        vertical-align: top;\n",
       "    }\n",
       "\n",
       "    .dataframe thead th {\n",
       "        text-align: right;\n",
       "    }\n",
       "</style>\n",
       "<table border=\"1\" class=\"dataframe\">\n",
       "  <thead>\n",
       "    <tr style=\"text-align: right;\">\n",
       "      <th></th>\n",
       "      <th>where_cnt</th>\n",
       "      <th>attend_cnt</th>\n",
       "      <th>volunteer_cnt</th>\n",
       "      <th>history_cnt</th>\n",
       "      <th>festival_cnt</th>\n",
       "    </tr>\n",
       "  </thead>\n",
       "  <tbody>\n",
       "    <tr>\n",
       "      <th>0</th>\n",
       "      <td>0.000000</td>\n",
       "      <td>0.000000</td>\n",
       "      <td>0.0</td>\n",
       "      <td>0.095310</td>\n",
       "      <td>0.0</td>\n",
       "    </tr>\n",
       "    <tr>\n",
       "      <th>1</th>\n",
       "      <td>0.012121</td>\n",
       "      <td>0.029559</td>\n",
       "      <td>0.0</td>\n",
       "      <td>0.019803</td>\n",
       "      <td>0.0</td>\n",
       "    </tr>\n",
       "  </tbody>\n",
       "</table>\n",
       "</div>"
      ],
      "text/plain": [
       "   where_cnt  attend_cnt  volunteer_cnt  history_cnt  festival_cnt\n",
       "0   0.000000    0.000000            0.0     0.095310           0.0\n",
       "1   0.012121    0.029559            0.0     0.019803           0.0"
      ]
     },
     "execution_count": 13,
     "metadata": {},
     "output_type": "execute_result"
    }
   ],
   "source": [
    "# log 변환\n",
    "features.iloc[:, :5] = np.log1p(features.iloc[:, :5])\n",
    "\n",
    "# log 변환 확인\n",
    "features.iloc[:, :5].head(2)"
   ]
  },
  {
   "cell_type": "markdown",
   "id": "f5d7e277",
   "metadata": {},
   "source": [
    "#### 범주형 변수 형변환"
   ]
  },
  {
   "cell_type": "code",
   "execution_count": 14,
   "id": "7c349505",
   "metadata": {},
   "outputs": [],
   "source": [
    "features.iloc[:, 5:] = features.iloc[:, 5:].astype(dtype='object')"
   ]
  },
  {
   "cell_type": "code",
   "execution_count": 15,
   "id": "675ac856",
   "metadata": {},
   "outputs": [
    {
     "data": {
      "text/plain": [
       "standard      object\n",
       "block         object\n",
       "expense       object\n",
       "expense_f     object\n",
       "difficulty    object\n",
       "intention     object\n",
       "history       object\n",
       "history_f     object\n",
       "festival      object\n",
       "festival_f    object\n",
       "sex           object\n",
       "education     object\n",
       "married       object\n",
       "work          object\n",
       "income        object\n",
       "disabled      object\n",
       "dtype: object"
      ]
     },
     "execution_count": 15,
     "metadata": {},
     "output_type": "execute_result"
    }
   ],
   "source": [
    "features.iloc[:, 5:].dtypes"
   ]
  },
  {
   "cell_type": "markdown",
   "id": "56ccf9aa",
   "metadata": {},
   "source": [
    "#### 범주형 변수에 대해 원-핫 인코딩"
   ]
  },
  {
   "cell_type": "code",
   "execution_count": 16,
   "id": "88a96221",
   "metadata": {},
   "outputs": [
    {
     "name": "stdout",
     "output_type": "stream",
     "text": [
      "get_dummies() 수행 전 데이터 Shape (2144, 21)\n",
      "get_dummies() 수행 후 데이터 Shape (2144, 111)\n"
     ]
    }
   ],
   "source": [
    "# 원-핫 인코딩 수행 \n",
    "print('get_dummies() 수행 전 데이터 Shape', features.shape)\n",
    "\n",
    "features = pd.get_dummies(features)\n",
    "print('get_dummies() 수행 후 데이터 Shape', features.shape)"
   ]
  },
  {
   "cell_type": "markdown",
   "id": "a04d93f9",
   "metadata": {},
   "source": [
    "#### 데이터 세트 분리"
   ]
  },
  {
   "cell_type": "code",
   "execution_count": 17,
   "id": "d4f67c08",
   "metadata": {},
   "outputs": [],
   "source": [
    "# 데이터 세트 분리\n",
    "from sklearn.model_selection import train_test_split\n",
    "\n",
    "X_train , X_test , y_train , y_test = train_test_split(features, \n",
    "                                                       target, \n",
    "                                                       test_size=0.2, \n",
    "                                                       random_state=0)"
   ]
  },
  {
   "cell_type": "markdown",
   "id": "7b54e951",
   "metadata": {},
   "source": [
    "## 로지스틱 회귀 모델링\n",
    "- Elastic-Net 사용을 위해 최적화에 사용하는 알고리즘으로 saga 사용"
   ]
  },
  {
   "cell_type": "code",
   "execution_count": 18,
   "id": "13b09dc0",
   "metadata": {},
   "outputs": [],
   "source": [
    "# 하이퍼 파라미터 설정 최적 평균 정확도 확인\n",
    "\n",
    "from sklearn.model_selection import GridSearchCV\n",
    "from sklearn.metrics import accuracy_score, roc_auc_score\n",
    "\n",
    "def print_params(cv, parameters):\n",
    "    lr_clf = LogisticRegression(solver='saga')\n",
    "    \n",
    "    grid_lclf = GridSearchCV(lr_clf, param_grid=parameters, scoring='accuracy', cv=cv)\n",
    "    grid_lclf.fit(X_train, y_train)\n",
    "\n",
    "    best_lclf = grid_lclf.best_estimator_\n",
    "\n",
    "    # 최적 하이퍼 파라미터로 학습된 Estimator로 예측/평가 수행\n",
    "    y_pred = best_lclf.predict(X_test)\n",
    "    accuracy = accuracy_score(y_test, y_pred)\n",
    "\n",
    "    # 최종 출력 결과\n",
    "    print('cv{0} 최적 하이퍼 파라미터 : {1}'.format(cv, grid_lclf.best_params_))\n",
    "    print('cv{0} 정확도 : {1:.4f}'.format(cv, grid_lclf.best_score_))\n",
    "    print('cv{0} Best Estimator 정확도 : {1:.4f}'.format(cv, accuracy))\n",
    "    print('')"
   ]
  },
  {
   "cell_type": "code",
   "execution_count": 19,
   "id": "686e42f6",
   "metadata": {},
   "outputs": [],
   "source": [
    "# 파라미터 설정\n",
    "parameters = {\n",
    "    'max_iter' : [500, 1000],\n",
    "    'penalty' : ['l2', 'l1'],\n",
    "    'C' : [0.01, 0.05, 0.1, 0.5, 1, 5, 10],\n",
    "}"
   ]
  },
  {
   "cell_type": "code",
   "execution_count": 20,
   "id": "7571c3a9",
   "metadata": {
    "scrolled": false
   },
   "outputs": [
    {
     "name": "stdout",
     "output_type": "stream",
     "text": [
      "cv3 최적 하이퍼 파라미터 : {'C': 0.5, 'max_iter': 500, 'penalty': 'l1'}\n",
      "cv3 정확도 : 0.5236\n",
      "cv3 Best Estimator 정확도 : 0.4779\n",
      "\n",
      "cv4 최적 하이퍼 파라미터 : {'C': 0.1, 'max_iter': 500, 'penalty': 'l2'}\n",
      "cv4 정확도 : 0.5190\n",
      "cv4 Best Estimator 정확도 : 0.4615\n",
      "\n",
      "cv5 최적 하이퍼 파라미터 : {'C': 1, 'max_iter': 500, 'penalty': 'l1'}\n",
      "cv5 정확도 : 0.5137\n",
      "cv5 Best Estimator 정확도 : 0.4732\n",
      "\n",
      "cv6 최적 하이퍼 파라미터 : {'C': 1, 'max_iter': 500, 'penalty': 'l2'}\n",
      "cv6 정확도 : 0.5271\n",
      "cv6 Best Estimator 정확도 : 0.4685\n",
      "\n",
      "cv7 최적 하이퍼 파라미터 : {'C': 1, 'max_iter': 500, 'penalty': 'l2'}\n",
      "cv7 정확도 : 0.5149\n",
      "cv7 Best Estimator 정확도 : 0.4685\n",
      "\n",
      "cv8 최적 하이퍼 파라미터 : {'C': 1, 'max_iter': 500, 'penalty': 'l2'}\n",
      "cv8 정확도 : 0.5201\n",
      "cv8 Best Estimator 정확도 : 0.4685\n",
      "\n"
     ]
    }
   ],
   "source": [
    "# 교차 검증\n",
    "for cv in range(3, 9):\n",
    "    print_params(cv, parameters)"
   ]
  },
  {
   "cell_type": "markdown",
   "id": "a187cd63",
   "metadata": {},
   "source": [
    "- 가장 높은 정확도를 보인 모델의 정확도는 0.5271로\n",
    "- l2 패널티를 부여했다.\n",
    "- 따라서 l2 패널티(Ridge)에 더 높은 가중치를 주어\n",
    "- Elastic-Net을 적용한다."
   ]
  },
  {
   "cell_type": "code",
   "execution_count": 22,
   "id": "90caa3d5",
   "metadata": {},
   "outputs": [],
   "source": [
    "# 파라미터 설정\n",
    "parameters = {\n",
    "    'max_iter' : [500, 1000],\n",
    "    'penalty' : ['elasticnet',],\n",
    "    'C' : [0.1, 0.5, 1, 5, 10],\n",
    "    # 1에 가까울수록 l1 규제 가중치가 커짐\n",
    "    'l1_ratio' : [0, 0.1, 0.25, 0.3, 0.5],\n",
    "}"
   ]
  },
  {
   "cell_type": "code",
   "execution_count": 24,
   "id": "ce050c0d",
   "metadata": {
    "scrolled": false
   },
   "outputs": [
    {
     "name": "stdout",
     "output_type": "stream",
     "text": [
      "cv3 최적 하이퍼 파라미터 : {'C': 0.5, 'l1_ratio': 0.5, 'max_iter': 500, 'penalty': 'elasticnet'}\n",
      "cv3 정확도 : 0.5236\n",
      "cv3 Best Estimator 정확도 : 0.4755\n",
      "\n",
      "cv4 최적 하이퍼 파라미터 : {'C': 0.1, 'l1_ratio': 0, 'max_iter': 500, 'penalty': 'elasticnet'}\n",
      "cv4 정확도 : 0.5190\n",
      "cv4 Best Estimator 정확도 : 0.4615\n",
      "\n",
      "cv5 최적 하이퍼 파라미터 : {'C': 1, 'l1_ratio': 0.5, 'max_iter': 500, 'penalty': 'elasticnet'}\n",
      "cv5 정확도 : 0.5149\n",
      "cv5 Best Estimator 정확도 : 0.4662\n",
      "\n",
      "cv6 최적 하이퍼 파라미터 : {'C': 1, 'l1_ratio': 0.1, 'max_iter': 500, 'penalty': 'elasticnet'}\n",
      "cv6 정확도 : 0.5294\n",
      "cv6 Best Estimator 정확도 : 0.4662\n",
      "\n",
      "cv7 최적 하이퍼 파라미터 : {'C': 1, 'l1_ratio': 0, 'max_iter': 500, 'penalty': 'elasticnet'}\n",
      "cv7 정확도 : 0.5149\n",
      "cv7 Best Estimator 정확도 : 0.4685\n",
      "\n"
     ]
    }
   ],
   "source": [
    "# 교차 검증\n",
    "for cv in range(3, 8):\n",
    "    print_params(cv, parameters)"
   ]
  },
  {
   "cell_type": "markdown",
   "id": "8bd2d237",
   "metadata": {},
   "source": [
    "- 교차 검증 집단 개수는 6 이고 최대 반복횟수가 500 으로 충분하며,\n",
    "- Elastic-Net 방식을 이용했을 때,\n",
    "- 전체 규제 가중치는 1, Ridge : Lasso 비율은 9 : 1 일 때\n",
    "- 가장 높은 정확도인 0.5294를 나타냈다.\n",
    "- 더 높은 성능의 모델의 파라미터 값을 위해 l1_ratio를 좁혀서 모델링한다."
   ]
  },
  {
   "cell_type": "code",
   "execution_count": 27,
   "id": "78477e0e",
   "metadata": {},
   "outputs": [],
   "source": [
    "# 파라미터 설정\n",
    "parameters = {\n",
    "    'max_iter' : [500],\n",
    "    'penalty' : ['elasticnet',],\n",
    "    # 'C' : [1],  # defalt 값이므로 생략\n",
    "    # 1에 가까울수록 l1 규제 가중치가 커짐\n",
    "    'l1_ratio' : [0.05, 0.1, 0.15, 0.2],\n",
    "}"
   ]
  },
  {
   "cell_type": "code",
   "execution_count": 28,
   "id": "872bf7a8",
   "metadata": {},
   "outputs": [
    {
     "name": "stdout",
     "output_type": "stream",
     "text": [
      "cv6 최적 하이퍼 파라미터 : {'l1_ratio': 0.1, 'max_iter': 500, 'penalty': 'elasticnet'}\n",
      "cv6 정확도 : 0.5294\n",
      "cv6 Best Estimator 정확도 : 0.4662\n",
      "\n"
     ]
    }
   ],
   "source": [
    "# 교차 검증\n",
    "for cv in [6,]:\n",
    "    print_params(cv, parameters)"
   ]
  },
  {
   "cell_type": "markdown",
   "id": "8f9a0e36",
   "metadata": {},
   "source": [
    "- Ridge : Lasso 비율은 그대로 9 : 1 일 때\n",
    "- 가장 높은 정확도를 보인다."
   ]
  },
  {
   "cell_type": "code",
   "execution_count": 32,
   "id": "8df06ee1",
   "metadata": {},
   "outputs": [
    {
     "data": {
      "text/html": [
       "<style>#sk-container-id-3 {color: black;background-color: white;}#sk-container-id-3 pre{padding: 0;}#sk-container-id-3 div.sk-toggleable {background-color: white;}#sk-container-id-3 label.sk-toggleable__label {cursor: pointer;display: block;width: 100%;margin-bottom: 0;padding: 0.3em;box-sizing: border-box;text-align: center;}#sk-container-id-3 label.sk-toggleable__label-arrow:before {content: \"▸\";float: left;margin-right: 0.25em;color: #696969;}#sk-container-id-3 label.sk-toggleable__label-arrow:hover:before {color: black;}#sk-container-id-3 div.sk-estimator:hover label.sk-toggleable__label-arrow:before {color: black;}#sk-container-id-3 div.sk-toggleable__content {max-height: 0;max-width: 0;overflow: hidden;text-align: left;background-color: #f0f8ff;}#sk-container-id-3 div.sk-toggleable__content pre {margin: 0.2em;color: black;border-radius: 0.25em;background-color: #f0f8ff;}#sk-container-id-3 input.sk-toggleable__control:checked~div.sk-toggleable__content {max-height: 200px;max-width: 100%;overflow: auto;}#sk-container-id-3 input.sk-toggleable__control:checked~label.sk-toggleable__label-arrow:before {content: \"▾\";}#sk-container-id-3 div.sk-estimator input.sk-toggleable__control:checked~label.sk-toggleable__label {background-color: #d4ebff;}#sk-container-id-3 div.sk-label input.sk-toggleable__control:checked~label.sk-toggleable__label {background-color: #d4ebff;}#sk-container-id-3 input.sk-hidden--visually {border: 0;clip: rect(1px 1px 1px 1px);clip: rect(1px, 1px, 1px, 1px);height: 1px;margin: -1px;overflow: hidden;padding: 0;position: absolute;width: 1px;}#sk-container-id-3 div.sk-estimator {font-family: monospace;background-color: #f0f8ff;border: 1px dotted black;border-radius: 0.25em;box-sizing: border-box;margin-bottom: 0.5em;}#sk-container-id-3 div.sk-estimator:hover {background-color: #d4ebff;}#sk-container-id-3 div.sk-parallel-item::after {content: \"\";width: 100%;border-bottom: 1px solid gray;flex-grow: 1;}#sk-container-id-3 div.sk-label:hover label.sk-toggleable__label {background-color: #d4ebff;}#sk-container-id-3 div.sk-serial::before {content: \"\";position: absolute;border-left: 1px solid gray;box-sizing: border-box;top: 0;bottom: 0;left: 50%;z-index: 0;}#sk-container-id-3 div.sk-serial {display: flex;flex-direction: column;align-items: center;background-color: white;padding-right: 0.2em;padding-left: 0.2em;position: relative;}#sk-container-id-3 div.sk-item {position: relative;z-index: 1;}#sk-container-id-3 div.sk-parallel {display: flex;align-items: stretch;justify-content: center;background-color: white;position: relative;}#sk-container-id-3 div.sk-item::before, #sk-container-id-3 div.sk-parallel-item::before {content: \"\";position: absolute;border-left: 1px solid gray;box-sizing: border-box;top: 0;bottom: 0;left: 50%;z-index: -1;}#sk-container-id-3 div.sk-parallel-item {display: flex;flex-direction: column;z-index: 1;position: relative;background-color: white;}#sk-container-id-3 div.sk-parallel-item:first-child::after {align-self: flex-end;width: 50%;}#sk-container-id-3 div.sk-parallel-item:last-child::after {align-self: flex-start;width: 50%;}#sk-container-id-3 div.sk-parallel-item:only-child::after {width: 0;}#sk-container-id-3 div.sk-dashed-wrapped {border: 1px dashed gray;margin: 0 0.4em 0.5em 0.4em;box-sizing: border-box;padding-bottom: 0.4em;background-color: white;}#sk-container-id-3 div.sk-label label {font-family: monospace;font-weight: bold;display: inline-block;line-height: 1.2em;}#sk-container-id-3 div.sk-label-container {text-align: center;}#sk-container-id-3 div.sk-container {/* jupyter's `normalize.less` sets `[hidden] { display: none; }` but bootstrap.min.css set `[hidden] { display: none !important; }` so we also need the `!important` here to be able to override the default hidden behavior on the sphinx rendered scikit-learn.org. See: https://github.com/scikit-learn/scikit-learn/issues/21755 */display: inline-block !important;position: relative;}#sk-container-id-3 div.sk-text-repr-fallback {display: none;}</style><div id=\"sk-container-id-3\" class=\"sk-top-container\"><div class=\"sk-text-repr-fallback\"><pre>LogisticRegression(l1_ratio=0.1, penalty=&#x27;elasticnet&#x27;, solver=&#x27;saga&#x27;)</pre><b>In a Jupyter environment, please rerun this cell to show the HTML representation or trust the notebook. <br />On GitHub, the HTML representation is unable to render, please try loading this page with nbviewer.org.</b></div><div class=\"sk-container\" hidden><div class=\"sk-item\"><div class=\"sk-estimator sk-toggleable\"><input class=\"sk-toggleable__control sk-hidden--visually\" id=\"sk-estimator-id-3\" type=\"checkbox\" checked><label for=\"sk-estimator-id-3\" class=\"sk-toggleable__label sk-toggleable__label-arrow\">LogisticRegression</label><div class=\"sk-toggleable__content\"><pre>LogisticRegression(l1_ratio=0.1, penalty=&#x27;elasticnet&#x27;, solver=&#x27;saga&#x27;)</pre></div></div></div></div></div>"
      ],
      "text/plain": [
       "LogisticRegression(l1_ratio=0.1, penalty='elasticnet', solver='saga')"
      ]
     },
     "execution_count": 32,
     "metadata": {},
     "output_type": "execute_result"
    },
    {
     "name": "stdout",
     "output_type": "stream",
     "text": [
      "Logistic Regression - Elastic-Net : 0.4662\n"
     ]
    }
   ],
   "source": [
    "# 최종 모델 결과 출력\n",
    "lr_clf = LogisticRegression(solver='saga',\n",
    "                            penalty='elasticnet',\n",
    "                            l1_ratio=0.1\n",
    "                           )\n",
    "\n",
    "lr_clf.fit(X_train, y_train)\n",
    "\n",
    "# 최적 하이퍼 파라미터로 학습된 Estimator로 예측/평가 수행\n",
    "y_pred = lr_clf.predict(X_test)\n",
    "accuracy = accuracy_score(y_test, y_pred)\n",
    "\n",
    "# 최종 출력 결과\n",
    "print('Logistic Regression - Elastic-Net : {0:.4f}'.format(accuracy))"
   ]
  },
  {
   "cell_type": "markdown",
   "id": "0b3fb87f",
   "metadata": {},
   "source": [
    "## 결론\n",
    "- 로지스틱 회귀분석 결과\n",
    "- Ridge : Lasso 비율이 9 : 1 로 설정한 Elastic-Net을 이용했을 때,\n",
    "- 정확도 0.4662의 모델이 도출되었다."
   ]
  },
  {
   "cell_type": "code",
   "execution_count": 43,
   "id": "9c541ddf",
   "metadata": {},
   "outputs": [
    {
     "data": {
      "text/plain": [
       "array([[-1.09515570e+00, -8.63604662e-01,  5.42013521e-02,\n",
       "        -7.29016203e-01, -1.71158194e-01, -8.69012053e-02,\n",
       "         1.17328484e-01,  2.17811728e-01,  4.53615638e-01,\n",
       "        -2.42135606e-01,  4.32451170e-01, -7.02151101e-02,\n",
       "        -2.44634766e-01, -1.19616779e-01, -2.29282165e-01,\n",
       "        -8.58362088e-02,  1.00024335e-02, -1.70239037e-01,\n",
       "         1.60918573e-02,  1.70840850e-01, -5.68702558e-02,\n",
       "         5.96023781e-02, -3.18984548e-01,  2.70594899e-01,\n",
       "         0.00000000e+00,  1.78225546e-01, -2.09606968e-01,\n",
       "        -1.36137002e-01,  0.00000000e+00, -5.49891262e-02,\n",
       "        -5.01264747e-02, -3.41490677e-01, -1.04330548e-01,\n",
       "        -6.24750226e-01,  2.86421973e-01,  4.20063655e-02,\n",
       "         6.31546070e-02, -1.57642414e-01,  0.00000000e+00,\n",
       "         9.26688607e-01,  4.10940366e-01,  2.17925314e-01,\n",
       "         8.39710138e-01,  5.40285854e-01,  9.35472338e-01,\n",
       "        -1.41381772e-01, -2.55869536e-01, -3.00269920e-01,\n",
       "        -3.98932052e-01, -1.79985262e-01,  1.28365346e-01,\n",
       "         1.01058649e-02,  0.00000000e+00, -3.27262181e-01,\n",
       "        -2.01099349e-01, -3.29335557e-01, -3.41368409e-02,\n",
       "        -1.21837442e-02, -2.38462308e-01, -4.65632539e-02,\n",
       "         2.11490872e-01, -3.36230963e-01,  4.60290845e-01,\n",
       "        -2.16725125e-01,  3.48676754e-01,  0.00000000e+00,\n",
       "         0.00000000e+00, -1.62543722e-01,  1.68812693e-01,\n",
       "        -5.64549317e-02,  6.27238321e-02, -1.17249658e-01,\n",
       "        -4.54355208e-01,  1.38140218e-04,  2.64971533e-01,\n",
       "         1.95226783e-02,  1.32000011e-01,  0.00000000e+00,\n",
       "        -2.47495072e-02,  3.10154597e-02, -1.37366407e-01,\n",
       "         0.00000000e+00,  2.39023775e-02,  1.02208462e-01,\n",
       "        -6.69441391e-02, -2.76989490e-01,  4.10146674e-01,\n",
       "         4.74289616e-02, -4.11612260e-02, -1.62516682e-01,\n",
       "         3.75824907e-01,  2.02922075e-01, -4.09959476e-01,\n",
       "        -7.44063140e-02,  1.41791886e-01,  0.00000000e+00,\n",
       "         4.93444049e-02,  2.41133295e-01,  0.00000000e+00,\n",
       "        -3.47017960e-01,  0.00000000e+00,  3.36621656e-01,\n",
       "         0.00000000e+00,  1.19839513e-01,  0.00000000e+00,\n",
       "         0.00000000e+00, -1.41227107e-01, -2.75204505e-01,\n",
       "        -2.16981882e-01,  6.83007459e-01, -3.48677954e-01],\n",
       "       [-9.98968888e-01, -4.56554030e-02, -1.06090661e+00,\n",
       "        -5.10100245e-02,  1.46406641e-01,  4.83126497e-02,\n",
       "         4.33060900e-02,  0.00000000e+00, -9.71958591e-03,\n",
       "         1.06622909e-01, -9.47982011e-02,  2.16198662e-01,\n",
       "        -1.45833441e-01,  0.00000000e+00, -2.92448244e-01,\n",
       "         7.79879894e-02,  0.00000000e+00,  9.13643766e-02,\n",
       "        -3.39480276e-01,  1.16237993e-02,  1.95618652e-01,\n",
       "         2.98518248e-01,  0.00000000e+00, -6.64256764e-01,\n",
       "        -1.73659184e-01,  0.00000000e+00, -3.18890785e-01,\n",
       "         3.83014619e-01,  4.72882128e-02, -3.40193328e-01,\n",
       "        -1.81989730e-01, -2.33682788e-01,  4.84223966e-01,\n",
       "        -9.49405745e-02,  1.93844694e-01,  2.69615254e-01,\n",
       "         1.77557978e-01,  4.21183666e-02, -4.84256148e-02,\n",
       "         7.65457377e-03, -2.48168962e-01, -6.29638018e-02,\n",
       "        -2.46288539e-01, -1.46611435e-01, -5.67494843e-01,\n",
       "         4.52382897e-01,  5.76889685e-01,  4.67878524e-02,\n",
       "        -1.25728977e-01,  3.53826977e-01,  0.00000000e+00,\n",
       "         1.29618609e-01, -6.65240162e-02,  2.42905070e-01,\n",
       "         0.00000000e+00,  9.32199666e-02, -2.83399786e-01,\n",
       "        -2.87713147e-01, -3.17677433e-02, -7.76452336e-03,\n",
       "        -7.88248826e-03,  8.90326800e-02, -1.90753323e-02,\n",
       "         1.34469381e-01,  5.81516444e-03,  3.71078787e-01,\n",
       "        -4.11150943e-01,  3.24760233e-02, -2.07789103e-02,\n",
       "         0.00000000e+00,  0.00000000e+00,  1.11160941e-01,\n",
       "         6.85827200e-02,  0.00000000e+00,  0.00000000e+00,\n",
       "         4.88189585e-02,  0.00000000e+00, -2.16932173e-01,\n",
       "         1.91540610e-01, -1.79836489e-01, -7.53763951e-02,\n",
       "        -1.25656222e-01,  6.68235648e-02,  0.00000000e+00,\n",
       "         1.00235033e-01,  0.00000000e+00,  0.00000000e+00,\n",
       "         3.06138241e-03,  0.00000000e+00,  2.74292243e-01,\n",
       "        -2.20633839e-01,  0.00000000e+00,  0.00000000e+00,\n",
       "         3.42318697e-02,  1.23986775e-02, -1.45998823e-01,\n",
       "         0.00000000e+00, -7.68174085e-02, -6.52302971e-03,\n",
       "         3.44830419e-01, -2.39333529e-02,  2.29997359e-02,\n",
       "         1.12020344e-01,  0.00000000e+00, -2.16364911e-01,\n",
       "        -9.05593727e-02,  0.00000000e+00,  0.00000000e+00,\n",
       "         1.95893640e-01, -3.55112455e-01,  5.98452970e-02],\n",
       "       [ 2.20520340e+00,  1.02033676e+00,  8.95627348e-01,\n",
       "         8.91105183e-01,  0.00000000e+00,  0.00000000e+00,\n",
       "        -2.71700837e-01, -2.66375072e-01, -3.32831451e-01,\n",
       "         2.44428200e-02, -2.26573910e-01, -3.49145608e-02,\n",
       "         5.01543787e-01,  2.81098393e-02,  6.32804111e-01,\n",
       "         0.00000000e+00, -6.88475174e-02,  0.00000000e+00,\n",
       "         2.12314951e-01, -2.93517767e-01, -2.76752848e-02,\n",
       "        -4.69196750e-01,  3.70708077e-01,  2.82589951e-01,\n",
       "         1.20963761e-01, -2.24579051e-01,  6.39576825e-01,\n",
       "        -1.35801081e-01, -1.68203108e-02,  5.06257223e-01,\n",
       "         3.43183807e-01,  6.86248594e-01, -2.68814372e-01,\n",
       "         8.30758668e-01, -5.91341239e-01, -4.22689591e-01,\n",
       "        -3.51738391e-01,  4.46352417e-03,  7.05298258e-02,\n",
       "        -1.04540359e+00, -5.16959327e-02, -4.38880515e-02,\n",
       "        -4.82342652e-01, -2.82602090e-01, -2.56903378e-01,\n",
       "        -1.99926407e-01, -2.09941099e-01,  1.42407772e-01,\n",
       "         6.35736581e-01, -6.27642368e-02, -4.20353436e-02,\n",
       "        -2.50791460e-01,  1.07379376e-01,  0.00000000e+00,\n",
       "         1.00892673e-01,  1.25042133e-01,  4.28596047e-01,\n",
       "         4.10960297e-01,  3.81296286e-01,  1.65388081e-01,\n",
       "        -9.25524882e-02,  1.36124459e-01, -3.30142424e-01,\n",
       "         0.00000000e+00, -4.65545486e-01, -3.00392058e-01,\n",
       "         4.05598964e-01,  1.90099430e-02, -3.69697690e-02,\n",
       "         1.22445266e-01, -1.40418932e-01,  0.00000000e+00,\n",
       "         2.74697897e-01,  0.00000000e+00, -1.68621518e-01,\n",
       "        -1.79414137e-01, -1.11950168e-01,  2.77820818e-01,\n",
       "        -5.57232268e-02,  3.77531963e-02,  3.23812948e-01,\n",
       "         1.74323239e-01, -2.01781579e-01, -2.03042986e-01,\n",
       "         0.00000000e+00,  3.20692678e-01, -3.98691415e-01,\n",
       "        -1.61558675e-01,  1.43586107e-01, -7.04359393e-04,\n",
       "        -4.41144231e-02, -1.41047399e-01,  3.90039486e-01,\n",
       "         0.00000000e+00, -2.65262165e-01,  2.07113951e-01,\n",
       "        -4.56198938e-02, -5.32433465e-02,  2.68501349e-02,\n",
       "         0.00000000e+00,  5.18597389e-02, -4.70695446e-01,\n",
       "        -1.39893015e-01, -1.50359091e-01,  2.53661510e-01,\n",
       "         1.14897408e-01,  4.19161101e-02,  2.21424630e-01,\n",
       "         0.00000000e+00, -2.16815939e-01,  1.77755812e-01]])"
      ]
     },
     "execution_count": 43,
     "metadata": {},
     "output_type": "execute_result"
    }
   ],
   "source": [
    "# 회귀 계수 출력\n",
    "# 가설 함수가 3개가 나오므로 3차원\n",
    "lr_clf.coef_"
   ]
  },
  {
   "cell_type": "code",
   "execution_count": null,
   "id": "afb09d85",
   "metadata": {},
   "outputs": [],
   "source": []
  }
 ],
 "metadata": {
  "kernelspec": {
   "display_name": "Python 3 (ipykernel)",
   "language": "python",
   "name": "python3"
  },
  "language_info": {
   "codemirror_mode": {
    "name": "ipython",
    "version": 3
   },
   "file_extension": ".py",
   "mimetype": "text/x-python",
   "name": "python",
   "nbconvert_exporter": "python",
   "pygments_lexer": "ipython3",
   "version": "3.10.10"
  }
 },
 "nbformat": 4,
 "nbformat_minor": 5
}
