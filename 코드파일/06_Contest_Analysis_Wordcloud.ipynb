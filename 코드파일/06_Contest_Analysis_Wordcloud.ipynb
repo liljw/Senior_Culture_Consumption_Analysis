{
 "cells": [
  {
   "cell_type": "markdown",
   "id": "765b11e4",
   "metadata": {},
   "source": [
    "# 김가네 팀플 (6) 데이터 분석 (워드클라우드)_ 230704\n",
    "- 공모전용 최신 데이터 포함된 파일로 분석 진행"
   ]
  },
  {
   "cell_type": "code",
   "execution_count": 13,
   "id": "3372e085",
   "metadata": {},
   "outputs": [],
   "source": [
    "from IPython.core.interactiveshell import InteractiveShell\n",
    "InteractiveShell.ast_node_interactivity=\"all\""
   ]
  },
  {
   "cell_type": "code",
   "execution_count": 14,
   "id": "845a6ac5",
   "metadata": {},
   "outputs": [],
   "source": [
    "import numpy as np\n",
    "import pandas as pd\n",
    "import seaborn as sns\n",
    "import matplotlib.pyplot as plt\n",
    "%matplotlib inline"
   ]
  },
  {
   "cell_type": "code",
   "execution_count": 15,
   "id": "7ced1a3c",
   "metadata": {},
   "outputs": [],
   "source": [
    "pd.set_option('mode.chained_assignment',  None)"
   ]
  },
  {
   "cell_type": "markdown",
   "id": "48bfb2ae",
   "metadata": {},
   "source": [
    "## 최종 데이터 셋 불러오기"
   ]
  },
  {
   "cell_type": "code",
   "execution_count": 66,
   "id": "d2f492f7",
   "metadata": {},
   "outputs": [
    {
     "name": "stdout",
     "output_type": "stream",
     "text": [
      "<class 'pandas.core.frame.DataFrame'>\n",
      "RangeIndex: 30763 entries, 0 to 30762\n",
      "Data columns (total 21 columns):\n",
      " #   Column         Non-Null Count  Dtype\n",
      "---  ------         --------------  -----\n",
      " 0   view_cnt       30763 non-null  int64\n",
      " 1   where_cnt      30763 non-null  int64\n",
      " 2   attend_cnt     30763 non-null  int64\n",
      " 3   volunteer_cnt  30763 non-null  int64\n",
      " 4   history_cnt    30763 non-null  int64\n",
      " 5   standard       30763 non-null  int64\n",
      " 6   block          30763 non-null  int64\n",
      " 7   expense        30763 non-null  int64\n",
      " 8   expense_f      30763 non-null  int64\n",
      " 9   difficulty     30763 non-null  int64\n",
      " 10  intention      30763 non-null  int64\n",
      " 11  history        30763 non-null  int64\n",
      " 12  history_f      30763 non-null  int64\n",
      " 13  sex            30763 non-null  int64\n",
      " 14  age            30763 non-null  int64\n",
      " 15  education      30763 non-null  int64\n",
      " 16  married        30763 non-null  int64\n",
      " 17  work           30763 non-null  int64\n",
      " 18  income         30763 non-null  int64\n",
      " 19  sido           30763 non-null  int64\n",
      " 20  disabled       30763 non-null  int64\n",
      "dtypes: int64(21)\n",
      "memory usage: 4.9 MB\n"
     ]
    }
   ],
   "source": [
    "# 전처리 완료된 데이터 파일 불러오기\n",
    "CS = pd.read_csv('data/CS_final_ctg.csv', encoding='euc-kr', index_col=False)\n",
    "CS.info()"
   ]
  },
  {
   "cell_type": "code",
   "execution_count": 67,
   "id": "afa4861b",
   "metadata": {},
   "outputs": [
    {
     "data": {
      "text/html": [
       "<div>\n",
       "<style scoped>\n",
       "    .dataframe tbody tr th:only-of-type {\n",
       "        vertical-align: middle;\n",
       "    }\n",
       "\n",
       "    .dataframe tbody tr th {\n",
       "        vertical-align: top;\n",
       "    }\n",
       "\n",
       "    .dataframe thead th {\n",
       "        text-align: right;\n",
       "    }\n",
       "</style>\n",
       "<table border=\"1\" class=\"dataframe\">\n",
       "  <thead>\n",
       "    <tr style=\"text-align: right;\">\n",
       "      <th></th>\n",
       "      <th>view_cnt</th>\n",
       "      <th>where_cnt</th>\n",
       "      <th>attend_cnt</th>\n",
       "      <th>volunteer_cnt</th>\n",
       "      <th>history_cnt</th>\n",
       "      <th>standard</th>\n",
       "      <th>block</th>\n",
       "      <th>expense</th>\n",
       "      <th>expense_f</th>\n",
       "      <th>difficulty</th>\n",
       "      <th>...</th>\n",
       "      <th>history</th>\n",
       "      <th>history_f</th>\n",
       "      <th>sex</th>\n",
       "      <th>age</th>\n",
       "      <th>education</th>\n",
       "      <th>married</th>\n",
       "      <th>work</th>\n",
       "      <th>income</th>\n",
       "      <th>sido</th>\n",
       "      <th>disabled</th>\n",
       "    </tr>\n",
       "  </thead>\n",
       "  <tbody>\n",
       "    <tr>\n",
       "      <th>0</th>\n",
       "      <td>49</td>\n",
       "      <td>0</td>\n",
       "      <td>0</td>\n",
       "      <td>0</td>\n",
       "      <td>5</td>\n",
       "      <td>1</td>\n",
       "      <td>1</td>\n",
       "      <td>6</td>\n",
       "      <td>6</td>\n",
       "      <td>3</td>\n",
       "      <td>...</td>\n",
       "      <td>1</td>\n",
       "      <td>6</td>\n",
       "      <td>2</td>\n",
       "      <td>5</td>\n",
       "      <td>3</td>\n",
       "      <td>1</td>\n",
       "      <td>5</td>\n",
       "      <td>3</td>\n",
       "      <td>1</td>\n",
       "      <td>1</td>\n",
       "    </tr>\n",
       "    <tr>\n",
       "      <th>1</th>\n",
       "      <td>3</td>\n",
       "      <td>5</td>\n",
       "      <td>1</td>\n",
       "      <td>0</td>\n",
       "      <td>1</td>\n",
       "      <td>2</td>\n",
       "      <td>6</td>\n",
       "      <td>6</td>\n",
       "      <td>1</td>\n",
       "      <td>1</td>\n",
       "      <td>...</td>\n",
       "      <td>1</td>\n",
       "      <td>7</td>\n",
       "      <td>2</td>\n",
       "      <td>5</td>\n",
       "      <td>3</td>\n",
       "      <td>2</td>\n",
       "      <td>5</td>\n",
       "      <td>7</td>\n",
       "      <td>1</td>\n",
       "      <td>1</td>\n",
       "    </tr>\n",
       "    <tr>\n",
       "      <th>2</th>\n",
       "      <td>6</td>\n",
       "      <td>0</td>\n",
       "      <td>0</td>\n",
       "      <td>0</td>\n",
       "      <td>0</td>\n",
       "      <td>2</td>\n",
       "      <td>1</td>\n",
       "      <td>7</td>\n",
       "      <td>7</td>\n",
       "      <td>1</td>\n",
       "      <td>...</td>\n",
       "      <td>2</td>\n",
       "      <td>4</td>\n",
       "      <td>1</td>\n",
       "      <td>2</td>\n",
       "      <td>3</td>\n",
       "      <td>1</td>\n",
       "      <td>5</td>\n",
       "      <td>6</td>\n",
       "      <td>1</td>\n",
       "      <td>1</td>\n",
       "    </tr>\n",
       "    <tr>\n",
       "      <th>3</th>\n",
       "      <td>22</td>\n",
       "      <td>12</td>\n",
       "      <td>2</td>\n",
       "      <td>0</td>\n",
       "      <td>0</td>\n",
       "      <td>1</td>\n",
       "      <td>2</td>\n",
       "      <td>6</td>\n",
       "      <td>6</td>\n",
       "      <td>4</td>\n",
       "      <td>...</td>\n",
       "      <td>2</td>\n",
       "      <td>4</td>\n",
       "      <td>2</td>\n",
       "      <td>4</td>\n",
       "      <td>4</td>\n",
       "      <td>2</td>\n",
       "      <td>5</td>\n",
       "      <td>5</td>\n",
       "      <td>1</td>\n",
       "      <td>1</td>\n",
       "    </tr>\n",
       "    <tr>\n",
       "      <th>4</th>\n",
       "      <td>16</td>\n",
       "      <td>3</td>\n",
       "      <td>2</td>\n",
       "      <td>0</td>\n",
       "      <td>2</td>\n",
       "      <td>2</td>\n",
       "      <td>1</td>\n",
       "      <td>6</td>\n",
       "      <td>6</td>\n",
       "      <td>4</td>\n",
       "      <td>...</td>\n",
       "      <td>1</td>\n",
       "      <td>5</td>\n",
       "      <td>2</td>\n",
       "      <td>3</td>\n",
       "      <td>4</td>\n",
       "      <td>1</td>\n",
       "      <td>1</td>\n",
       "      <td>3</td>\n",
       "      <td>1</td>\n",
       "      <td>1</td>\n",
       "    </tr>\n",
       "    <tr>\n",
       "      <th>...</th>\n",
       "      <td>...</td>\n",
       "      <td>...</td>\n",
       "      <td>...</td>\n",
       "      <td>...</td>\n",
       "      <td>...</td>\n",
       "      <td>...</td>\n",
       "      <td>...</td>\n",
       "      <td>...</td>\n",
       "      <td>...</td>\n",
       "      <td>...</td>\n",
       "      <td>...</td>\n",
       "      <td>...</td>\n",
       "      <td>...</td>\n",
       "      <td>...</td>\n",
       "      <td>...</td>\n",
       "      <td>...</td>\n",
       "      <td>...</td>\n",
       "      <td>...</td>\n",
       "      <td>...</td>\n",
       "      <td>...</td>\n",
       "      <td>...</td>\n",
       "    </tr>\n",
       "    <tr>\n",
       "      <th>30758</th>\n",
       "      <td>10</td>\n",
       "      <td>0</td>\n",
       "      <td>0</td>\n",
       "      <td>0</td>\n",
       "      <td>0</td>\n",
       "      <td>3</td>\n",
       "      <td>3</td>\n",
       "      <td>6</td>\n",
       "      <td>6</td>\n",
       "      <td>6</td>\n",
       "      <td>...</td>\n",
       "      <td>2</td>\n",
       "      <td>6</td>\n",
       "      <td>1</td>\n",
       "      <td>3</td>\n",
       "      <td>4</td>\n",
       "      <td>1</td>\n",
       "      <td>1</td>\n",
       "      <td>4</td>\n",
       "      <td>11</td>\n",
       "      <td>1</td>\n",
       "    </tr>\n",
       "    <tr>\n",
       "      <th>30759</th>\n",
       "      <td>20</td>\n",
       "      <td>8</td>\n",
       "      <td>4</td>\n",
       "      <td>0</td>\n",
       "      <td>5</td>\n",
       "      <td>3</td>\n",
       "      <td>3</td>\n",
       "      <td>6</td>\n",
       "      <td>6</td>\n",
       "      <td>3</td>\n",
       "      <td>...</td>\n",
       "      <td>1</td>\n",
       "      <td>6</td>\n",
       "      <td>2</td>\n",
       "      <td>1</td>\n",
       "      <td>3</td>\n",
       "      <td>1</td>\n",
       "      <td>5</td>\n",
       "      <td>4</td>\n",
       "      <td>10</td>\n",
       "      <td>1</td>\n",
       "    </tr>\n",
       "    <tr>\n",
       "      <th>30760</th>\n",
       "      <td>0</td>\n",
       "      <td>0</td>\n",
       "      <td>0</td>\n",
       "      <td>0</td>\n",
       "      <td>0</td>\n",
       "      <td>5</td>\n",
       "      <td>8</td>\n",
       "      <td>9</td>\n",
       "      <td>9</td>\n",
       "      <td>3</td>\n",
       "      <td>...</td>\n",
       "      <td>2</td>\n",
       "      <td>6</td>\n",
       "      <td>1</td>\n",
       "      <td>7</td>\n",
       "      <td>2</td>\n",
       "      <td>2</td>\n",
       "      <td>5</td>\n",
       "      <td>2</td>\n",
       "      <td>16</td>\n",
       "      <td>1</td>\n",
       "    </tr>\n",
       "    <tr>\n",
       "      <th>30761</th>\n",
       "      <td>0</td>\n",
       "      <td>0</td>\n",
       "      <td>0</td>\n",
       "      <td>0</td>\n",
       "      <td>0</td>\n",
       "      <td>1</td>\n",
       "      <td>6</td>\n",
       "      <td>9</td>\n",
       "      <td>1</td>\n",
       "      <td>6</td>\n",
       "      <td>...</td>\n",
       "      <td>2</td>\n",
       "      <td>4</td>\n",
       "      <td>2</td>\n",
       "      <td>6</td>\n",
       "      <td>4</td>\n",
       "      <td>2</td>\n",
       "      <td>5</td>\n",
       "      <td>4</td>\n",
       "      <td>17</td>\n",
       "      <td>1</td>\n",
       "    </tr>\n",
       "    <tr>\n",
       "      <th>30762</th>\n",
       "      <td>6</td>\n",
       "      <td>3</td>\n",
       "      <td>3</td>\n",
       "      <td>0</td>\n",
       "      <td>0</td>\n",
       "      <td>5</td>\n",
       "      <td>3</td>\n",
       "      <td>6</td>\n",
       "      <td>4</td>\n",
       "      <td>3</td>\n",
       "      <td>...</td>\n",
       "      <td>2</td>\n",
       "      <td>3</td>\n",
       "      <td>2</td>\n",
       "      <td>3</td>\n",
       "      <td>4</td>\n",
       "      <td>1</td>\n",
       "      <td>1</td>\n",
       "      <td>7</td>\n",
       "      <td>17</td>\n",
       "      <td>1</td>\n",
       "    </tr>\n",
       "  </tbody>\n",
       "</table>\n",
       "<p>30763 rows × 21 columns</p>\n",
       "</div>"
      ],
      "text/plain": [
       "       view_cnt  where_cnt  attend_cnt  volunteer_cnt  history_cnt  standard   \n",
       "0            49          0           0              0            5         1  \\\n",
       "1             3          5           1              0            1         2   \n",
       "2             6          0           0              0            0         2   \n",
       "3            22         12           2              0            0         1   \n",
       "4            16          3           2              0            2         2   \n",
       "...         ...        ...         ...            ...          ...       ...   \n",
       "30758        10          0           0              0            0         3   \n",
       "30759        20          8           4              0            5         3   \n",
       "30760         0          0           0              0            0         5   \n",
       "30761         0          0           0              0            0         1   \n",
       "30762         6          3           3              0            0         5   \n",
       "\n",
       "       block  expense  expense_f  difficulty  ...  history  history_f  sex   \n",
       "0          1        6          6           3  ...        1          6    2  \\\n",
       "1          6        6          1           1  ...        1          7    2   \n",
       "2          1        7          7           1  ...        2          4    1   \n",
       "3          2        6          6           4  ...        2          4    2   \n",
       "4          1        6          6           4  ...        1          5    2   \n",
       "...      ...      ...        ...         ...  ...      ...        ...  ...   \n",
       "30758      3        6          6           6  ...        2          6    1   \n",
       "30759      3        6          6           3  ...        1          6    2   \n",
       "30760      8        9          9           3  ...        2          6    1   \n",
       "30761      6        9          1           6  ...        2          4    2   \n",
       "30762      3        6          4           3  ...        2          3    2   \n",
       "\n",
       "       age  education  married  work  income  sido  disabled  \n",
       "0        5          3        1     5       3     1         1  \n",
       "1        5          3        2     5       7     1         1  \n",
       "2        2          3        1     5       6     1         1  \n",
       "3        4          4        2     5       5     1         1  \n",
       "4        3          4        1     1       3     1         1  \n",
       "...    ...        ...      ...   ...     ...   ...       ...  \n",
       "30758    3          4        1     1       4    11         1  \n",
       "30759    1          3        1     5       4    10         1  \n",
       "30760    7          2        2     5       2    16         1  \n",
       "30761    6          4        2     5       4    17         1  \n",
       "30762    3          4        1     1       7    17         1  \n",
       "\n",
       "[30763 rows x 21 columns]"
      ]
     },
     "execution_count": 67,
     "metadata": {},
     "output_type": "execute_result"
    }
   ],
   "source": [
    "CS"
   ]
  },
  {
   "cell_type": "markdown",
   "id": "83a9c40b",
   "metadata": {},
   "source": [
    "## 워드클라우드 적용"
   ]
  },
  {
   "cell_type": "markdown",
   "id": "32a5fabc",
   "metadata": {},
   "source": [
    "### 워드클라우드 시각화가 필요한 feature\n",
    "\n",
    "- standard : 기준\n",
    "- block : 걸림돌\n",
    "- difficulty : 어려움\n",
    "- expense : 가장 많이 지출한 1순위 (후순위 작업)\n",
    "- expense_f : 향후 지출 의향 1순위 (후순위 작업)\n",
    "\n"
   ]
  },
  {
   "cell_type": "code",
   "execution_count": 68,
   "id": "4af66e36",
   "metadata": {},
   "outputs": [],
   "source": [
    "from wordcloud import WordCloud\n",
    "from PIL import *"
   ]
  },
  {
   "cell_type": "code",
   "execution_count": 69,
   "id": "7c8c390d",
   "metadata": {
    "scrolled": true
   },
   "outputs": [
    {
     "data": {
      "text/plain": [
       "array([[[255, 255, 255, 255],\n",
       "        [254, 254, 254, 255],\n",
       "        [254, 254, 254, 255],\n",
       "        ...,\n",
       "        [254, 254, 254, 255],\n",
       "        [254, 254, 254, 255],\n",
       "        [254, 254, 254, 255]],\n",
       "\n",
       "       [[255, 255, 255, 255],\n",
       "        [255, 255, 255, 255],\n",
       "        [255, 255, 255, 255],\n",
       "        ...,\n",
       "        [255, 255, 255, 255],\n",
       "        [255, 255, 255, 255],\n",
       "        [255, 255, 255, 255]],\n",
       "\n",
       "       [[255, 255, 255, 255],\n",
       "        [255, 255, 255, 255],\n",
       "        [255, 255, 255, 255],\n",
       "        ...,\n",
       "        [255, 255, 255, 255],\n",
       "        [255, 255, 255, 255],\n",
       "        [255, 255, 255, 255]],\n",
       "\n",
       "       ...,\n",
       "\n",
       "       [[255, 255, 255, 255],\n",
       "        [255, 255, 255, 255],\n",
       "        [255, 255, 255, 255],\n",
       "        ...,\n",
       "        [255, 255, 255, 255],\n",
       "        [255, 255, 255, 255],\n",
       "        [255, 255, 255, 255]],\n",
       "\n",
       "       [[255, 255, 255, 255],\n",
       "        [255, 255, 255, 255],\n",
       "        [255, 255, 255, 255],\n",
       "        ...,\n",
       "        [255, 255, 255, 255],\n",
       "        [255, 255, 255, 255],\n",
       "        [255, 255, 255, 255]],\n",
       "\n",
       "       [[255, 255, 255, 255],\n",
       "        [255, 255, 255, 255],\n",
       "        [255, 255, 255, 255],\n",
       "        ...,\n",
       "        [255, 255, 255, 255],\n",
       "        [255, 255, 255, 255],\n",
       "        [255, 255, 255, 255]]], dtype=uint8)"
      ]
     },
     "execution_count": 69,
     "metadata": {},
     "output_type": "execute_result"
    }
   ],
   "source": [
    "# 워드클라우드 모양 잡기\n",
    "cand_mask = np.array(Image.open('워드클라우드_이미지및폰트/circle_image.jpg'))\n",
    "\n",
    "cand_mask"
   ]
  },
  {
   "cell_type": "markdown",
   "id": "97acf84d",
   "metadata": {},
   "source": [
    "### 각 feature 별 범주 코드 기준 확인"
   ]
  },
  {
   "cell_type": "code",
   "execution_count": 70,
   "id": "fcdd98ef",
   "metadata": {},
   "outputs": [],
   "source": [
    "standard_words = {\n",
    "    1:'컨텐츠 및 퀄리티',\n",
    "    2:'비용',\n",
    "    3:'작가 및 출연진',\n",
    "    4:'개최 장소의 유명도',\n",
    "    5:'교통',\n",
    "    6:'편의시설여부',\n",
    "    7:'전문가 의견 및 언론보도',\n",
    "    8:'주위 의견 및 네티즌 의견',\n",
    "    9:'접근성',\n",
    "    10:'기타',\n",
    "}"
   ]
  },
  {
   "cell_type": "code",
   "execution_count": 71,
   "id": "a867fdcc",
   "metadata": {},
   "outputs": [],
   "source": [
    "block_words = {\n",
    "    1:'비용',\n",
    "    2:'시간',\n",
    "    3:'관심도',\n",
    "    4:'교통',\n",
    "    5:'편의시설미비',\n",
    "    6:'관련정보부족',\n",
    "    7:'친구없음',\n",
    "    8:'시설부족',\n",
    "    9:'기타',\n",
    "}"
   ]
  },
  {
   "cell_type": "code",
   "execution_count": 72,
   "id": "61724b00",
   "metadata": {},
   "outputs": [],
   "source": [
    "difficulty_words = {\n",
    "    1:'비용',\n",
    "    2:'시간',\n",
    "    3:'관심도',\n",
    "    4:'교통',\n",
    "    5:'편의시설미비',\n",
    "    6:'관련정보부족',\n",
    "    7:'친구없음',\n",
    "    8:'시설부족',\n",
    "    9:'기타',\n",
    "}"
   ]
  },
  {
   "cell_type": "code",
   "execution_count": 73,
   "id": "ece11629",
   "metadata": {},
   "outputs": [],
   "source": [
    "expense_words = {\n",
    "    1 : '문학/미술',\n",
    "    2 : '서양음악',\n",
    "    3 : '전통예술',\n",
    "    4 : '연극/뮤지컬',\n",
    "    5 : '무용',\n",
    "    6 : '영화',\n",
    "    7 : '대중음악',\n",
    "    8 : '기타',\n",
    "    9 : '해당사항없음'\n",
    "}"
   ]
  },
  {
   "cell_type": "markdown",
   "id": "5ef3cbb6",
   "metadata": {},
   "source": [
    "### 기존의 숫자 코드 -> 문자 기준으로 변경"
   ]
  },
  {
   "cell_type": "code",
   "execution_count": 74,
   "id": "6f29a485",
   "metadata": {},
   "outputs": [
    {
     "data": {
      "text/html": [
       "<div>\n",
       "<style scoped>\n",
       "    .dataframe tbody tr th:only-of-type {\n",
       "        vertical-align: middle;\n",
       "    }\n",
       "\n",
       "    .dataframe tbody tr th {\n",
       "        vertical-align: top;\n",
       "    }\n",
       "\n",
       "    .dataframe thead th {\n",
       "        text-align: right;\n",
       "    }\n",
       "</style>\n",
       "<table border=\"1\" class=\"dataframe\">\n",
       "  <thead>\n",
       "    <tr style=\"text-align: right;\">\n",
       "      <th></th>\n",
       "      <th>standard</th>\n",
       "      <th>block</th>\n",
       "      <th>difficulty</th>\n",
       "      <th>expense</th>\n",
       "      <th>expense_f</th>\n",
       "    </tr>\n",
       "  </thead>\n",
       "  <tbody>\n",
       "    <tr>\n",
       "      <th>0</th>\n",
       "      <td>1</td>\n",
       "      <td>1</td>\n",
       "      <td>3</td>\n",
       "      <td>6</td>\n",
       "      <td>6</td>\n",
       "    </tr>\n",
       "    <tr>\n",
       "      <th>1</th>\n",
       "      <td>2</td>\n",
       "      <td>6</td>\n",
       "      <td>1</td>\n",
       "      <td>6</td>\n",
       "      <td>1</td>\n",
       "    </tr>\n",
       "    <tr>\n",
       "      <th>2</th>\n",
       "      <td>2</td>\n",
       "      <td>1</td>\n",
       "      <td>1</td>\n",
       "      <td>7</td>\n",
       "      <td>7</td>\n",
       "    </tr>\n",
       "    <tr>\n",
       "      <th>3</th>\n",
       "      <td>1</td>\n",
       "      <td>2</td>\n",
       "      <td>4</td>\n",
       "      <td>6</td>\n",
       "      <td>6</td>\n",
       "    </tr>\n",
       "    <tr>\n",
       "      <th>4</th>\n",
       "      <td>2</td>\n",
       "      <td>1</td>\n",
       "      <td>4</td>\n",
       "      <td>6</td>\n",
       "      <td>6</td>\n",
       "    </tr>\n",
       "    <tr>\n",
       "      <th>...</th>\n",
       "      <td>...</td>\n",
       "      <td>...</td>\n",
       "      <td>...</td>\n",
       "      <td>...</td>\n",
       "      <td>...</td>\n",
       "    </tr>\n",
       "    <tr>\n",
       "      <th>30758</th>\n",
       "      <td>3</td>\n",
       "      <td>3</td>\n",
       "      <td>6</td>\n",
       "      <td>6</td>\n",
       "      <td>6</td>\n",
       "    </tr>\n",
       "    <tr>\n",
       "      <th>30759</th>\n",
       "      <td>3</td>\n",
       "      <td>3</td>\n",
       "      <td>3</td>\n",
       "      <td>6</td>\n",
       "      <td>6</td>\n",
       "    </tr>\n",
       "    <tr>\n",
       "      <th>30760</th>\n",
       "      <td>5</td>\n",
       "      <td>8</td>\n",
       "      <td>3</td>\n",
       "      <td>9</td>\n",
       "      <td>9</td>\n",
       "    </tr>\n",
       "    <tr>\n",
       "      <th>30761</th>\n",
       "      <td>1</td>\n",
       "      <td>6</td>\n",
       "      <td>6</td>\n",
       "      <td>9</td>\n",
       "      <td>1</td>\n",
       "    </tr>\n",
       "    <tr>\n",
       "      <th>30762</th>\n",
       "      <td>5</td>\n",
       "      <td>3</td>\n",
       "      <td>3</td>\n",
       "      <td>6</td>\n",
       "      <td>4</td>\n",
       "    </tr>\n",
       "  </tbody>\n",
       "</table>\n",
       "<p>30763 rows × 5 columns</p>\n",
       "</div>"
      ],
      "text/plain": [
       "       standard  block  difficulty  expense  expense_f\n",
       "0             1      1           3        6          6\n",
       "1             2      6           1        6          1\n",
       "2             2      1           1        7          7\n",
       "3             1      2           4        6          6\n",
       "4             2      1           4        6          6\n",
       "...         ...    ...         ...      ...        ...\n",
       "30758         3      3           6        6          6\n",
       "30759         3      3           3        6          6\n",
       "30760         5      8           3        9          9\n",
       "30761         1      6           6        9          1\n",
       "30762         5      3           3        6          4\n",
       "\n",
       "[30763 rows x 5 columns]"
      ]
     },
     "execution_count": 74,
     "metadata": {},
     "output_type": "execute_result"
    }
   ],
   "source": [
    "# 워드클라우드 생성을 위한 데이터프레임 할당\n",
    "CS_wordcloud = CS[['standard', 'block', 'difficulty', 'expense', 'expense_f']]\n",
    "CS_wordcloud"
   ]
  },
  {
   "cell_type": "code",
   "execution_count": 75,
   "id": "b2c0f1a9",
   "metadata": {},
   "outputs": [],
   "source": [
    "# 코드 변경이 필요한 열 이름\n",
    "need_setting_columns = [\n",
    "    'standard',\n",
    "    'block',\n",
    "    'difficulty',\n",
    "    'expense',\n",
    "    'expense_f'\n",
    "]"
   ]
  },
  {
   "cell_type": "code",
   "execution_count": 76,
   "id": "49458ca0",
   "metadata": {
    "scrolled": true
   },
   "outputs": [
    {
     "data": {
      "text/plain": [
       "standard\n",
       "1     9410\n",
       "2     7122\n",
       "9     3732\n",
       "3     3532\n",
       "5     3067\n",
       "4     1320\n",
       "8     1083\n",
       "7      836\n",
       "6      619\n",
       "10      42\n",
       "Name: count, dtype: int64"
      ]
     },
     "execution_count": 76,
     "metadata": {},
     "output_type": "execute_result"
    },
    {
     "data": {
      "text/plain": [
       "block\n",
       "2    7682\n",
       "1    7487\n",
       "3    5927\n",
       "6    3647\n",
       "8    2339\n",
       "4    1816\n",
       "7     916\n",
       "5     823\n",
       "9     126\n",
       "Name: count, dtype: int64"
      ]
     },
     "execution_count": 76,
     "metadata": {},
     "output_type": "execute_result"
    },
    {
     "data": {
      "text/plain": [
       "difficulty\n",
       "2    7992\n",
       "3    7212\n",
       "6    4924\n",
       "1    4837\n",
       "8    2088\n",
       "4    1508\n",
       "5    1055\n",
       "7    1025\n",
       "9     122\n",
       "Name: count, dtype: int64"
      ]
     },
     "execution_count": 76,
     "metadata": {},
     "output_type": "execute_result"
    },
    {
     "data": {
      "text/plain": [
       "expense\n",
       "6    17269\n",
       "9     8235\n",
       "7     1988\n",
       "1     1392\n",
       "4      988\n",
       "3      416\n",
       "8      189\n",
       "2      188\n",
       "5       98\n",
       "Name: count, dtype: int64"
      ]
     },
     "execution_count": 76,
     "metadata": {},
     "output_type": "execute_result"
    },
    {
     "data": {
      "text/plain": [
       "expense_f\n",
       "6    15042\n",
       "7     4294\n",
       "9     3723\n",
       "4     2850\n",
       "1     2355\n",
       "3     1277\n",
       "2      523\n",
       "8      459\n",
       "5      240\n",
       "Name: count, dtype: int64"
      ]
     },
     "execution_count": 76,
     "metadata": {},
     "output_type": "execute_result"
    }
   ],
   "source": [
    "# 코드값 변경이 필요한 열들의 변경 전 빈도값 출력\n",
    "for column in need_setting_columns:\n",
    "    CS_wordcloud[column].value_counts(ascending=False)"
   ]
  },
  {
   "cell_type": "code",
   "execution_count": 77,
   "id": "4dabb508",
   "metadata": {},
   "outputs": [],
   "source": [
    "# 위에서 만들어준 딕셔너리 하나의 리스트로 묶기\n",
    "setting_codes = [standard_words, block_words, difficulty_words, expense_words, expense_words]"
   ]
  },
  {
   "cell_type": "code",
   "execution_count": 78,
   "id": "8a12fb57",
   "metadata": {},
   "outputs": [],
   "source": [
    "# 코드 변경 함수 선언\n",
    "def get_list_setting_column(column, setting_prev_next):\n",
    "    setting_done_list = []\n",
    "    \n",
    "    for code_value in column:\n",
    "        setting_done_list.append(setting_prev_next[code_value])\n",
    "    \n",
    "    return setting_done_list"
   ]
  },
  {
   "cell_type": "code",
   "execution_count": 79,
   "id": "a8633f30",
   "metadata": {},
   "outputs": [],
   "source": [
    "# 코드 변경이 필요한 모든 열에 대해 코드 변경\n",
    "for i, column in enumerate(need_setting_columns):\n",
    "    CS_wordcloud[column] = get_list_setting_column(CS_wordcloud[column], setting_codes[i])"
   ]
  },
  {
   "cell_type": "code",
   "execution_count": 80,
   "id": "d6ba740e",
   "metadata": {},
   "outputs": [
    {
     "data": {
      "text/plain": [
       "standard\n",
       "컨텐츠 및 퀄리티         9410\n",
       "비용                7122\n",
       "접근성               3732\n",
       "작가 및 출연진          3532\n",
       "교통                3067\n",
       "개최 장소의 유명도        1320\n",
       "주위 의견 및 네티즌 의견    1083\n",
       "전문가 의견 및 언론보도      836\n",
       "편의시설여부             619\n",
       "기타                  42\n",
       "Name: count, dtype: int64"
      ]
     },
     "execution_count": 80,
     "metadata": {},
     "output_type": "execute_result"
    },
    {
     "data": {
      "text/plain": [
       "block\n",
       "시간        7682\n",
       "비용        7487\n",
       "관심도       5927\n",
       "관련정보부족    3647\n",
       "시설부족      2339\n",
       "교통        1816\n",
       "친구없음       916\n",
       "편의시설미비     823\n",
       "기타         126\n",
       "Name: count, dtype: int64"
      ]
     },
     "execution_count": 80,
     "metadata": {},
     "output_type": "execute_result"
    },
    {
     "data": {
      "text/plain": [
       "difficulty\n",
       "시간        7992\n",
       "관심도       7212\n",
       "관련정보부족    4924\n",
       "비용        4837\n",
       "시설부족      2088\n",
       "교통        1508\n",
       "편의시설미비    1055\n",
       "친구없음      1025\n",
       "기타         122\n",
       "Name: count, dtype: int64"
      ]
     },
     "execution_count": 80,
     "metadata": {},
     "output_type": "execute_result"
    },
    {
     "data": {
      "text/plain": [
       "expense\n",
       "영화        17269\n",
       "해당사항없음     8235\n",
       "대중음악       1988\n",
       "문학/미술      1392\n",
       "연극/뮤지컬      988\n",
       "전통예술        416\n",
       "기타          189\n",
       "서양음악        188\n",
       "무용           98\n",
       "Name: count, dtype: int64"
      ]
     },
     "execution_count": 80,
     "metadata": {},
     "output_type": "execute_result"
    },
    {
     "data": {
      "text/plain": [
       "expense_f\n",
       "영화        15042\n",
       "대중음악       4294\n",
       "해당사항없음     3723\n",
       "연극/뮤지컬     2850\n",
       "문학/미술      2355\n",
       "전통예술       1277\n",
       "서양음악        523\n",
       "기타          459\n",
       "무용          240\n",
       "Name: count, dtype: int64"
      ]
     },
     "execution_count": 80,
     "metadata": {},
     "output_type": "execute_result"
    }
   ],
   "source": [
    "# 코드값 변경이 필요한 열들의 변경 후 빈도값 출력\n",
    "for column in need_setting_columns:\n",
    "    CS_wordcloud[column].value_counts(ascending=False)"
   ]
  },
  {
   "cell_type": "markdown",
   "id": "c424376b",
   "metadata": {},
   "source": [
    "## 숫자 코드 --> 문자 기준으로 바꾼 결과\n",
    "- 바뀐 데이터프레임 확인\n",
    "- 각 열에 해당하는 시리즈를 딕셔너리로 변환"
   ]
  },
  {
   "cell_type": "code",
   "execution_count": 81,
   "id": "9844e31c",
   "metadata": {},
   "outputs": [
    {
     "data": {
      "text/html": [
       "<div>\n",
       "<style scoped>\n",
       "    .dataframe tbody tr th:only-of-type {\n",
       "        vertical-align: middle;\n",
       "    }\n",
       "\n",
       "    .dataframe tbody tr th {\n",
       "        vertical-align: top;\n",
       "    }\n",
       "\n",
       "    .dataframe thead th {\n",
       "        text-align: right;\n",
       "    }\n",
       "</style>\n",
       "<table border=\"1\" class=\"dataframe\">\n",
       "  <thead>\n",
       "    <tr style=\"text-align: right;\">\n",
       "      <th></th>\n",
       "      <th>standard</th>\n",
       "      <th>block</th>\n",
       "      <th>difficulty</th>\n",
       "      <th>expense</th>\n",
       "      <th>expense_f</th>\n",
       "    </tr>\n",
       "  </thead>\n",
       "  <tbody>\n",
       "    <tr>\n",
       "      <th>0</th>\n",
       "      <td>컨텐츠 및 퀄리티</td>\n",
       "      <td>비용</td>\n",
       "      <td>관심도</td>\n",
       "      <td>영화</td>\n",
       "      <td>영화</td>\n",
       "    </tr>\n",
       "    <tr>\n",
       "      <th>1</th>\n",
       "      <td>비용</td>\n",
       "      <td>관련정보부족</td>\n",
       "      <td>비용</td>\n",
       "      <td>영화</td>\n",
       "      <td>문학/미술</td>\n",
       "    </tr>\n",
       "    <tr>\n",
       "      <th>2</th>\n",
       "      <td>비용</td>\n",
       "      <td>비용</td>\n",
       "      <td>비용</td>\n",
       "      <td>대중음악</td>\n",
       "      <td>대중음악</td>\n",
       "    </tr>\n",
       "    <tr>\n",
       "      <th>3</th>\n",
       "      <td>컨텐츠 및 퀄리티</td>\n",
       "      <td>시간</td>\n",
       "      <td>교통</td>\n",
       "      <td>영화</td>\n",
       "      <td>영화</td>\n",
       "    </tr>\n",
       "    <tr>\n",
       "      <th>4</th>\n",
       "      <td>비용</td>\n",
       "      <td>비용</td>\n",
       "      <td>교통</td>\n",
       "      <td>영화</td>\n",
       "      <td>영화</td>\n",
       "    </tr>\n",
       "    <tr>\n",
       "      <th>...</th>\n",
       "      <td>...</td>\n",
       "      <td>...</td>\n",
       "      <td>...</td>\n",
       "      <td>...</td>\n",
       "      <td>...</td>\n",
       "    </tr>\n",
       "    <tr>\n",
       "      <th>30758</th>\n",
       "      <td>작가 및 출연진</td>\n",
       "      <td>관심도</td>\n",
       "      <td>관련정보부족</td>\n",
       "      <td>영화</td>\n",
       "      <td>영화</td>\n",
       "    </tr>\n",
       "    <tr>\n",
       "      <th>30759</th>\n",
       "      <td>작가 및 출연진</td>\n",
       "      <td>관심도</td>\n",
       "      <td>관심도</td>\n",
       "      <td>영화</td>\n",
       "      <td>영화</td>\n",
       "    </tr>\n",
       "    <tr>\n",
       "      <th>30760</th>\n",
       "      <td>교통</td>\n",
       "      <td>시설부족</td>\n",
       "      <td>관심도</td>\n",
       "      <td>해당사항없음</td>\n",
       "      <td>해당사항없음</td>\n",
       "    </tr>\n",
       "    <tr>\n",
       "      <th>30761</th>\n",
       "      <td>컨텐츠 및 퀄리티</td>\n",
       "      <td>관련정보부족</td>\n",
       "      <td>관련정보부족</td>\n",
       "      <td>해당사항없음</td>\n",
       "      <td>문학/미술</td>\n",
       "    </tr>\n",
       "    <tr>\n",
       "      <th>30762</th>\n",
       "      <td>교통</td>\n",
       "      <td>관심도</td>\n",
       "      <td>관심도</td>\n",
       "      <td>영화</td>\n",
       "      <td>연극/뮤지컬</td>\n",
       "    </tr>\n",
       "  </tbody>\n",
       "</table>\n",
       "<p>30763 rows × 5 columns</p>\n",
       "</div>"
      ],
      "text/plain": [
       "        standard   block difficulty expense expense_f\n",
       "0      컨텐츠 및 퀄리티      비용        관심도      영화        영화\n",
       "1             비용  관련정보부족         비용      영화     문학/미술\n",
       "2             비용      비용         비용    대중음악      대중음악\n",
       "3      컨텐츠 및 퀄리티      시간         교통      영화        영화\n",
       "4             비용      비용         교통      영화        영화\n",
       "...          ...     ...        ...     ...       ...\n",
       "30758   작가 및 출연진     관심도     관련정보부족      영화        영화\n",
       "30759   작가 및 출연진     관심도        관심도      영화        영화\n",
       "30760         교통    시설부족        관심도  해당사항없음    해당사항없음\n",
       "30761  컨텐츠 및 퀄리티  관련정보부족     관련정보부족  해당사항없음     문학/미술\n",
       "30762         교통     관심도        관심도      영화    연극/뮤지컬\n",
       "\n",
       "[30763 rows x 5 columns]"
      ]
     },
     "execution_count": 81,
     "metadata": {},
     "output_type": "execute_result"
    }
   ],
   "source": [
    "CS_wordcloud"
   ]
  },
  {
   "cell_type": "code",
   "execution_count": 82,
   "id": "463b604b",
   "metadata": {},
   "outputs": [
    {
     "data": {
      "text/plain": [
       "{'컨텐츠 및 퀄리티': 9410,\n",
       " '비용': 7122,\n",
       " '접근성': 3732,\n",
       " '작가 및 출연진': 3532,\n",
       " '교통': 3067,\n",
       " '개최 장소의 유명도': 1320,\n",
       " '주위 의견 및 네티즌 의견': 1083,\n",
       " '전문가 의견 및 언론보도': 836,\n",
       " '편의시설여부': 619,\n",
       " '기타': 42}"
      ]
     },
     "execution_count": 82,
     "metadata": {},
     "output_type": "execute_result"
    },
    {
     "data": {
      "text/plain": [
       "{'시간': 7682,\n",
       " '비용': 7487,\n",
       " '관심도': 5927,\n",
       " '관련정보부족': 3647,\n",
       " '시설부족': 2339,\n",
       " '교통': 1816,\n",
       " '친구없음': 916,\n",
       " '편의시설미비': 823,\n",
       " '기타': 126}"
      ]
     },
     "execution_count": 82,
     "metadata": {},
     "output_type": "execute_result"
    },
    {
     "data": {
      "text/plain": [
       "{'시간': 7992,\n",
       " '관심도': 7212,\n",
       " '관련정보부족': 4924,\n",
       " '비용': 4837,\n",
       " '시설부족': 2088,\n",
       " '교통': 1508,\n",
       " '편의시설미비': 1055,\n",
       " '친구없음': 1025,\n",
       " '기타': 122}"
      ]
     },
     "execution_count": 82,
     "metadata": {},
     "output_type": "execute_result"
    },
    {
     "data": {
      "text/plain": [
       "{'영화': 17269,\n",
       " '해당사항없음': 8235,\n",
       " '대중음악': 1988,\n",
       " '문학/미술': 1392,\n",
       " '연극/뮤지컬': 988,\n",
       " '전통예술': 416,\n",
       " '기타': 189,\n",
       " '서양음악': 188,\n",
       " '무용': 98}"
      ]
     },
     "execution_count": 82,
     "metadata": {},
     "output_type": "execute_result"
    },
    {
     "data": {
      "text/plain": [
       "{'영화': 15042,\n",
       " '대중음악': 4294,\n",
       " '해당사항없음': 3723,\n",
       " '연극/뮤지컬': 2850,\n",
       " '문학/미술': 2355,\n",
       " '전통예술': 1277,\n",
       " '서양음악': 523,\n",
       " '기타': 459,\n",
       " '무용': 240}"
      ]
     },
     "execution_count": 82,
     "metadata": {},
     "output_type": "execute_result"
    }
   ],
   "source": [
    "# {'기준' : 개수} 로 딕셔너리 생성\n",
    "\n",
    "standard_dict = CS_wordcloud['standard'].value_counts(ascending=False).to_dict()\n",
    "block_dict = CS_wordcloud['block'].value_counts(ascending=False).to_dict()\n",
    "difficulty_dict = CS_wordcloud['difficulty'].value_counts(ascending=False).to_dict()\n",
    "expense_dict = CS_wordcloud['expense'].value_counts(ascending=False).to_dict()\n",
    "expense_f_dict = CS_wordcloud['expense_f'].value_counts(ascending=False).to_dict()\n",
    "\n",
    "standard_dict\n",
    "block_dict\n",
    "difficulty_dict\n",
    "expense_dict\n",
    "expense_f_dict"
   ]
  },
  {
   "cell_type": "markdown",
   "id": "add9d0ae",
   "metadata": {},
   "source": [
    "## 최종 워드클라우드 생성"
   ]
  },
  {
   "cell_type": "code",
   "execution_count": 83,
   "id": "352c2354",
   "metadata": {},
   "outputs": [],
   "source": [
    "# standard_dict 워드클라우드 생성\n",
    "wordcloud = WordCloud(\n",
    "    font_path = '워드클라우드_이미지및폰트/malgun.ttf', # 한글 글씨체 설정\n",
    "    background_color='white', # 배경색은 흰색으로 \n",
    "    colormap='summer', # 글씨색\n",
    "    mask=cand_mask, # 워드클라우드 모양 설정\n",
    ").generate_from_frequencies(standard_dict)"
   ]
  },
  {
   "cell_type": "code",
   "execution_count": 84,
   "id": "77645a54",
   "metadata": {},
   "outputs": [
    {
     "data": {
      "text/plain": [
       "<Figure size 500x500 with 0 Axes>"
      ]
     },
     "execution_count": 84,
     "metadata": {},
     "output_type": "execute_result"
    },
    {
     "data": {
      "text/plain": [
       "<matplotlib.image.AxesImage at 0x11ba39600>"
      ]
     },
     "execution_count": 84,
     "metadata": {},
     "output_type": "execute_result"
    },
    {
     "data": {
      "text/plain": [
       "(-0.5, 400.5, 389.5, -0.5)"
      ]
     },
     "execution_count": 84,
     "metadata": {},
     "output_type": "execute_result"
    },
    {
     "data": {
      "image/png": "[encoded data removed]",
      "text/plain": [
       "<Figure size 500x500 with 1 Axes>"
      ]
     },
     "metadata": {},
     "output_type": "display_data"
    }
   ],
   "source": [
    "# 워드클라우드 출력\n",
    "# 사이즈 설정\n",
    "plt.figure(figsize=(5,5))\n",
    "plt.imshow(wordcloud, interpolation='bilinear')\n",
    "plt.axis('off') # 차트로 나오지 않게\n",
    "\n",
    "# 워드클라우드 이미지 저장\n",
    "# plt.savefig('test.png')"
   ]
  },
  {
   "cell_type": "code",
   "execution_count": 85,
   "id": "c7314bdf",
   "metadata": {},
   "outputs": [],
   "source": [
    "# block_dict 워드클라우드 생성\n",
    "wordcloud = WordCloud(\n",
    "    font_path = '워드클라우드_이미지및폰트/malgun.ttf', # 한글 글씨체 설정\n",
    "    background_color='white', # 배경색은 흰색으로 \n",
    "    colormap='PuBu', # 글씨색\n",
    "    mask=cand_mask, # 워드클라우드 모양 설정\n",
    ").generate_from_frequencies(block_dict)"
   ]
  },
  {
   "cell_type": "code",
   "execution_count": 86,
   "id": "804251bb",
   "metadata": {},
   "outputs": [
    {
     "data": {
      "text/plain": [
       "<Figure size 500x500 with 0 Axes>"
      ]
     },
     "execution_count": 86,
     "metadata": {},
     "output_type": "execute_result"
    },
    {
     "data": {
      "text/plain": [
       "<matplotlib.image.AxesImage at 0x11ba53910>"
      ]
     },
     "execution_count": 86,
     "metadata": {},
     "output_type": "execute_result"
    },
    {
     "data": {
      "text/plain": [
       "(-0.5, 400.5, 389.5, -0.5)"
      ]
     },
     "execution_count": 86,
     "metadata": {},
     "output_type": "execute_result"
    },
    {
     "data": {
      "image/png": "[encoded data removed]",
      "text/plain": [
       "<Figure size 500x500 with 1 Axes>"
      ]
     },
     "metadata": {},
     "output_type": "display_data"
    }
   ],
   "source": [
    "# 워드클라우드 출력\n",
    "# 사이즈 설정\n",
    "plt.figure(figsize=(5,5))\n",
    "plt.imshow(wordcloud, interpolation='bilinear')\n",
    "plt.axis('off') # 차트로 나오지 않게\n",
    "\n",
    "# 워드클라우드 이미지 저장\n",
    "# plt.savefig('test.png')"
   ]
  },
  {
   "cell_type": "code",
   "execution_count": 87,
   "id": "f4fdf9d1",
   "metadata": {},
   "outputs": [],
   "source": [
    "# difficulty_dict 워드클라우드 생성\n",
    "wordcloud = WordCloud(\n",
    "    font_path = '워드클라우드_이미지및폰트/malgun.ttf', # 한글 글씨체 설정\n",
    "    background_color='white', # 배경색은 흰색으로 \n",
    "    colormap='Blues', # 글씨색\n",
    "    mask=cand_mask, # 워드클라우드 모양 설정\n",
    ").generate_from_frequencies(difficulty_dict)"
   ]
  },
  {
   "cell_type": "code",
   "execution_count": 88,
   "id": "6b69d213",
   "metadata": {},
   "outputs": [
    {
     "data": {
      "text/plain": [
       "<Figure size 500x500 with 0 Axes>"
      ]
     },
     "execution_count": 88,
     "metadata": {},
     "output_type": "execute_result"
    },
    {
     "data": {
      "text/plain": [
       "<matplotlib.image.AxesImage at 0x11bab9300>"
      ]
     },
     "execution_count": 88,
     "metadata": {},
     "output_type": "execute_result"
    },
    {
     "data": {
      "text/plain": [
       "(-0.5, 400.5, 389.5, -0.5)"
      ]
     },
     "execution_count": 88,
     "metadata": {},
     "output_type": "execute_result"
    },
    {
     "data": {
      "image/png": "[encoded data removed]",
      "text/plain": [
       "<Figure size 500x500 with 1 Axes>"
      ]
     },
     "metadata": {},
     "output_type": "display_data"
    }
   ],
   "source": [
    "# 워드클라우드 출력\n",
    "# 사이즈 설정\n",
    "plt.figure(figsize=(5,5))\n",
    "plt.imshow(wordcloud, interpolation='bilinear')\n",
    "plt.axis('off') # 차트로 나오지 않게\n",
    "\n",
    "# 워드클라우드 이미지 저장\n",
    "# plt.savefig('test.png')"
   ]
  },
  {
   "cell_type": "code",
   "execution_count": 89,
   "id": "5f4359b6",
   "metadata": {},
   "outputs": [],
   "source": [
    "# 딕셔너리에 '해당사항없음' value 제거\n",
    "del expense_dict['해당사항없음']"
   ]
  },
  {
   "cell_type": "code",
   "execution_count": 92,
   "id": "894fbed6",
   "metadata": {},
   "outputs": [],
   "source": [
    "# expense_dict 워드클라우드 생성\n",
    "wordcloud = WordCloud(\n",
    "    font_path = '워드클라우드_이미지및폰트/malgun.ttf', # 한글 글씨체 설정\n",
    "    background_color='white', # 배경색은 흰색으로 \n",
    "    colormap='Reds', # 글씨색\n",
    "    mask=cand_mask, # 워드클라우드 모양 설정\n",
    ").generate_from_frequencies(expense_dict)"
   ]
  },
  {
   "cell_type": "code",
   "execution_count": 93,
   "id": "6aee7b13",
   "metadata": {},
   "outputs": [
    {
     "data": {
      "text/plain": [
       "<Figure size 500x500 with 0 Axes>"
      ]
     },
     "execution_count": 93,
     "metadata": {},
     "output_type": "execute_result"
    },
    {
     "data": {
      "text/plain": [
       "<matplotlib.image.AxesImage at 0x11babacb0>"
      ]
     },
     "execution_count": 93,
     "metadata": {},
     "output_type": "execute_result"
    },
    {
     "data": {
      "text/plain": [
       "(-0.5, 400.5, 389.5, -0.5)"
      ]
     },
     "execution_count": 93,
     "metadata": {},
     "output_type": "execute_result"
    },
    {
     "data": {
      "image/png": "[encoded data removed]",
      "text/plain": [
       "<Figure size 500x500 with 1 Axes>"
      ]
     },
     "metadata": {},
     "output_type": "display_data"
    }
   ],
   "source": [
    "# 워드클라우드 출력\n",
    "# 사이즈 설정\n",
    "plt.figure(figsize=(5,5))\n",
    "plt.imshow(wordcloud, interpolation='bilinear')\n",
    "plt.axis('off') # 차트로 나오지 않게\n",
    "\n",
    "# 워드클라우드 이미지 저장\n",
    "# plt.savefig('test.png')"
   ]
  },
  {
   "cell_type": "code",
   "execution_count": 94,
   "id": "4b5c41bf",
   "metadata": {},
   "outputs": [],
   "source": [
    "# 딕셔너리에 '해당사항없음' value 제거\n",
    "del expense_f_dict['해당사항없음']"
   ]
  },
  {
   "cell_type": "code",
   "execution_count": 95,
   "id": "2d9c6d0a",
   "metadata": {},
   "outputs": [],
   "source": [
    "# expense_f_dict 워드클라우드 생성\n",
    "wordcloud = WordCloud(\n",
    "    font_path = '워드클라우드_이미지및폰트/malgun.ttf', # 한글 글씨체 설정\n",
    "    background_color='white', # 배경색은 흰색으로 \n",
    "    colormap='Reds', # 글씨색\n",
    "    mask=cand_mask, # 워드클라우드 모양 설정\n",
    ").generate_from_frequencies(expense_f_dict)"
   ]
  },
  {
   "cell_type": "code",
   "execution_count": 96,
   "id": "0fdee435",
   "metadata": {},
   "outputs": [
    {
     "data": {
      "text/plain": [
       "<Figure size 500x500 with 0 Axes>"
      ]
     },
     "execution_count": 96,
     "metadata": {},
     "output_type": "execute_result"
    },
    {
     "data": {
      "text/plain": [
       "<matplotlib.image.AxesImage at 0x11baba440>"
      ]
     },
     "execution_count": 96,
     "metadata": {},
     "output_type": "execute_result"
    },
    {
     "data": {
      "text/plain": [
       "(-0.5, 400.5, 389.5, -0.5)"
      ]
     },
     "execution_count": 96,
     "metadata": {},
     "output_type": "execute_result"
    },
    {
     "data": {
      "image/png": "[encoded data removed]",
      "text/plain": [
       "<Figure size 500x500 with 1 Axes>"
      ]
     },
     "metadata": {},
     "output_type": "display_data"
    }
   ],
   "source": [
    "# 워드클라우드 출력\n",
    "# 사이즈 설정\n",
    "plt.figure(figsize=(5,5))\n",
    "plt.imshow(wordcloud, interpolation='bilinear')\n",
    "plt.axis('off') # 차트로 나오지 않게\n",
    "\n",
    "# 워드클라우드 이미지 저장\n",
    "# plt.savefig('test.png')"
   ]
  },
  {
   "cell_type": "markdown",
   "id": "c869a772",
   "metadata": {},
   "source": [
    "## 연령대별 (시니어) 필터링 후 워드클라우드 진행\n",
    "\n",
    "## 시니어 말고 지역 필터링은 어떻게??? -> 일단 수도권 필터링"
   ]
  },
  {
   "cell_type": "code",
   "execution_count": 97,
   "id": "4bd013ff",
   "metadata": {},
   "outputs": [
    {
     "data": {
      "text/html": [
       "<div>\n",
       "<style scoped>\n",
       "    .dataframe tbody tr th:only-of-type {\n",
       "        vertical-align: middle;\n",
       "    }\n",
       "\n",
       "    .dataframe tbody tr th {\n",
       "        vertical-align: top;\n",
       "    }\n",
       "\n",
       "    .dataframe thead th {\n",
       "        text-align: right;\n",
       "    }\n",
       "</style>\n",
       "<table border=\"1\" class=\"dataframe\">\n",
       "  <thead>\n",
       "    <tr style=\"text-align: right;\">\n",
       "      <th></th>\n",
       "      <th>view_cnt</th>\n",
       "      <th>where_cnt</th>\n",
       "      <th>attend_cnt</th>\n",
       "      <th>volunteer_cnt</th>\n",
       "      <th>history_cnt</th>\n",
       "      <th>standard</th>\n",
       "      <th>block</th>\n",
       "      <th>expense</th>\n",
       "      <th>expense_f</th>\n",
       "      <th>difficulty</th>\n",
       "      <th>...</th>\n",
       "      <th>history</th>\n",
       "      <th>history_f</th>\n",
       "      <th>sex</th>\n",
       "      <th>age</th>\n",
       "      <th>education</th>\n",
       "      <th>married</th>\n",
       "      <th>work</th>\n",
       "      <th>income</th>\n",
       "      <th>sido</th>\n",
       "      <th>disabled</th>\n",
       "    </tr>\n",
       "  </thead>\n",
       "  <tbody>\n",
       "    <tr>\n",
       "      <th>0</th>\n",
       "      <td>49</td>\n",
       "      <td>0</td>\n",
       "      <td>0</td>\n",
       "      <td>0</td>\n",
       "      <td>5</td>\n",
       "      <td>1</td>\n",
       "      <td>1</td>\n",
       "      <td>6</td>\n",
       "      <td>6</td>\n",
       "      <td>3</td>\n",
       "      <td>...</td>\n",
       "      <td>1</td>\n",
       "      <td>6</td>\n",
       "      <td>2</td>\n",
       "      <td>5</td>\n",
       "      <td>3</td>\n",
       "      <td>1</td>\n",
       "      <td>5</td>\n",
       "      <td>3</td>\n",
       "      <td>1</td>\n",
       "      <td>1</td>\n",
       "    </tr>\n",
       "    <tr>\n",
       "      <th>1</th>\n",
       "      <td>3</td>\n",
       "      <td>5</td>\n",
       "      <td>1</td>\n",
       "      <td>0</td>\n",
       "      <td>1</td>\n",
       "      <td>2</td>\n",
       "      <td>6</td>\n",
       "      <td>6</td>\n",
       "      <td>1</td>\n",
       "      <td>1</td>\n",
       "      <td>...</td>\n",
       "      <td>1</td>\n",
       "      <td>7</td>\n",
       "      <td>2</td>\n",
       "      <td>5</td>\n",
       "      <td>3</td>\n",
       "      <td>2</td>\n",
       "      <td>5</td>\n",
       "      <td>7</td>\n",
       "      <td>1</td>\n",
       "      <td>1</td>\n",
       "    </tr>\n",
       "    <tr>\n",
       "      <th>6</th>\n",
       "      <td>22</td>\n",
       "      <td>15</td>\n",
       "      <td>0</td>\n",
       "      <td>0</td>\n",
       "      <td>0</td>\n",
       "      <td>2</td>\n",
       "      <td>2</td>\n",
       "      <td>6</td>\n",
       "      <td>6</td>\n",
       "      <td>5</td>\n",
       "      <td>...</td>\n",
       "      <td>2</td>\n",
       "      <td>4</td>\n",
       "      <td>2</td>\n",
       "      <td>5</td>\n",
       "      <td>4</td>\n",
       "      <td>3</td>\n",
       "      <td>1</td>\n",
       "      <td>5</td>\n",
       "      <td>1</td>\n",
       "      <td>1</td>\n",
       "    </tr>\n",
       "    <tr>\n",
       "      <th>7</th>\n",
       "      <td>10</td>\n",
       "      <td>0</td>\n",
       "      <td>0</td>\n",
       "      <td>0</td>\n",
       "      <td>2</td>\n",
       "      <td>2</td>\n",
       "      <td>4</td>\n",
       "      <td>9</td>\n",
       "      <td>3</td>\n",
       "      <td>2</td>\n",
       "      <td>...</td>\n",
       "      <td>1</td>\n",
       "      <td>6</td>\n",
       "      <td>1</td>\n",
       "      <td>5</td>\n",
       "      <td>4</td>\n",
       "      <td>2</td>\n",
       "      <td>1</td>\n",
       "      <td>6</td>\n",
       "      <td>1</td>\n",
       "      <td>1</td>\n",
       "    </tr>\n",
       "    <tr>\n",
       "      <th>9</th>\n",
       "      <td>7</td>\n",
       "      <td>0</td>\n",
       "      <td>0</td>\n",
       "      <td>0</td>\n",
       "      <td>0</td>\n",
       "      <td>3</td>\n",
       "      <td>2</td>\n",
       "      <td>7</td>\n",
       "      <td>4</td>\n",
       "      <td>2</td>\n",
       "      <td>...</td>\n",
       "      <td>2</td>\n",
       "      <td>5</td>\n",
       "      <td>2</td>\n",
       "      <td>5</td>\n",
       "      <td>3</td>\n",
       "      <td>2</td>\n",
       "      <td>1</td>\n",
       "      <td>5</td>\n",
       "      <td>1</td>\n",
       "      <td>1</td>\n",
       "    </tr>\n",
       "    <tr>\n",
       "      <th>...</th>\n",
       "      <td>...</td>\n",
       "      <td>...</td>\n",
       "      <td>...</td>\n",
       "      <td>...</td>\n",
       "      <td>...</td>\n",
       "      <td>...</td>\n",
       "      <td>...</td>\n",
       "      <td>...</td>\n",
       "      <td>...</td>\n",
       "      <td>...</td>\n",
       "      <td>...</td>\n",
       "      <td>...</td>\n",
       "      <td>...</td>\n",
       "      <td>...</td>\n",
       "      <td>...</td>\n",
       "      <td>...</td>\n",
       "      <td>...</td>\n",
       "      <td>...</td>\n",
       "      <td>...</td>\n",
       "      <td>...</td>\n",
       "      <td>...</td>\n",
       "    </tr>\n",
       "    <tr>\n",
       "      <th>30535</th>\n",
       "      <td>8</td>\n",
       "      <td>0</td>\n",
       "      <td>0</td>\n",
       "      <td>0</td>\n",
       "      <td>2</td>\n",
       "      <td>1</td>\n",
       "      <td>3</td>\n",
       "      <td>6</td>\n",
       "      <td>6</td>\n",
       "      <td>6</td>\n",
       "      <td>...</td>\n",
       "      <td>1</td>\n",
       "      <td>5</td>\n",
       "      <td>2</td>\n",
       "      <td>5</td>\n",
       "      <td>3</td>\n",
       "      <td>2</td>\n",
       "      <td>5</td>\n",
       "      <td>6</td>\n",
       "      <td>9</td>\n",
       "      <td>1</td>\n",
       "    </tr>\n",
       "    <tr>\n",
       "      <th>30538</th>\n",
       "      <td>0</td>\n",
       "      <td>6</td>\n",
       "      <td>6</td>\n",
       "      <td>0</td>\n",
       "      <td>3</td>\n",
       "      <td>2</td>\n",
       "      <td>6</td>\n",
       "      <td>6</td>\n",
       "      <td>6</td>\n",
       "      <td>6</td>\n",
       "      <td>...</td>\n",
       "      <td>1</td>\n",
       "      <td>7</td>\n",
       "      <td>2</td>\n",
       "      <td>6</td>\n",
       "      <td>3</td>\n",
       "      <td>2</td>\n",
       "      <td>5</td>\n",
       "      <td>5</td>\n",
       "      <td>9</td>\n",
       "      <td>1</td>\n",
       "    </tr>\n",
       "    <tr>\n",
       "      <th>30540</th>\n",
       "      <td>2</td>\n",
       "      <td>0</td>\n",
       "      <td>0</td>\n",
       "      <td>0</td>\n",
       "      <td>1</td>\n",
       "      <td>2</td>\n",
       "      <td>3</td>\n",
       "      <td>6</td>\n",
       "      <td>6</td>\n",
       "      <td>3</td>\n",
       "      <td>...</td>\n",
       "      <td>1</td>\n",
       "      <td>5</td>\n",
       "      <td>1</td>\n",
       "      <td>6</td>\n",
       "      <td>4</td>\n",
       "      <td>2</td>\n",
       "      <td>5</td>\n",
       "      <td>7</td>\n",
       "      <td>9</td>\n",
       "      <td>1</td>\n",
       "    </tr>\n",
       "    <tr>\n",
       "      <th>30746</th>\n",
       "      <td>16</td>\n",
       "      <td>1</td>\n",
       "      <td>1</td>\n",
       "      <td>0</td>\n",
       "      <td>0</td>\n",
       "      <td>2</td>\n",
       "      <td>2</td>\n",
       "      <td>6</td>\n",
       "      <td>6</td>\n",
       "      <td>2</td>\n",
       "      <td>...</td>\n",
       "      <td>2</td>\n",
       "      <td>5</td>\n",
       "      <td>1</td>\n",
       "      <td>6</td>\n",
       "      <td>3</td>\n",
       "      <td>2</td>\n",
       "      <td>1</td>\n",
       "      <td>4</td>\n",
       "      <td>1</td>\n",
       "      <td>1</td>\n",
       "    </tr>\n",
       "    <tr>\n",
       "      <th>30750</th>\n",
       "      <td>6</td>\n",
       "      <td>0</td>\n",
       "      <td>0</td>\n",
       "      <td>0</td>\n",
       "      <td>0</td>\n",
       "      <td>2</td>\n",
       "      <td>3</td>\n",
       "      <td>3</td>\n",
       "      <td>4</td>\n",
       "      <td>5</td>\n",
       "      <td>...</td>\n",
       "      <td>2</td>\n",
       "      <td>5</td>\n",
       "      <td>2</td>\n",
       "      <td>5</td>\n",
       "      <td>3</td>\n",
       "      <td>2</td>\n",
       "      <td>5</td>\n",
       "      <td>4</td>\n",
       "      <td>9</td>\n",
       "      <td>1</td>\n",
       "    </tr>\n",
       "  </tbody>\n",
       "</table>\n",
       "<p>3007 rows × 21 columns</p>\n",
       "</div>"
      ],
      "text/plain": [
       "       view_cnt  where_cnt  attend_cnt  volunteer_cnt  history_cnt  standard   \n",
       "0            49          0           0              0            5         1  \\\n",
       "1             3          5           1              0            1         2   \n",
       "6            22         15           0              0            0         2   \n",
       "7            10          0           0              0            2         2   \n",
       "9             7          0           0              0            0         3   \n",
       "...         ...        ...         ...            ...          ...       ...   \n",
       "30535         8          0           0              0            2         1   \n",
       "30538         0          6           6              0            3         2   \n",
       "30540         2          0           0              0            1         2   \n",
       "30746        16          1           1              0            0         2   \n",
       "30750         6          0           0              0            0         2   \n",
       "\n",
       "       block  expense  expense_f  difficulty  ...  history  history_f  sex   \n",
       "0          1        6          6           3  ...        1          6    2  \\\n",
       "1          6        6          1           1  ...        1          7    2   \n",
       "6          2        6          6           5  ...        2          4    2   \n",
       "7          4        9          3           2  ...        1          6    1   \n",
       "9          2        7          4           2  ...        2          5    2   \n",
       "...      ...      ...        ...         ...  ...      ...        ...  ...   \n",
       "30535      3        6          6           6  ...        1          5    2   \n",
       "30538      6        6          6           6  ...        1          7    2   \n",
       "30540      3        6          6           3  ...        1          5    1   \n",
       "30746      2        6          6           2  ...        2          5    1   \n",
       "30750      3        3          4           5  ...        2          5    2   \n",
       "\n",
       "       age  education  married  work  income  sido  disabled  \n",
       "0        5          3        1     5       3     1         1  \n",
       "1        5          3        2     5       7     1         1  \n",
       "6        5          4        3     1       5     1         1  \n",
       "7        5          4        2     1       6     1         1  \n",
       "9        5          3        2     1       5     1         1  \n",
       "...    ...        ...      ...   ...     ...   ...       ...  \n",
       "30535    5          3        2     5       6     9         1  \n",
       "30538    6          3        2     5       5     9         1  \n",
       "30540    6          4        2     5       7     9         1  \n",
       "30746    6          3        2     1       4     1         1  \n",
       "30750    5          3        2     5       4     9         1  \n",
       "\n",
       "[3007 rows x 21 columns]"
      ]
     },
     "execution_count": 97,
     "metadata": {},
     "output_type": "execute_result"
    }
   ],
   "source": [
    "# 시니어, 수도권 필터링 \n",
    "CS_senior = CS.copy()\n",
    "CS_senior = CS_senior[(CS_senior.age==5) | (CS_senior.age==6)]\n",
    "CS_senior = CS_senior[(CS_senior.sido==1) | (CS_senior.sido==9)]\n",
    "CS_senior"
   ]
  },
  {
   "cell_type": "code",
   "execution_count": 98,
   "id": "b407f1d1",
   "metadata": {},
   "outputs": [
    {
     "data": {
      "text/html": [
       "<div>\n",
       "<style scoped>\n",
       "    .dataframe tbody tr th:only-of-type {\n",
       "        vertical-align: middle;\n",
       "    }\n",
       "\n",
       "    .dataframe tbody tr th {\n",
       "        vertical-align: top;\n",
       "    }\n",
       "\n",
       "    .dataframe thead th {\n",
       "        text-align: right;\n",
       "    }\n",
       "</style>\n",
       "<table border=\"1\" class=\"dataframe\">\n",
       "  <thead>\n",
       "    <tr style=\"text-align: right;\">\n",
       "      <th></th>\n",
       "      <th>standard</th>\n",
       "      <th>block</th>\n",
       "      <th>difficulty</th>\n",
       "      <th>expense</th>\n",
       "      <th>expense_f</th>\n",
       "    </tr>\n",
       "  </thead>\n",
       "  <tbody>\n",
       "    <tr>\n",
       "      <th>0</th>\n",
       "      <td>1</td>\n",
       "      <td>1</td>\n",
       "      <td>3</td>\n",
       "      <td>6</td>\n",
       "      <td>6</td>\n",
       "    </tr>\n",
       "    <tr>\n",
       "      <th>1</th>\n",
       "      <td>2</td>\n",
       "      <td>6</td>\n",
       "      <td>1</td>\n",
       "      <td>6</td>\n",
       "      <td>1</td>\n",
       "    </tr>\n",
       "    <tr>\n",
       "      <th>6</th>\n",
       "      <td>2</td>\n",
       "      <td>2</td>\n",
       "      <td>5</td>\n",
       "      <td>6</td>\n",
       "      <td>6</td>\n",
       "    </tr>\n",
       "    <tr>\n",
       "      <th>7</th>\n",
       "      <td>2</td>\n",
       "      <td>4</td>\n",
       "      <td>2</td>\n",
       "      <td>9</td>\n",
       "      <td>3</td>\n",
       "    </tr>\n",
       "    <tr>\n",
       "      <th>9</th>\n",
       "      <td>3</td>\n",
       "      <td>2</td>\n",
       "      <td>2</td>\n",
       "      <td>7</td>\n",
       "      <td>4</td>\n",
       "    </tr>\n",
       "    <tr>\n",
       "      <th>...</th>\n",
       "      <td>...</td>\n",
       "      <td>...</td>\n",
       "      <td>...</td>\n",
       "      <td>...</td>\n",
       "      <td>...</td>\n",
       "    </tr>\n",
       "    <tr>\n",
       "      <th>30535</th>\n",
       "      <td>1</td>\n",
       "      <td>3</td>\n",
       "      <td>6</td>\n",
       "      <td>6</td>\n",
       "      <td>6</td>\n",
       "    </tr>\n",
       "    <tr>\n",
       "      <th>30538</th>\n",
       "      <td>2</td>\n",
       "      <td>6</td>\n",
       "      <td>6</td>\n",
       "      <td>6</td>\n",
       "      <td>6</td>\n",
       "    </tr>\n",
       "    <tr>\n",
       "      <th>30540</th>\n",
       "      <td>2</td>\n",
       "      <td>3</td>\n",
       "      <td>3</td>\n",
       "      <td>6</td>\n",
       "      <td>6</td>\n",
       "    </tr>\n",
       "    <tr>\n",
       "      <th>30746</th>\n",
       "      <td>2</td>\n",
       "      <td>2</td>\n",
       "      <td>2</td>\n",
       "      <td>6</td>\n",
       "      <td>6</td>\n",
       "    </tr>\n",
       "    <tr>\n",
       "      <th>30750</th>\n",
       "      <td>2</td>\n",
       "      <td>3</td>\n",
       "      <td>5</td>\n",
       "      <td>3</td>\n",
       "      <td>4</td>\n",
       "    </tr>\n",
       "  </tbody>\n",
       "</table>\n",
       "<p>3007 rows × 5 columns</p>\n",
       "</div>"
      ],
      "text/plain": [
       "       standard  block  difficulty  expense  expense_f\n",
       "0             1      1           3        6          6\n",
       "1             2      6           1        6          1\n",
       "6             2      2           5        6          6\n",
       "7             2      4           2        9          3\n",
       "9             3      2           2        7          4\n",
       "...         ...    ...         ...      ...        ...\n",
       "30535         1      3           6        6          6\n",
       "30538         2      6           6        6          6\n",
       "30540         2      3           3        6          6\n",
       "30746         2      2           2        6          6\n",
       "30750         2      3           5        3          4\n",
       "\n",
       "[3007 rows x 5 columns]"
      ]
     },
     "execution_count": 98,
     "metadata": {},
     "output_type": "execute_result"
    }
   ],
   "source": [
    "# 5가지 열만 사용\n",
    "CS_senior = CS_senior[['standard', 'block', 'difficulty', 'expense', 'expense_f']]\n",
    "CS_senior"
   ]
  },
  {
   "cell_type": "code",
   "execution_count": 99,
   "id": "a348a4e0",
   "metadata": {},
   "outputs": [
    {
     "data": {
      "text/plain": [
       "standard\n",
       "1     961\n",
       "2     750\n",
       "3     353\n",
       "9     330\n",
       "5     289\n",
       "4     120\n",
       "8      82\n",
       "7      75\n",
       "6      44\n",
       "10      3\n",
       "Name: count, dtype: int64"
      ]
     },
     "execution_count": 99,
     "metadata": {},
     "output_type": "execute_result"
    },
    {
     "data": {
      "text/plain": [
       "block\n",
       "2    916\n",
       "1    687\n",
       "3    522\n",
       "6    390\n",
       "8    193\n",
       "4    153\n",
       "7     88\n",
       "5     51\n",
       "9      7\n",
       "Name: count, dtype: int64"
      ]
     },
     "execution_count": 99,
     "metadata": {},
     "output_type": "execute_result"
    },
    {
     "data": {
      "text/plain": [
       "difficulty\n",
       "2    923\n",
       "3    717\n",
       "6    497\n",
       "1    419\n",
       "8    163\n",
       "4    102\n",
       "5     88\n",
       "7     88\n",
       "9     10\n",
       "Name: count, dtype: int64"
      ]
     },
     "execution_count": 99,
     "metadata": {},
     "output_type": "execute_result"
    },
    {
     "data": {
      "text/plain": [
       "expense\n",
       "6    1495\n",
       "9     976\n",
       "7     189\n",
       "1     133\n",
       "4     105\n",
       "3      39\n",
       "8      30\n",
       "2      27\n",
       "5      13\n",
       "Name: count, dtype: int64"
      ]
     },
     "execution_count": 99,
     "metadata": {},
     "output_type": "execute_result"
    },
    {
     "data": {
      "text/plain": [
       "expense_f\n",
       "6    1400\n",
       "7     380\n",
       "9     377\n",
       "4     316\n",
       "1     284\n",
       "3     107\n",
       "8      63\n",
       "2      59\n",
       "5      21\n",
       "Name: count, dtype: int64"
      ]
     },
     "execution_count": 99,
     "metadata": {},
     "output_type": "execute_result"
    }
   ],
   "source": [
    "# 코드값 변경이 필요한 열들의 변경 전 빈도값 출력\n",
    "for column in need_setting_columns:\n",
    "    CS_senior[column].value_counts(ascending=False)"
   ]
  },
  {
   "cell_type": "code",
   "execution_count": 100,
   "id": "7cfc0610",
   "metadata": {},
   "outputs": [],
   "source": [
    "# 위에서 만들어준 딕셔너리 하나의 리스트로 묶기\n",
    "setting_codes = [standard_words, block_words, difficulty_words, expense_words, expense_words]"
   ]
  },
  {
   "cell_type": "code",
   "execution_count": 101,
   "id": "dc67f73f",
   "metadata": {},
   "outputs": [],
   "source": [
    "# 코드 변경이 필요한 모든 열에 대해 코드 변경\n",
    "for i, column in enumerate(need_setting_columns):\n",
    "    CS_senior[column] = get_list_setting_column(CS_senior[column], setting_codes[i])"
   ]
  },
  {
   "cell_type": "code",
   "execution_count": 102,
   "id": "77a1551e",
   "metadata": {},
   "outputs": [
    {
     "data": {
      "text/plain": [
       "standard\n",
       "컨텐츠 및 퀄리티         961\n",
       "비용                750\n",
       "작가 및 출연진          353\n",
       "접근성               330\n",
       "교통                289\n",
       "개최 장소의 유명도        120\n",
       "주위 의견 및 네티즌 의견     82\n",
       "전문가 의견 및 언론보도      75\n",
       "편의시설여부             44\n",
       "기타                  3\n",
       "Name: count, dtype: int64"
      ]
     },
     "execution_count": 102,
     "metadata": {},
     "output_type": "execute_result"
    },
    {
     "data": {
      "text/plain": [
       "block\n",
       "시간        916\n",
       "비용        687\n",
       "관심도       522\n",
       "관련정보부족    390\n",
       "시설부족      193\n",
       "교통        153\n",
       "친구없음       88\n",
       "편의시설미비     51\n",
       "기타          7\n",
       "Name: count, dtype: int64"
      ]
     },
     "execution_count": 102,
     "metadata": {},
     "output_type": "execute_result"
    },
    {
     "data": {
      "text/plain": [
       "difficulty\n",
       "시간        923\n",
       "관심도       717\n",
       "관련정보부족    497\n",
       "비용        419\n",
       "시설부족      163\n",
       "교통        102\n",
       "편의시설미비     88\n",
       "친구없음       88\n",
       "기타         10\n",
       "Name: count, dtype: int64"
      ]
     },
     "execution_count": 102,
     "metadata": {},
     "output_type": "execute_result"
    },
    {
     "data": {
      "text/plain": [
       "expense\n",
       "영화        1495\n",
       "해당사항없음     976\n",
       "대중음악       189\n",
       "문학/미술      133\n",
       "연극/뮤지컬     105\n",
       "전통예술        39\n",
       "기타          30\n",
       "서양음악        27\n",
       "무용          13\n",
       "Name: count, dtype: int64"
      ]
     },
     "execution_count": 102,
     "metadata": {},
     "output_type": "execute_result"
    },
    {
     "data": {
      "text/plain": [
       "expense_f\n",
       "영화        1400\n",
       "대중음악       380\n",
       "해당사항없음     377\n",
       "연극/뮤지컬     316\n",
       "문학/미술      284\n",
       "전통예술       107\n",
       "기타          63\n",
       "서양음악        59\n",
       "무용          21\n",
       "Name: count, dtype: int64"
      ]
     },
     "execution_count": 102,
     "metadata": {},
     "output_type": "execute_result"
    }
   ],
   "source": [
    "# 코드값 변경이 필요한 열들의 변경 후 빈도값 출력\n",
    "for column in need_setting_columns:\n",
    "    CS_senior[column].value_counts(ascending=False)"
   ]
  },
  {
   "cell_type": "code",
   "execution_count": 103,
   "id": "c2143adf",
   "metadata": {},
   "outputs": [
    {
     "data": {
      "text/html": [
       "<div>\n",
       "<style scoped>\n",
       "    .dataframe tbody tr th:only-of-type {\n",
       "        vertical-align: middle;\n",
       "    }\n",
       "\n",
       "    .dataframe tbody tr th {\n",
       "        vertical-align: top;\n",
       "    }\n",
       "\n",
       "    .dataframe thead th {\n",
       "        text-align: right;\n",
       "    }\n",
       "</style>\n",
       "<table border=\"1\" class=\"dataframe\">\n",
       "  <thead>\n",
       "    <tr style=\"text-align: right;\">\n",
       "      <th></th>\n",
       "      <th>standard</th>\n",
       "      <th>block</th>\n",
       "      <th>difficulty</th>\n",
       "      <th>expense</th>\n",
       "      <th>expense_f</th>\n",
       "    </tr>\n",
       "  </thead>\n",
       "  <tbody>\n",
       "    <tr>\n",
       "      <th>0</th>\n",
       "      <td>컨텐츠 및 퀄리티</td>\n",
       "      <td>비용</td>\n",
       "      <td>관심도</td>\n",
       "      <td>영화</td>\n",
       "      <td>영화</td>\n",
       "    </tr>\n",
       "    <tr>\n",
       "      <th>1</th>\n",
       "      <td>비용</td>\n",
       "      <td>관련정보부족</td>\n",
       "      <td>비용</td>\n",
       "      <td>영화</td>\n",
       "      <td>문학/미술</td>\n",
       "    </tr>\n",
       "    <tr>\n",
       "      <th>6</th>\n",
       "      <td>비용</td>\n",
       "      <td>시간</td>\n",
       "      <td>편의시설미비</td>\n",
       "      <td>영화</td>\n",
       "      <td>영화</td>\n",
       "    </tr>\n",
       "    <tr>\n",
       "      <th>7</th>\n",
       "      <td>비용</td>\n",
       "      <td>교통</td>\n",
       "      <td>시간</td>\n",
       "      <td>해당사항없음</td>\n",
       "      <td>전통예술</td>\n",
       "    </tr>\n",
       "    <tr>\n",
       "      <th>9</th>\n",
       "      <td>작가 및 출연진</td>\n",
       "      <td>시간</td>\n",
       "      <td>시간</td>\n",
       "      <td>대중음악</td>\n",
       "      <td>연극/뮤지컬</td>\n",
       "    </tr>\n",
       "    <tr>\n",
       "      <th>...</th>\n",
       "      <td>...</td>\n",
       "      <td>...</td>\n",
       "      <td>...</td>\n",
       "      <td>...</td>\n",
       "      <td>...</td>\n",
       "    </tr>\n",
       "    <tr>\n",
       "      <th>30535</th>\n",
       "      <td>컨텐츠 및 퀄리티</td>\n",
       "      <td>관심도</td>\n",
       "      <td>관련정보부족</td>\n",
       "      <td>영화</td>\n",
       "      <td>영화</td>\n",
       "    </tr>\n",
       "    <tr>\n",
       "      <th>30538</th>\n",
       "      <td>비용</td>\n",
       "      <td>관련정보부족</td>\n",
       "      <td>관련정보부족</td>\n",
       "      <td>영화</td>\n",
       "      <td>영화</td>\n",
       "    </tr>\n",
       "    <tr>\n",
       "      <th>30540</th>\n",
       "      <td>비용</td>\n",
       "      <td>관심도</td>\n",
       "      <td>관심도</td>\n",
       "      <td>영화</td>\n",
       "      <td>영화</td>\n",
       "    </tr>\n",
       "    <tr>\n",
       "      <th>30746</th>\n",
       "      <td>비용</td>\n",
       "      <td>시간</td>\n",
       "      <td>시간</td>\n",
       "      <td>영화</td>\n",
       "      <td>영화</td>\n",
       "    </tr>\n",
       "    <tr>\n",
       "      <th>30750</th>\n",
       "      <td>비용</td>\n",
       "      <td>관심도</td>\n",
       "      <td>편의시설미비</td>\n",
       "      <td>전통예술</td>\n",
       "      <td>연극/뮤지컬</td>\n",
       "    </tr>\n",
       "  </tbody>\n",
       "</table>\n",
       "<p>3007 rows × 5 columns</p>\n",
       "</div>"
      ],
      "text/plain": [
       "        standard   block difficulty expense expense_f\n",
       "0      컨텐츠 및 퀄리티      비용        관심도      영화        영화\n",
       "1             비용  관련정보부족         비용      영화     문학/미술\n",
       "6             비용      시간     편의시설미비      영화        영화\n",
       "7             비용      교통         시간  해당사항없음      전통예술\n",
       "9       작가 및 출연진      시간         시간    대중음악    연극/뮤지컬\n",
       "...          ...     ...        ...     ...       ...\n",
       "30535  컨텐츠 및 퀄리티     관심도     관련정보부족      영화        영화\n",
       "30538         비용  관련정보부족     관련정보부족      영화        영화\n",
       "30540         비용     관심도        관심도      영화        영화\n",
       "30746         비용      시간         시간      영화        영화\n",
       "30750         비용     관심도     편의시설미비    전통예술    연극/뮤지컬\n",
       "\n",
       "[3007 rows x 5 columns]"
      ]
     },
     "execution_count": 103,
     "metadata": {},
     "output_type": "execute_result"
    }
   ],
   "source": [
    "# 문자로 바꿔준 데이터프레임 확인\n",
    "CS_senior"
   ]
  },
  {
   "cell_type": "code",
   "execution_count": 104,
   "id": "ca209a74",
   "metadata": {},
   "outputs": [
    {
     "data": {
      "text/plain": [
       "{'컨텐츠 및 퀄리티': 961,\n",
       " '비용': 750,\n",
       " '작가 및 출연진': 353,\n",
       " '접근성': 330,\n",
       " '교통': 289,\n",
       " '개최 장소의 유명도': 120,\n",
       " '주위 의견 및 네티즌 의견': 82,\n",
       " '전문가 의견 및 언론보도': 75,\n",
       " '편의시설여부': 44,\n",
       " '기타': 3}"
      ]
     },
     "execution_count": 104,
     "metadata": {},
     "output_type": "execute_result"
    },
    {
     "data": {
      "text/plain": [
       "{'시간': 916,\n",
       " '비용': 687,\n",
       " '관심도': 522,\n",
       " '관련정보부족': 390,\n",
       " '시설부족': 193,\n",
       " '교통': 153,\n",
       " '친구없음': 88,\n",
       " '편의시설미비': 51,\n",
       " '기타': 7}"
      ]
     },
     "execution_count": 104,
     "metadata": {},
     "output_type": "execute_result"
    },
    {
     "data": {
      "text/plain": [
       "{'시간': 923,\n",
       " '관심도': 717,\n",
       " '관련정보부족': 497,\n",
       " '비용': 419,\n",
       " '시설부족': 163,\n",
       " '교통': 102,\n",
       " '편의시설미비': 88,\n",
       " '친구없음': 88,\n",
       " '기타': 10}"
      ]
     },
     "execution_count": 104,
     "metadata": {},
     "output_type": "execute_result"
    },
    {
     "data": {
      "text/plain": [
       "{'영화': 1495,\n",
       " '해당사항없음': 976,\n",
       " '대중음악': 189,\n",
       " '문학/미술': 133,\n",
       " '연극/뮤지컬': 105,\n",
       " '전통예술': 39,\n",
       " '기타': 30,\n",
       " '서양음악': 27,\n",
       " '무용': 13}"
      ]
     },
     "execution_count": 104,
     "metadata": {},
     "output_type": "execute_result"
    },
    {
     "data": {
      "text/plain": [
       "{'영화': 1400,\n",
       " '대중음악': 380,\n",
       " '해당사항없음': 377,\n",
       " '연극/뮤지컬': 316,\n",
       " '문학/미술': 284,\n",
       " '전통예술': 107,\n",
       " '기타': 63,\n",
       " '서양음악': 59,\n",
       " '무용': 21}"
      ]
     },
     "execution_count": 104,
     "metadata": {},
     "output_type": "execute_result"
    }
   ],
   "source": [
    "# {'기준' : 개수} 로 딕셔너리 생성\n",
    "\n",
    "standard_dict = CS_senior['standard'].value_counts(ascending=False).to_dict()\n",
    "block_dict = CS_senior['block'].value_counts(ascending=False).to_dict()\n",
    "difficulty_dict = CS_senior['difficulty'].value_counts(ascending=False).to_dict()\n",
    "expense_dict = CS_senior['expense'].value_counts(ascending=False).to_dict()\n",
    "expense_f_dict = CS_senior['expense_f'].value_counts(ascending=False).to_dict()\n",
    "\n",
    "standard_dict\n",
    "block_dict\n",
    "difficulty_dict\n",
    "expense_dict\n",
    "expense_f_dict"
   ]
  },
  {
   "cell_type": "code",
   "execution_count": 106,
   "id": "8b8f67b0",
   "metadata": {},
   "outputs": [
    {
     "data": {
      "text/plain": [
       "<Figure size 500x500 with 0 Axes>"
      ]
     },
     "execution_count": 106,
     "metadata": {},
     "output_type": "execute_result"
    },
    {
     "data": {
      "text/plain": [
       "<matplotlib.image.AxesImage at 0x11bb8a170>"
      ]
     },
     "execution_count": 106,
     "metadata": {},
     "output_type": "execute_result"
    },
    {
     "data": {
      "text/plain": [
       "(-0.5, 400.5, 389.5, -0.5)"
      ]
     },
     "execution_count": 106,
     "metadata": {},
     "output_type": "execute_result"
    },
    {
     "data": {
      "image/png": "[encoded data removed]",
      "text/plain": [
       "<Figure size 500x500 with 1 Axes>"
      ]
     },
     "metadata": {},
     "output_type": "display_data"
    }
   ],
   "source": [
    "# standard_dict 워드클라우드 생성\n",
    "wordcloud = WordCloud(\n",
    "    font_path = '워드클라우드_이미지및폰트/malgun.ttf', # 한글 글씨체 설정\n",
    "    background_color='white', # 배경색은 흰색으로 \n",
    "    colormap='Dark2', # 글씨색\n",
    "    mask=cand_mask, # 워드클라우드 모양 설정\n",
    ").generate_from_frequencies(standard_dict)\n",
    "\n",
    "# 워드클라우드 출력\n",
    "# 사이즈 설정\n",
    "plt.figure(figsize=(5,5))\n",
    "plt.imshow(wordcloud, interpolation='bilinear')\n",
    "plt.axis('off') # 차트로 나오지 않게\n",
    "\n",
    "# 워드클라우드 이미지 저장\n",
    "# plt.savefig('test.png')"
   ]
  },
  {
   "cell_type": "code",
   "execution_count": 107,
   "id": "5dc3554c",
   "metadata": {},
   "outputs": [
    {
     "data": {
      "text/plain": [
       "<Figure size 500x500 with 0 Axes>"
      ]
     },
     "execution_count": 107,
     "metadata": {},
     "output_type": "execute_result"
    },
    {
     "data": {
      "text/plain": [
       "<matplotlib.image.AxesImage at 0x11ba8f190>"
      ]
     },
     "execution_count": 107,
     "metadata": {},
     "output_type": "execute_result"
    },
    {
     "data": {
      "text/plain": [
       "(-0.5, 400.5, 389.5, -0.5)"
      ]
     },
     "execution_count": 107,
     "metadata": {},
     "output_type": "execute_result"
    },
    {
     "data": {
      "image/png": "[encoded data removed]",
      "text/plain": [
       "<Figure size 500x500 with 1 Axes>"
      ]
     },
     "metadata": {},
     "output_type": "display_data"
    }
   ],
   "source": [
    "# block_dict 워드클라우드 생성\n",
    "wordcloud = WordCloud(\n",
    "    font_path = '워드클라우드_이미지및폰트/malgun.ttf', # 한글 글씨체 설정\n",
    "    background_color='white', # 배경색은 흰색으로 \n",
    "    colormap='Blues', # 글씨색\n",
    "    mask=cand_mask, # 워드클라우드 모양 설정\n",
    ").generate_from_frequencies(block_dict)\n",
    "\n",
    "# 워드클라우드 출력\n",
    "# 사이즈 설정\n",
    "plt.figure(figsize=(5,5))\n",
    "plt.imshow(wordcloud, interpolation='bilinear')\n",
    "plt.axis('off') # 차트로 나오지 않게\n",
    "\n",
    "# 워드클라우드 이미지 저장\n",
    "# plt.savefig('test.png')"
   ]
  },
  {
   "cell_type": "code",
   "execution_count": 108,
   "id": "9ea0a846",
   "metadata": {},
   "outputs": [
    {
     "data": {
      "text/plain": [
       "<Figure size 500x500 with 0 Axes>"
      ]
     },
     "execution_count": 108,
     "metadata": {},
     "output_type": "execute_result"
    },
    {
     "data": {
      "text/plain": [
       "<matplotlib.image.AxesImage at 0x11bae7d60>"
      ]
     },
     "execution_count": 108,
     "metadata": {},
     "output_type": "execute_result"
    },
    {
     "data": {
      "text/plain": [
       "(-0.5, 400.5, 389.5, -0.5)"
      ]
     },
     "execution_count": 108,
     "metadata": {},
     "output_type": "execute_result"
    },
    {
     "data": {
      "image/png": "[encoded data removed]",
      "text/plain": [
       "<Figure size 500x500 with 1 Axes>"
      ]
     },
     "metadata": {},
     "output_type": "display_data"
    }
   ],
   "source": [
    "# difficulty_dict 워드클라우드 생성\n",
    "wordcloud = WordCloud(\n",
    "    font_path = '워드클라우드_이미지및폰트/malgun.ttf', # 한글 글씨체 설정\n",
    "    background_color='white', # 배경색은 흰색으로 \n",
    "    colormap='Blues', # 글씨색\n",
    "    mask=cand_mask, # 워드클라우드 모양 설정\n",
    ").generate_from_frequencies(difficulty_dict)\n",
    "\n",
    "# 워드클라우드 출력\n",
    "# 사이즈 설정\n",
    "plt.figure(figsize=(5,5))\n",
    "plt.imshow(wordcloud, interpolation='bilinear')\n",
    "plt.axis('off') # 차트로 나오지 않게\n",
    "\n",
    "# 워드클라우드 이미지 저장\n",
    "# plt.savefig('test.png')"
   ]
  },
  {
   "cell_type": "code",
   "execution_count": 109,
   "id": "54274394",
   "metadata": {},
   "outputs": [],
   "source": [
    "# 딕셔너리에 '해당사항없음' value 제거\n",
    "del expense_dict['해당사항없음']"
   ]
  },
  {
   "cell_type": "code",
   "execution_count": 110,
   "id": "d774c54c",
   "metadata": {},
   "outputs": [
    {
     "data": {
      "text/plain": [
       "<Figure size 500x500 with 0 Axes>"
      ]
     },
     "execution_count": 110,
     "metadata": {},
     "output_type": "execute_result"
    },
    {
     "data": {
      "text/plain": [
       "<matplotlib.image.AxesImage at 0x11b857cd0>"
      ]
     },
     "execution_count": 110,
     "metadata": {},
     "output_type": "execute_result"
    },
    {
     "data": {
      "text/plain": [
       "(-0.5, 400.5, 389.5, -0.5)"
      ]
     },
     "execution_count": 110,
     "metadata": {},
     "output_type": "execute_result"
    },
    {
     "data": {
      "image/png": "[encoded data removed]",
      "text/plain": [
       "<Figure size 500x500 with 1 Axes>"
      ]
     },
     "metadata": {},
     "output_type": "display_data"
    }
   ],
   "source": [
    "# expense_dict 워드클라우드 생성\n",
    "wordcloud = WordCloud(\n",
    "    font_path = '워드클라우드_이미지및폰트/malgun.ttf', # 한글 글씨체 설정\n",
    "    background_color='white', # 배경색은 흰색으로 \n",
    "    colormap='Reds', # 글씨색\n",
    "    mask=cand_mask, # 워드클라우드 모양 설정\n",
    ").generate_from_frequencies(expense_dict)\n",
    "\n",
    "# 워드클라우드 출력\n",
    "# 사이즈 설정\n",
    "plt.figure(figsize=(5,5))\n",
    "plt.imshow(wordcloud, interpolation='bilinear')\n",
    "plt.axis('off') # 차트로 나오지 않게\n",
    "\n",
    "# 워드클라우드 이미지 저장\n",
    "# plt.savefig('test.png')"
   ]
  },
  {
   "cell_type": "code",
   "execution_count": 112,
   "id": "7f5e8a1f",
   "metadata": {},
   "outputs": [],
   "source": [
    "# 딕셔너리에 '해당사항없음' value 제거\n",
    "del expense_f_dict['해당사항없음']"
   ]
  },
  {
   "cell_type": "code",
   "execution_count": 113,
   "id": "e1b89987",
   "metadata": {},
   "outputs": [
    {
     "data": {
      "text/plain": [
       "<Figure size 500x500 with 0 Axes>"
      ]
     },
     "execution_count": 113,
     "metadata": {},
     "output_type": "execute_result"
    },
    {
     "data": {
      "text/plain": [
       "<matplotlib.image.AxesImage at 0x11bae4670>"
      ]
     },
     "execution_count": 113,
     "metadata": {},
     "output_type": "execute_result"
    },
    {
     "data": {
      "text/plain": [
       "(-0.5, 400.5, 389.5, -0.5)"
      ]
     },
     "execution_count": 113,
     "metadata": {},
     "output_type": "execute_result"
    },
    {
     "data": {
      "image/png": "[encoded data removed]",
      "text/plain": [
       "<Figure size 500x500 with 1 Axes>"
      ]
     },
     "metadata": {},
     "output_type": "display_data"
    }
   ],
   "source": [
    "# expense_f_dict 워드클라우드 생성\n",
    "wordcloud = WordCloud(\n",
    "    font_path = '워드클라우드_이미지및폰트/malgun.ttf', # 한글 글씨체 설정\n",
    "    background_color='white', # 배경색은 흰색으로 \n",
    "    colormap='Reds', # 글씨색\n",
    "    mask=cand_mask, # 워드클라우드 모양 설정\n",
    ").generate_from_frequencies(expense_f_dict)\n",
    "\n",
    "# 워드클라우드 출력\n",
    "# 사이즈 설정\n",
    "plt.figure(figsize=(5,5))\n",
    "plt.imshow(wordcloud, interpolation='bilinear')\n",
    "plt.axis('off') # 차트로 나오지 않게\n",
    "\n",
    "# 워드클라우드 이미지 저장\n",
    "# plt.savefig('test.png')"
   ]
  },
  {
   "cell_type": "code",
   "execution_count": null,
   "id": "7cbee024",
   "metadata": {},
   "outputs": [],
   "source": []
  },
  {
   "cell_type": "code",
   "execution_count": null,
   "id": "99edcabd",
   "metadata": {},
   "outputs": [],
   "source": []
  }
 ],
 "metadata": {
  "kernelspec": {
   "display_name": "Python 3 (ipykernel)",
   "language": "python",
   "name": "python3"
  },
  "language_info": {
   "codemirror_mode": {
    "name": "ipython",
    "version": 3
   },
   "file_extension": ".py",
   "mimetype": "text/x-python",
   "name": "python",
   "nbconvert_exporter": "python",
   "pygments_lexer": "ipython3",
   "version": "3.10.10"
  }
 },
 "nbformat": 4,
 "nbformat_minor": 5
}
