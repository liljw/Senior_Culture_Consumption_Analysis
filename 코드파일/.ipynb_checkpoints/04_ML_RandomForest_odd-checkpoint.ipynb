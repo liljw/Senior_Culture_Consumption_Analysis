{
 "cells": [
  {
   "cell_type": "markdown",
   "id": "765b11e4",
   "metadata": {},
   "source": [
    "# 김가네 팀플 (5) 머신러닝 - 랜덤포레스트_ 230622\n",
    "- 팀원 별로 분담해서 분석 진행"
   ]
  },
  {
   "cell_type": "code",
   "execution_count": 1,
   "id": "dc9be3d2",
   "metadata": {},
   "outputs": [],
   "source": [
    "from IPython.core.interactiveshell import InteractiveShell\n",
    "InteractiveShell.ast_node_interactivity=\"all\""
   ]
  },
  {
   "cell_type": "code",
   "execution_count": 2,
   "id": "a5d80b2a",
   "metadata": {},
   "outputs": [],
   "source": [
    "import numpy as np\n",
    "import pandas as pd\n",
    "import seaborn as sns\n",
    "import matplotlib.pyplot as plt\n",
    "%matplotlib inline"
   ]
  },
  {
   "cell_type": "code",
   "execution_count": 3,
   "id": "e96c3dc2",
   "metadata": {},
   "outputs": [],
   "source": [
    "pd.set_option('mode.chained_assignment',  None)"
   ]
  },
  {
   "cell_type": "code",
   "execution_count": 4,
   "id": "580dbb1e",
   "metadata": {},
   "outputs": [],
   "source": [
    "%%html\n",
    "<style>\n",
    ".output_stderr {\n",
    "    display: none;\n",
    "}\n",
    "</style>"
   ]
  },
  {
   "cell_type": "code",
   "execution_count": 5,
   "id": "c287294e",
   "metadata": {},
   "outputs": [],
   "source": [
    "# 전처리 완료된 데이터 파일 불러오기\n",
    "CS = pd.read_csv('../data/CS.csv', encoding='euc-kr')\n",
    "CS.info()\n",
    "CS"
   ]
  },
  {
   "cell_type": "markdown",
   "id": "fa803836",
   "metadata": {},
   "source": [
    "## 데이터 전처리\n",
    "- 연령대는 50-60대(시니어)만 필터링\n",
    "- 시도는 서울특별시-경기도(수도권)만 필터링\n",
    "\n",
    "### 코드 기준 축소\n",
    "- expense열과 expense_f열 카테고리가 너무 많은 것을 우려,  \n",
    "- 같은 분야별로 코드 기준 축소\n",
    "\n",
    "### 연속형 종속변수 범주형으로 변경\n",
    "- view_cnt 열을 범주형으로 변경하여 진행\n",
    "\n",
    "---\n",
    "\n",
    "## 랜덤포레스트 분류 분석을 위해 추가 전처리\n",
    "- 위의 전처리 과정은 군집화를 할 때 해줬던 전처리 과정과 동일\n",
    "- 머신러닝 학습을 위해 문자열데이터는 다시 숫자로 레이블링 진행\n",
    "- expense열과 expense_f열은 다시 코드 변경 함수 실행\n",
    "- view_cnt 열은 pd.cut()이용하여 카테고리화 진행할 때 labels를 문자가 아니라 숫자로 변경"
   ]
  },
  {
   "cell_type": "code",
   "execution_count": 6,
   "id": "6b3948ab",
   "metadata": {},
   "outputs": [],
   "source": [
    "# 랜덤포레스트를 위한 데이터프레임 추출\n",
    "CS_rf = CS.copy()\n",
    "CS_rf"
   ]
  },
  {
   "cell_type": "markdown",
   "id": "f8335a70",
   "metadata": {},
   "source": [
    "### 비용 지출 관련 2개 열 코드 기준 축소\n",
    "- expense : 과거에 지출했던 문화예술행사 분야\n",
    "- expense_f : 미래에 지출할 의향이 있는 분야"
   ]
  },
  {
   "cell_type": "markdown",
   "id": "5324298f",
   "metadata": {},
   "source": [
    "### 변경된 카테고리 info\n",
    "- 1 : '문학/미술'\n",
    "- 2 : '서양음악'\n",
    "- 3 : '전통예술'\n",
    "- 4 : '연극/뮤지컬'\n",
    "- 5 : '무용'\n",
    "- 6 : '영화'\n",
    "- 7 : '대중음악'\n",
    "- 8 : '기타'\n",
    "- 9 : '해당사항없음'\n"
   ]
  },
  {
   "cell_type": "code",
   "execution_count": 7,
   "id": "e09ada4d",
   "metadata": {},
   "outputs": [],
   "source": [
    "# 축소 전 코드 기준\n",
    "expense_words = {\n",
    "    1:'문학',\n",
    "    2:'미술',\n",
    "    3:'서양음악',\n",
    "    4:'전통예술',\n",
    "    5:'연극/뮤지컬',\n",
    "    6:'무용',\n",
    "    7:'영화',\n",
    "    8:'대중음악',\n",
    "    9:'전시회',\n",
    "    10:'서양음악',\n",
    "    11:'전통예술',\n",
    "    12:'연극/뮤지컬',\n",
    "    13:'무용',\n",
    "    14:'영화',\n",
    "    15:'대중음악',\n",
    "    16:'기타',\n",
    "    17:'해당사항없음'\n",
    "}"
   ]
  },
  {
   "cell_type": "code",
   "execution_count": 8,
   "id": "b097b0cc",
   "metadata": {},
   "outputs": [],
   "source": [
    "# 바꿀 코드 기준\n",
    "expense_newctg = {\n",
    "    1:'문학/미술',\n",
    "    2:'문학/미술',\n",
    "    3:'서양음악',\n",
    "    4:'전통예술',\n",
    "    5:'연극/뮤지컬',\n",
    "    6:'무용',\n",
    "    7:'영화',\n",
    "    8:'대중음악',\n",
    "    9:'문학/미술',\n",
    "    10:'서양음악',\n",
    "    11:'전통예술',\n",
    "    12:'연극/뮤지컬',\n",
    "    13:'무용',\n",
    "    14:'영화',\n",
    "    15:'대중음악',\n",
    "    16:'기타',\n",
    "    17:'해당사항없음'\n",
    "}"
   ]
  },
  {
   "cell_type": "code",
   "execution_count": 9,
   "id": "6798ff15",
   "metadata": {},
   "outputs": [],
   "source": [
    "# 코드 변경이 필요한 열 이름\n",
    "need_setting_columns = [\n",
    "    'expense',\n",
    "    'expense_f'\n",
    "]"
   ]
  },
  {
   "cell_type": "code",
   "execution_count": 10,
   "id": "ee56e843",
   "metadata": {},
   "outputs": [],
   "source": [
    "# 코드값 변경이 필요한 열들의 변경 전 빈도값 출력\n",
    "for column in need_setting_columns:\n",
    "    CS_rf[column].value_counts(ascending=False)"
   ]
  },
  {
   "cell_type": "code",
   "execution_count": 11,
   "id": "b3dc522a",
   "metadata": {},
   "outputs": [],
   "source": [
    "# 위에서 만들어준 딕셔너리 하나의 리스트로 묶기\n",
    "setting_codes = [expense_newctg, expense_newctg]"
   ]
  },
  {
   "cell_type": "code",
   "execution_count": 12,
   "id": "b30cb147",
   "metadata": {},
   "outputs": [],
   "source": [
    "# 코드 변경 함수 선언\n",
    "def get_list_setting_column(column, setting_prev_next):\n",
    "    setting_done_list = []\n",
    "    \n",
    "    for code_value in column:\n",
    "        setting_done_list.append(setting_prev_next[code_value])\n",
    "    \n",
    "    return setting_done_list"
   ]
  },
  {
   "cell_type": "code",
   "execution_count": 13,
   "id": "9cdfa6eb",
   "metadata": {},
   "outputs": [],
   "source": [
    "# 코드 변경이 필요한 모든 열에 대해 코드 변경\n",
    "for i, column in enumerate(need_setting_columns):\n",
    "    CS_rf[column] = get_list_setting_column(CS_rf[column], setting_codes[i])"
   ]
  },
  {
   "cell_type": "code",
   "execution_count": 14,
   "id": "e1dfb080",
   "metadata": {},
   "outputs": [],
   "source": [
    "# 코드값 변경이 필요한 열들의 변경 후 빈도값 출력\n",
    "for column in need_setting_columns:\n",
    "    CS_rf[column].value_counts(ascending=False)"
   ]
  },
  {
   "cell_type": "markdown",
   "id": "84e2e8a8",
   "metadata": {},
   "source": [
    "### 머신러닝 학습을 위해 문자형 기준을 다시 수치형으로 변경!!\n",
    "- '문학/미술' : 1\n",
    "- '서양음악' : 2\n",
    "- '전통예술' : 3\n",
    "- '연극/뮤지컬' : 4\n",
    "- '무용' : 5\n",
    "- '영화' : 6\n",
    "- '대중음악' : 7\n",
    "- '기타' : 8\n",
    "- '해당사항없음' : 9"
   ]
  },
  {
   "cell_type": "code",
   "execution_count": 15,
   "id": "db2e519a",
   "metadata": {},
   "outputs": [],
   "source": [
    "# 코드 변경이 필요한 열 이름\n",
    "need_setting_columns = [\n",
    "    'expense',\n",
    "    'expense_f'\n",
    "]"
   ]
  },
  {
   "cell_type": "code",
   "execution_count": 16,
   "id": "725e4083",
   "metadata": {},
   "outputs": [],
   "source": [
    "# 다시 수치형으로 바꿀 코드 기준\n",
    "expense_newctg_final = {\n",
    "    '문학/미술' : 1,\n",
    "    '서양음악' : 2,\n",
    "    '전통예술' : 3,\n",
    "    '연극/뮤지컬' : 4,\n",
    "    '무용' : 5,\n",
    "    '영화' : 6,\n",
    "    '대중음악' : 7,\n",
    "    '기타' : 8,\n",
    "    '해당사항없음' : 9\n",
    "}"
   ]
  },
  {
   "cell_type": "code",
   "execution_count": 17,
   "id": "31345569",
   "metadata": {},
   "outputs": [],
   "source": [
    "# 위에서 만들어준 딕셔너리 하나의 리스트로 묶기\n",
    "setting_codes = [expense_newctg_final, expense_newctg_final]"
   ]
  },
  {
   "cell_type": "code",
   "execution_count": 18,
   "id": "ee732fb6",
   "metadata": {},
   "outputs": [],
   "source": [
    "# 코드 변경이 필요한 모든 열에 대해 코드 변경\n",
    "for i, column in enumerate(need_setting_columns):\n",
    "    CS_rf[column] = get_list_setting_column(CS_rf[column], setting_codes[i])"
   ]
  },
  {
   "cell_type": "code",
   "execution_count": 19,
   "id": "29cdb3ff",
   "metadata": {},
   "outputs": [],
   "source": [
    "# 코드값 변경이 필요한 열들의 변경 후 빈도값 출력\n",
    "for column in need_setting_columns:\n",
    "    CS_rf[column].value_counts(ascending=False)"
   ]
  },
  {
   "cell_type": "code",
   "execution_count": 20,
   "id": "514b982a",
   "metadata": {},
   "outputs": [],
   "source": [
    "# 범주 축소 완료된 데이터프레임 확인\n",
    "CS_rf"
   ]
  },
  {
   "cell_type": "markdown",
   "id": "215bfcda",
   "metadata": {},
   "source": [
    "### 기타 전처리 진행\n",
    "- 연령대는 50-60대(시니어)만 필터링\n",
    "- 시도는 서울특별시-경기도(수도권)만 필터링"
   ]
  },
  {
   "cell_type": "code",
   "execution_count": 21,
   "id": "7129673d",
   "metadata": {},
   "outputs": [],
   "source": [
    "# 연령대 50, 60대만 포함\n",
    "CS_rf = CS_rf[(CS_rf['age'] == 5) | (CS_rf['age'] == 6)]"
   ]
  },
  {
   "cell_type": "code",
   "execution_count": 22,
   "id": "9407453f",
   "metadata": {},
   "outputs": [],
   "source": [
    "# 시도 서울, 경기만 포함\n",
    "CS_rf = CS_rf[(CS_rf['sido'] == 1) | (CS_rf['sido'] == 9)]"
   ]
  },
  {
   "cell_type": "markdown",
   "id": "a023294a",
   "metadata": {},
   "source": [
    "### 머신러닝 학습 전 최종 전처리 완료된 데이터프레임 확인\n",
    "- 데이터 개수 :  2144"
   ]
  },
  {
   "cell_type": "code",
   "execution_count": 23,
   "id": "0dfa889d",
   "metadata": {},
   "outputs": [],
   "source": [
    "CS_rf"
   ]
  },
  {
   "cell_type": "markdown",
   "id": "7c088267",
   "metadata": {},
   "source": [
    "---\n",
    "\n",
    "## 랜덤포레스트 학습 및 예측 진행\n",
    "1. train_test_split 이용해서 train 데이터와 test 데이터 나누기\n",
    "2. 의사결정나무(결정트리) 먼저 사용해서 모델 성능(정확도) 확인\n",
    "3. 랜덤포레스트 사용해서 모델 성능(정확도)확인"
   ]
  },
  {
   "cell_type": "markdown",
   "id": "5af9f3d2",
   "metadata": {},
   "source": [
    "---\n",
    "## Target 데이터 범주 축소 : 8개 --> 3개\n",
    "- 타겟 범주 기준 통일\n",
    "- [상, 중, 하] 총 3개의 카테고리로 관람횟수(참여도) 범주 분리\n",
    "- 참여도(하) : 최솟값 ~ 제 1 사분위수\n",
    "- 참여도(중) : 제 1 사분위수 ~ 평균\n",
    "- 참여도(상) : 평균 ~ 최댓값"
   ]
  },
  {
   "cell_type": "code",
   "execution_count": 24,
   "id": "ed537626",
   "metadata": {},
   "outputs": [],
   "source": [
    "# 기존 데이터에 대한 기초통계량 출력\n",
    "CS['view_cnt'].describe()"
   ]
  },
  {
   "cell_type": "code",
   "execution_count": 25,
   "id": "ebc7ee04",
   "metadata": {},
   "outputs": [],
   "source": [
    "# target 범주화\n",
    "target_min = min(CS['view_cnt'])\n",
    "target_max = max(CS['view_cnt'])\n",
    "\n",
    "target_ranges = [target_min-1, 7, 25, target_max]\n",
    "labels = [1, 2, 3]\n",
    "CS_rf['target'] = pd.cut(CS['view_cnt'], bins=target_ranges, labels=labels)"
   ]
  },
  {
   "cell_type": "code",
   "execution_count": 26,
   "id": "9d692f73",
   "metadata": {},
   "outputs": [],
   "source": [
    "# 범주화 확인\n",
    "CS_rf['target'].value_counts().sort_index()"
   ]
  },
  {
   "cell_type": "markdown",
   "id": "02bf0378",
   "metadata": {},
   "source": [
    "### train, test 데이터 분리\n",
    "### 분리 전 'sido', 'age' 열 삭제!!"
   ]
  },
  {
   "cell_type": "code",
   "execution_count": 27,
   "id": "853b84c0",
   "metadata": {},
   "outputs": [],
   "source": [
    "# 분리 전 데이터프레임 확인\n",
    "CS_rf"
   ]
  },
  {
   "cell_type": "code",
   "execution_count": 28,
   "id": "ae61a415",
   "metadata": {},
   "outputs": [],
   "source": [
    "# 피처 데이터 세트 / 타겟 데이터 세트 만들기\n",
    "CS_X_df = CS_rf.drop(columns=['target', 'sido', 'age'], axis=1)\n",
    "CS_y_df = CS_rf['target']\n",
    "\n",
    "# 피쳐 데이터 세트 / 타겟 데이터 세트 확인\n",
    "CS_X_df\n",
    "CS_y_df"
   ]
  },
  {
   "cell_type": "code",
   "execution_count": 29,
   "id": "2a46dc19",
   "metadata": {},
   "outputs": [],
   "source": [
    "# 학습 / 테스트 데이터 세트 분리\n",
    "from sklearn.model_selection import train_test_split\n",
    "\n",
    "X_train, X_test, y_train, y_test = train_test_split(CS_X_df,\n",
    "                                                   CS_y_df,\n",
    "                                                   test_size=0.3,\n",
    "                                                   random_state=11)"
   ]
  },
  {
   "cell_type": "code",
   "execution_count": 30,
   "id": "c59423c5",
   "metadata": {},
   "outputs": [],
   "source": [
    "# 랜덤포레스트 모델 생성\n",
    "from sklearn.ensemble import RandomForestClassifier\n",
    "from sklearn.metrics import accuracy_score\n",
    "\n",
    "rf_clf = RandomForestClassifier(random_state=0, n_estimators=300)\n",
    "\n",
    "rf_clf.fit(X_train, y_train)\n",
    "y_pred = rf_clf.predict(X_test)\n",
    "\n",
    "print('랜덤 포레스트 예측 정확도 : {0:.4f}'.format(accuracy_score(y_test, y_pred)))"
   ]
  },
  {
   "cell_type": "markdown",
   "id": "0496d6cf",
   "metadata": {},
   "source": [
    "### 범주 축소된 모델로 하이퍼 파라미터 튜닝 진행"
   ]
  },
  {
   "cell_type": "code",
   "execution_count": 31,
   "id": "c345deab",
   "metadata": {},
   "outputs": [],
   "source": [
    "# 하이퍼 파라미터 튜닝 \n",
    "from sklearn.model_selection import GridSearchCV\n",
    "\n",
    "params = {\n",
    "    'n_estimators' : [100, 200, 300],\n",
    "    'max_depth' : [5,6,7,8],\n",
    "    'min_samples_split' : [4,5,6],\n",
    "    'min_samples_leaf' : [2,3,4]\n",
    "}\n",
    "\n",
    "grid_rclf = GridSearchCV(rf_clf, param_grid=params, scoring='accuracy', cv=5)\n",
    "\n",
    "grid_rclf.fit(X_train, y_train)\n",
    "\n",
    "print('최적 하이퍼 파라미터 : ', grid_rclf.best_params_)\n",
    "print('최적 하이퍼 파라미터의 최고 정확도 : {0:.4f}'.format(grid_rclf.best_score_))\n",
    "\n",
    "best_rclf = grid_rclf.best_estimator_\n",
    "\n",
    "y_pred = best_rclf.predict(X_test)\n",
    "\n",
    "print('튜닝 후 정확도 : {0:.4f}'.format(accuracy_score(y_test, y_pred)))"
   ]
  },
  {
   "cell_type": "code",
   "execution_count": 32,
   "id": "3cd141e0",
   "metadata": {},
   "outputs": [],
   "source": [
    "# 최적 하이퍼 파라미터 :  {'max_depth': 8, 'min_samples_leaf': 6, 'min_samples_split': 6, 'n_estimators': 100}\n",
    "# 최적 하이퍼 파라미터의 최고 정확도 : 0.5133\n",
    "# 튜닝 후 정확도 : 0.5450"
   ]
  },
  {
   "cell_type": "code",
   "execution_count": 33,
   "id": "1629dde6",
   "metadata": {},
   "outputs": [],
   "source": [
    "# 최적 하이퍼 파라미터 :  {'max_depth': 7, 'min_samples_leaf': 2, 'min_samples_split': 4, 'n_estimators': 200}\n",
    "# 최적 하이퍼 파라미터의 최고 정확도 : 0.5180\n",
    "# 튜닝 후 정확도 : 0.5466"
   ]
  },
  {
   "cell_type": "markdown",
   "id": "fcde22f8",
   "metadata": {},
   "source": [
    "#### 튜닝된 하이퍼 파라미터로 다시 학습/예측/평가 수행"
   ]
  },
  {
   "cell_type": "code",
   "execution_count": 34,
   "id": "4a26654b",
   "metadata": {},
   "outputs": [],
   "source": [
    "rf_clf = RandomForestClassifier(n_estimators=200,\n",
    "                                max_depth=7,\n",
    "                               min_samples_leaf=2,\n",
    "                               min_samples_split=4)\n",
    "\n",
    "rf_clf.fit(X_train, y_train)\n",
    "y_pred = rf_clf.predict(X_test)\n",
    "\n",
    "print('최적 정확도 : {0:.4f}'.format(accuracy_score(y_test, y_pred)))"
   ]
  },
  {
   "cell_type": "markdown",
   "id": "6714b585",
   "metadata": {},
   "source": [
    "### 개별 feature들의 중요도 시각화"
   ]
  },
  {
   "cell_type": "code",
   "execution_count": 35,
   "id": "187b9824",
   "metadata": {},
   "outputs": [],
   "source": [
    "# 피처 중요도가 높은 20개의 피처만 \n",
    "f_imp = rf_clf.feature_importances_\n",
    "feature_importances = pd.Series(f_imp, index=X_train.columns).sort_values(ascending=False)\n",
    "feature_importances = feature_importances[:20]\n",
    "\n",
    "sns.barplot(x=feature_importances, y=feature_importances.index)"
   ]
  },
  {
   "cell_type": "markdown",
   "id": "2949b88c",
   "metadata": {},
   "source": [
    "#### 가장 변별력이 높은 feature는 소득(income)이다."
   ]
  },
  {
   "cell_type": "markdown",
   "id": "6401188d",
   "metadata": {},
   "source": [
    "## 예측값 데이터셋에 가공열로 추가"
   ]
  },
  {
   "cell_type": "code",
   "execution_count": 36,
   "id": "2ec32650",
   "metadata": {},
   "outputs": [],
   "source": [
    "# 예측값 생성\n",
    "y_pred = rf_clf.predict(CS_X_df)"
   ]
  },
  {
   "cell_type": "code",
   "execution_count": 37,
   "id": "968766d5",
   "metadata": {},
   "outputs": [],
   "source": [
    "# 저장할 데이터셋 복사\n",
    "CS_pred = CS.copy()"
   ]
  },
  {
   "cell_type": "code",
   "execution_count": 38,
   "id": "7a04e899",
   "metadata": {},
   "outputs": [],
   "source": [
    "CS_pred"
   ]
  },
  {
   "cell_type": "code",
   "execution_count": 39,
   "id": "c0389fa4",
   "metadata": {},
   "outputs": [],
   "source": [
    "# 연령대 50, 60대만 포함\n",
    "CS_pred = CS_pred[(CS_pred['age'] == 5) | (CS_pred['age'] == 6)]"
   ]
  },
  {
   "cell_type": "code",
   "execution_count": 40,
   "id": "055a8f91",
   "metadata": {},
   "outputs": [],
   "source": [
    "# 시도 서울, 경기만 포함\n",
    "CS_pred = CS_pred[(CS_pred['sido'] == 1) | (CS_pred['sido'] == 9)]"
   ]
  },
  {
   "cell_type": "code",
   "execution_count": 41,
   "id": "5fd2ce75",
   "metadata": {},
   "outputs": [],
   "source": [
    "# 예측값 가공열 생성\n",
    "CS_pred['pred'] = y_pred"
   ]
  },
  {
   "cell_type": "code",
   "execution_count": 42,
   "id": "eebef18c",
   "metadata": {},
   "outputs": [],
   "source": [
    "# 타겟값 가공열 생성\n",
    "CS_pred['target'] = CS_y_df"
   ]
  },
  {
   "cell_type": "code",
   "execution_count": 43,
   "id": "3728aa68",
   "metadata": {},
   "outputs": [],
   "source": [
    "# 머신러닝 완료된 최종 데이터프레임 확인\n",
    "CS_pred"
   ]
  },
  {
   "cell_type": "code",
   "execution_count": 44,
   "id": "600dfe40",
   "metadata": {},
   "outputs": [],
   "source": [
    "# 파일로 저장\n",
    "# CS_pred.to_csv('CS_pred.csv', index=False)"
   ]
  },
  {
   "cell_type": "code",
   "execution_count": null,
   "id": "3cd2deee",
   "metadata": {},
   "outputs": [],
   "source": []
  }
 ],
 "metadata": {
  "kernelspec": {
   "display_name": "Python 3 (ipykernel)",
   "language": "python",
   "name": "python3"
  },
  "language_info": {
   "codemirror_mode": {
    "name": "ipython",
    "version": 3
   },
   "file_extension": ".py",
   "mimetype": "text/x-python",
   "name": "python",
   "nbconvert_exporter": "python",
   "pygments_lexer": "ipython3",
   "version": "3.10.10"
  }
 },
 "nbformat": 4,
 "nbformat_minor": 5
}
